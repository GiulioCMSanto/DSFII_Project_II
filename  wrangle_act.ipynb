{
 "cells": [
  {
   "cell_type": "markdown",
   "metadata": {},
   "source": [
    "# Data Science Foundations II Nanodegree Program\n",
    "### Project 2: WeRateDogs - Data Wrangling\n",
    "#### Student: Giulio Cesare Mastrocinque Santo\n"
   ]
  },
  {
   "cell_type": "code",
   "execution_count": 1,
   "metadata": {},
   "outputs": [],
   "source": [
    "import pandas as pd\n",
    "import numpy as np\n",
    "import requests\n",
    "import os\n",
    "import tweepy\n",
    "import json\n",
    "from timeit import default_timer as timer\n",
    "from PIL import Image\n",
    "from io import BytesIO\n",
    "import seaborn as sns\n",
    "import wordcloud\n",
    "import matplotlib.pyplot as plt\n",
    "import matplotlib.image as mpimg\n",
    "%matplotlib inline"
   ]
  },
  {
   "cell_type": "markdown",
   "metadata": {},
   "source": [
    "### Gathering Data"
   ]
  },
  {
   "cell_type": "markdown",
   "metadata": {},
   "source": [
    "In this project, data will be gathered from three different sources:\n",
    "- A .csv file (twitter_archive_enhanced.csv) given in the course;\n",
    "- Udacity's servers (URL:  https://d17h27t6h515a5.cloudfront.net/topher/2017/August/599fd2ad_image-predictions/image-predictions.tsv );\n",
    "- Twitter API;"
   ]
  },
  {
   "cell_type": "markdown",
   "metadata": {},
   "source": [
    "**A .csv file (twitter_archive_enhanced.csv) given in the course**"
   ]
  },
  {
   "cell_type": "code",
   "execution_count": 2,
   "metadata": {},
   "outputs": [],
   "source": [
    "#Opening the .csv file and addressing it to a dataframe\n",
    "twitter_archive = pd.read_csv(\"twitter_archive_enhanced.csv\")"
   ]
  },
  {
   "cell_type": "code",
   "execution_count": 3,
   "metadata": {
    "scrolled": true
   },
   "outputs": [
    {
     "data": {
      "text/html": [
       "<div>\n",
       "<style scoped>\n",
       "    .dataframe tbody tr th:only-of-type {\n",
       "        vertical-align: middle;\n",
       "    }\n",
       "\n",
       "    .dataframe tbody tr th {\n",
       "        vertical-align: top;\n",
       "    }\n",
       "\n",
       "    .dataframe thead th {\n",
       "        text-align: right;\n",
       "    }\n",
       "</style>\n",
       "<table border=\"1\" class=\"dataframe\">\n",
       "  <thead>\n",
       "    <tr style=\"text-align: right;\">\n",
       "      <th></th>\n",
       "      <th>tweet_id</th>\n",
       "      <th>in_reply_to_status_id</th>\n",
       "      <th>in_reply_to_user_id</th>\n",
       "      <th>timestamp</th>\n",
       "      <th>source</th>\n",
       "      <th>text</th>\n",
       "      <th>retweeted_status_id</th>\n",
       "      <th>retweeted_status_user_id</th>\n",
       "      <th>retweeted_status_timestamp</th>\n",
       "      <th>expanded_urls</th>\n",
       "      <th>rating_numerator</th>\n",
       "      <th>rating_denominator</th>\n",
       "      <th>name</th>\n",
       "      <th>doggo</th>\n",
       "      <th>floofer</th>\n",
       "      <th>pupper</th>\n",
       "      <th>puppo</th>\n",
       "    </tr>\n",
       "  </thead>\n",
       "  <tbody>\n",
       "    <tr>\n",
       "      <th>0</th>\n",
       "      <td>892420643555336193</td>\n",
       "      <td>NaN</td>\n",
       "      <td>NaN</td>\n",
       "      <td>2017-08-01 16:23:56 +0000</td>\n",
       "      <td>&lt;a href=\"http://twitter.com/download/iphone\" r...</td>\n",
       "      <td>This is Phineas. He's a mystical boy. Only eve...</td>\n",
       "      <td>NaN</td>\n",
       "      <td>NaN</td>\n",
       "      <td>NaN</td>\n",
       "      <td>https://twitter.com/dog_rates/status/892420643...</td>\n",
       "      <td>13</td>\n",
       "      <td>10</td>\n",
       "      <td>Phineas</td>\n",
       "      <td>None</td>\n",
       "      <td>None</td>\n",
       "      <td>None</td>\n",
       "      <td>None</td>\n",
       "    </tr>\n",
       "    <tr>\n",
       "      <th>1</th>\n",
       "      <td>892177421306343426</td>\n",
       "      <td>NaN</td>\n",
       "      <td>NaN</td>\n",
       "      <td>2017-08-01 00:17:27 +0000</td>\n",
       "      <td>&lt;a href=\"http://twitter.com/download/iphone\" r...</td>\n",
       "      <td>This is Tilly. She's just checking pup on you....</td>\n",
       "      <td>NaN</td>\n",
       "      <td>NaN</td>\n",
       "      <td>NaN</td>\n",
       "      <td>https://twitter.com/dog_rates/status/892177421...</td>\n",
       "      <td>13</td>\n",
       "      <td>10</td>\n",
       "      <td>Tilly</td>\n",
       "      <td>None</td>\n",
       "      <td>None</td>\n",
       "      <td>None</td>\n",
       "      <td>None</td>\n",
       "    </tr>\n",
       "  </tbody>\n",
       "</table>\n",
       "</div>"
      ],
      "text/plain": [
       "             tweet_id  in_reply_to_status_id  in_reply_to_user_id  \\\n",
       "0  892420643555336193                    NaN                  NaN   \n",
       "1  892177421306343426                    NaN                  NaN   \n",
       "\n",
       "                   timestamp  \\\n",
       "0  2017-08-01 16:23:56 +0000   \n",
       "1  2017-08-01 00:17:27 +0000   \n",
       "\n",
       "                                              source  \\\n",
       "0  <a href=\"http://twitter.com/download/iphone\" r...   \n",
       "1  <a href=\"http://twitter.com/download/iphone\" r...   \n",
       "\n",
       "                                                text  retweeted_status_id  \\\n",
       "0  This is Phineas. He's a mystical boy. Only eve...                  NaN   \n",
       "1  This is Tilly. She's just checking pup on you....                  NaN   \n",
       "\n",
       "   retweeted_status_user_id retweeted_status_timestamp  \\\n",
       "0                       NaN                        NaN   \n",
       "1                       NaN                        NaN   \n",
       "\n",
       "                                       expanded_urls  rating_numerator  \\\n",
       "0  https://twitter.com/dog_rates/status/892420643...                13   \n",
       "1  https://twitter.com/dog_rates/status/892177421...                13   \n",
       "\n",
       "   rating_denominator     name doggo floofer pupper puppo  \n",
       "0                  10  Phineas  None    None   None  None  \n",
       "1                  10    Tilly  None    None   None  None  "
      ]
     },
     "execution_count": 3,
     "metadata": {},
     "output_type": "execute_result"
    }
   ],
   "source": [
    "#Testing\n",
    "twitter_archive.head(2)"
   ]
  },
  {
   "cell_type": "markdown",
   "metadata": {},
   "source": [
    "**Udacity's servers (URL:  https://d17h27t6h515a5.cloudfront.net/topher/2017/August/599fd2ad_image-predictions/image-predictions.tsv )**"
   ]
  },
  {
   "cell_type": "code",
   "execution_count": 4,
   "metadata": {},
   "outputs": [],
   "source": [
    "#File URL\n",
    "image_predictions_url =( \n",
    "'https://d17h27t6h515a5.cloudfront.net/topher/2017/August/599fd2ad_image-predictions/image-predictions.tsv')"
   ]
  },
  {
   "cell_type": "code",
   "execution_count": 5,
   "metadata": {},
   "outputs": [],
   "source": [
    "#Calling Python resquests library\n",
    "response = requests.get(image_predictions_url)\n",
    "\n",
    "with open(os.path.join(os.getcwd(),image_predictions_url.split('/')[-1].replace(\"-\",\"_\")), mode='wb') as file:\n",
    "    file.write(response.content)"
   ]
  },
  {
   "cell_type": "code",
   "execution_count": 6,
   "metadata": {},
   "outputs": [],
   "source": [
    "#Addressing the .tsv downloaded file to a dataframe\n",
    "image_predictions = pd.read_csv('image_predictions.tsv',sep='\\t')"
   ]
  },
  {
   "cell_type": "code",
   "execution_count": 7,
   "metadata": {},
   "outputs": [
    {
     "data": {
      "text/html": [
       "<div>\n",
       "<style scoped>\n",
       "    .dataframe tbody tr th:only-of-type {\n",
       "        vertical-align: middle;\n",
       "    }\n",
       "\n",
       "    .dataframe tbody tr th {\n",
       "        vertical-align: top;\n",
       "    }\n",
       "\n",
       "    .dataframe thead th {\n",
       "        text-align: right;\n",
       "    }\n",
       "</style>\n",
       "<table border=\"1\" class=\"dataframe\">\n",
       "  <thead>\n",
       "    <tr style=\"text-align: right;\">\n",
       "      <th></th>\n",
       "      <th>tweet_id</th>\n",
       "      <th>jpg_url</th>\n",
       "      <th>img_num</th>\n",
       "      <th>p1</th>\n",
       "      <th>p1_conf</th>\n",
       "      <th>p1_dog</th>\n",
       "      <th>p2</th>\n",
       "      <th>p2_conf</th>\n",
       "      <th>p2_dog</th>\n",
       "      <th>p3</th>\n",
       "      <th>p3_conf</th>\n",
       "      <th>p3_dog</th>\n",
       "    </tr>\n",
       "  </thead>\n",
       "  <tbody>\n",
       "    <tr>\n",
       "      <th>0</th>\n",
       "      <td>666020888022790149</td>\n",
       "      <td>https://pbs.twimg.com/media/CT4udn0WwAA0aMy.jpg</td>\n",
       "      <td>1</td>\n",
       "      <td>Welsh_springer_spaniel</td>\n",
       "      <td>0.465074</td>\n",
       "      <td>True</td>\n",
       "      <td>collie</td>\n",
       "      <td>0.156665</td>\n",
       "      <td>True</td>\n",
       "      <td>Shetland_sheepdog</td>\n",
       "      <td>0.061428</td>\n",
       "      <td>True</td>\n",
       "    </tr>\n",
       "    <tr>\n",
       "      <th>1</th>\n",
       "      <td>666029285002620928</td>\n",
       "      <td>https://pbs.twimg.com/media/CT42GRgUYAA5iDo.jpg</td>\n",
       "      <td>1</td>\n",
       "      <td>redbone</td>\n",
       "      <td>0.506826</td>\n",
       "      <td>True</td>\n",
       "      <td>miniature_pinscher</td>\n",
       "      <td>0.074192</td>\n",
       "      <td>True</td>\n",
       "      <td>Rhodesian_ridgeback</td>\n",
       "      <td>0.072010</td>\n",
       "      <td>True</td>\n",
       "    </tr>\n",
       "  </tbody>\n",
       "</table>\n",
       "</div>"
      ],
      "text/plain": [
       "             tweet_id                                          jpg_url  \\\n",
       "0  666020888022790149  https://pbs.twimg.com/media/CT4udn0WwAA0aMy.jpg   \n",
       "1  666029285002620928  https://pbs.twimg.com/media/CT42GRgUYAA5iDo.jpg   \n",
       "\n",
       "   img_num                      p1   p1_conf  p1_dog                  p2  \\\n",
       "0        1  Welsh_springer_spaniel  0.465074    True              collie   \n",
       "1        1                 redbone  0.506826    True  miniature_pinscher   \n",
       "\n",
       "    p2_conf  p2_dog                   p3   p3_conf  p3_dog  \n",
       "0  0.156665    True    Shetland_sheepdog  0.061428    True  \n",
       "1  0.074192    True  Rhodesian_ridgeback  0.072010    True  "
      ]
     },
     "execution_count": 7,
     "metadata": {},
     "output_type": "execute_result"
    }
   ],
   "source": [
    "#Testing\n",
    "image_predictions.head(2)"
   ]
  },
  {
   "cell_type": "markdown",
   "metadata": {},
   "source": [
    "**Twitter API**\n",
    "\n",
    "**NOTICE**: uncommenting and runnining both cells bellow will run the twitter API and overwrite the tweet_json.txt file. To obtain the extact same results as mine, please use the file that is already on zip folder and that was obtained executing the code bellow."
   ]
  },
  {
   "cell_type": "code",
   "execution_count": 8,
   "metadata": {},
   "outputs": [],
   "source": [
    "#Creating a Twitter API\n",
    "#consumer_key = 'SECRET'\n",
    "#consumer_secret = 'SECRET'\n",
    "#access_token = 'SECRET'\n",
    "#access_secret = 'SECRET'\n",
    "\n",
    "#auth = tweepy.OAuthHandler(consumer_key, consumer_secret)\n",
    "#auth.set_access_token(access_token, access_secret)\n",
    "\n",
    "#api = tweepy.API(auth)\n"
   ]
  },
  {
   "cell_type": "markdown",
   "metadata": {},
   "source": [
    "The code bellow was given by udacity:"
   ]
  },
  {
   "cell_type": "code",
   "execution_count": 9,
   "metadata": {
    "scrolled": true
   },
   "outputs": [],
   "source": [
    "#Writting API json data into tweet_json.txt file\n",
    "\n",
    "#tweet_ids = twitter_archive.tweet_id.values\n",
    "#count = 0\n",
    "#fails_dict = {}\n",
    "#start = timer()\n",
    "## Save each tweet's returned JSON as a new line in a .txt file\n",
    "#with open('tweet_json.txt', 'w') as outfile:\n",
    "#    # This loop will likely take 20-30 minutes to run because of Twitter's rate limit\n",
    "#    for tweet_id in tweet_ids:\n",
    "#        count += 1\n",
    "#        print(str(count) + \": \" + str(tweet_id))\n",
    "#        try:\n",
    "#            tweet = api.get_status(tweet_id, tweet_mode='extended')\n",
    "#            print(\"Success\")\n",
    "#            json.dump(tweet._json, outfile)\n",
    "#            outfile.write('\\n')\n",
    "#        except tweepy.TweepError as e:\n",
    "#            print(\"Fail\")\n",
    "#            fails_dict[tweet_id] = e\n",
    "#            pass\n",
    "#end = timer()"
   ]
  },
  {
   "cell_type": "markdown",
   "metadata": {},
   "source": [
    "The tweet_json.txt will be read line by line as a json file and a dataframe will be created:"
   ]
  },
  {
   "cell_type": "code",
   "execution_count": 10,
   "metadata": {},
   "outputs": [],
   "source": [
    "df_list = []\n",
    "\n",
    "with open('tweet_json.txt', encoding='utf-8') as file:\n",
    "    for i,line in enumerate(file):\n",
    "        tweet = json.loads(line) #Read line as a json file\n",
    "        df_list.append({'tweet_id':tweet['id'],\n",
    "                        'retweet_count':tweet['retweet_count'],\n",
    "                        'favorite_count':tweet['favorite_count']\n",
    "                       })\n",
    "        \n",
    "tweet_json = pd.DataFrame(df_list, columns = ['tweet_id','retweet_count','favorite_count'])  #Create dataframe"
   ]
  },
  {
   "cell_type": "code",
   "execution_count": 11,
   "metadata": {},
   "outputs": [
    {
     "data": {
      "text/plain": [
       "(888, 3)"
      ]
     },
     "execution_count": 11,
     "metadata": {},
     "output_type": "execute_result"
    }
   ],
   "source": [
    "tweet_json.shape"
   ]
  },
  {
   "cell_type": "code",
   "execution_count": 12,
   "metadata": {},
   "outputs": [
    {
     "data": {
      "text/html": [
       "<div>\n",
       "<style scoped>\n",
       "    .dataframe tbody tr th:only-of-type {\n",
       "        vertical-align: middle;\n",
       "    }\n",
       "\n",
       "    .dataframe tbody tr th {\n",
       "        vertical-align: top;\n",
       "    }\n",
       "\n",
       "    .dataframe thead th {\n",
       "        text-align: right;\n",
       "    }\n",
       "</style>\n",
       "<table border=\"1\" class=\"dataframe\">\n",
       "  <thead>\n",
       "    <tr style=\"text-align: right;\">\n",
       "      <th></th>\n",
       "      <th>tweet_id</th>\n",
       "      <th>retweet_count</th>\n",
       "      <th>favorite_count</th>\n",
       "    </tr>\n",
       "  </thead>\n",
       "  <tbody>\n",
       "    <tr>\n",
       "      <th>0</th>\n",
       "      <td>892420643555336193</td>\n",
       "      <td>8344</td>\n",
       "      <td>38139</td>\n",
       "    </tr>\n",
       "    <tr>\n",
       "      <th>1</th>\n",
       "      <td>892177421306343426</td>\n",
       "      <td>6166</td>\n",
       "      <td>32712</td>\n",
       "    </tr>\n",
       "    <tr>\n",
       "      <th>2</th>\n",
       "      <td>891815181378084864</td>\n",
       "      <td>4079</td>\n",
       "      <td>24626</td>\n",
       "    </tr>\n",
       "  </tbody>\n",
       "</table>\n",
       "</div>"
      ],
      "text/plain": [
       "             tweet_id  retweet_count  favorite_count\n",
       "0  892420643555336193           8344           38139\n",
       "1  892177421306343426           6166           32712\n",
       "2  891815181378084864           4079           24626"
      ]
     },
     "execution_count": 12,
     "metadata": {},
     "output_type": "execute_result"
    }
   ],
   "source": [
    "tweet_json.head(3)"
   ]
  },
  {
   "cell_type": "markdown",
   "metadata": {},
   "source": [
    "### Assessing Data"
   ]
  },
  {
   "cell_type": "code",
   "execution_count": 13,
   "metadata": {},
   "outputs": [
    {
     "data": {
      "text/html": [
       "<div>\n",
       "<style scoped>\n",
       "    .dataframe tbody tr th:only-of-type {\n",
       "        vertical-align: middle;\n",
       "    }\n",
       "\n",
       "    .dataframe tbody tr th {\n",
       "        vertical-align: top;\n",
       "    }\n",
       "\n",
       "    .dataframe thead th {\n",
       "        text-align: right;\n",
       "    }\n",
       "</style>\n",
       "<table border=\"1\" class=\"dataframe\">\n",
       "  <thead>\n",
       "    <tr style=\"text-align: right;\">\n",
       "      <th></th>\n",
       "      <th>tweet_id</th>\n",
       "      <th>in_reply_to_status_id</th>\n",
       "      <th>in_reply_to_user_id</th>\n",
       "      <th>timestamp</th>\n",
       "      <th>source</th>\n",
       "      <th>text</th>\n",
       "      <th>retweeted_status_id</th>\n",
       "      <th>retweeted_status_user_id</th>\n",
       "      <th>retweeted_status_timestamp</th>\n",
       "      <th>expanded_urls</th>\n",
       "      <th>rating_numerator</th>\n",
       "      <th>rating_denominator</th>\n",
       "      <th>name</th>\n",
       "      <th>doggo</th>\n",
       "      <th>floofer</th>\n",
       "      <th>pupper</th>\n",
       "      <th>puppo</th>\n",
       "    </tr>\n",
       "  </thead>\n",
       "  <tbody>\n",
       "    <tr>\n",
       "      <th>0</th>\n",
       "      <td>892420643555336193</td>\n",
       "      <td>NaN</td>\n",
       "      <td>NaN</td>\n",
       "      <td>2017-08-01 16:23:56 +0000</td>\n",
       "      <td>&lt;a href=\"http://twitter.com/download/iphone\" r...</td>\n",
       "      <td>This is Phineas. He's a mystical boy. Only eve...</td>\n",
       "      <td>NaN</td>\n",
       "      <td>NaN</td>\n",
       "      <td>NaN</td>\n",
       "      <td>https://twitter.com/dog_rates/status/892420643...</td>\n",
       "      <td>13</td>\n",
       "      <td>10</td>\n",
       "      <td>Phineas</td>\n",
       "      <td>None</td>\n",
       "      <td>None</td>\n",
       "      <td>None</td>\n",
       "      <td>None</td>\n",
       "    </tr>\n",
       "    <tr>\n",
       "      <th>1</th>\n",
       "      <td>892177421306343426</td>\n",
       "      <td>NaN</td>\n",
       "      <td>NaN</td>\n",
       "      <td>2017-08-01 00:17:27 +0000</td>\n",
       "      <td>&lt;a href=\"http://twitter.com/download/iphone\" r...</td>\n",
       "      <td>This is Tilly. She's just checking pup on you....</td>\n",
       "      <td>NaN</td>\n",
       "      <td>NaN</td>\n",
       "      <td>NaN</td>\n",
       "      <td>https://twitter.com/dog_rates/status/892177421...</td>\n",
       "      <td>13</td>\n",
       "      <td>10</td>\n",
       "      <td>Tilly</td>\n",
       "      <td>None</td>\n",
       "      <td>None</td>\n",
       "      <td>None</td>\n",
       "      <td>None</td>\n",
       "    </tr>\n",
       "    <tr>\n",
       "      <th>2</th>\n",
       "      <td>891815181378084864</td>\n",
       "      <td>NaN</td>\n",
       "      <td>NaN</td>\n",
       "      <td>2017-07-31 00:18:03 +0000</td>\n",
       "      <td>&lt;a href=\"http://twitter.com/download/iphone\" r...</td>\n",
       "      <td>This is Archie. He is a rare Norwegian Pouncin...</td>\n",
       "      <td>NaN</td>\n",
       "      <td>NaN</td>\n",
       "      <td>NaN</td>\n",
       "      <td>https://twitter.com/dog_rates/status/891815181...</td>\n",
       "      <td>12</td>\n",
       "      <td>10</td>\n",
       "      <td>Archie</td>\n",
       "      <td>None</td>\n",
       "      <td>None</td>\n",
       "      <td>None</td>\n",
       "      <td>None</td>\n",
       "    </tr>\n",
       "  </tbody>\n",
       "</table>\n",
       "</div>"
      ],
      "text/plain": [
       "             tweet_id  in_reply_to_status_id  in_reply_to_user_id  \\\n",
       "0  892420643555336193                    NaN                  NaN   \n",
       "1  892177421306343426                    NaN                  NaN   \n",
       "2  891815181378084864                    NaN                  NaN   \n",
       "\n",
       "                   timestamp  \\\n",
       "0  2017-08-01 16:23:56 +0000   \n",
       "1  2017-08-01 00:17:27 +0000   \n",
       "2  2017-07-31 00:18:03 +0000   \n",
       "\n",
       "                                              source  \\\n",
       "0  <a href=\"http://twitter.com/download/iphone\" r...   \n",
       "1  <a href=\"http://twitter.com/download/iphone\" r...   \n",
       "2  <a href=\"http://twitter.com/download/iphone\" r...   \n",
       "\n",
       "                                                text  retweeted_status_id  \\\n",
       "0  This is Phineas. He's a mystical boy. Only eve...                  NaN   \n",
       "1  This is Tilly. She's just checking pup on you....                  NaN   \n",
       "2  This is Archie. He is a rare Norwegian Pouncin...                  NaN   \n",
       "\n",
       "   retweeted_status_user_id retweeted_status_timestamp  \\\n",
       "0                       NaN                        NaN   \n",
       "1                       NaN                        NaN   \n",
       "2                       NaN                        NaN   \n",
       "\n",
       "                                       expanded_urls  rating_numerator  \\\n",
       "0  https://twitter.com/dog_rates/status/892420643...                13   \n",
       "1  https://twitter.com/dog_rates/status/892177421...                13   \n",
       "2  https://twitter.com/dog_rates/status/891815181...                12   \n",
       "\n",
       "   rating_denominator     name doggo floofer pupper puppo  \n",
       "0                  10  Phineas  None    None   None  None  \n",
       "1                  10    Tilly  None    None   None  None  \n",
       "2                  10   Archie  None    None   None  None  "
      ]
     },
     "execution_count": 13,
     "metadata": {},
     "output_type": "execute_result"
    }
   ],
   "source": [
    "twitter_archive.head(3)"
   ]
  },
  {
   "cell_type": "code",
   "execution_count": 14,
   "metadata": {
    "scrolled": true
   },
   "outputs": [
    {
     "data": {
      "text/html": [
       "<div>\n",
       "<style scoped>\n",
       "    .dataframe tbody tr th:only-of-type {\n",
       "        vertical-align: middle;\n",
       "    }\n",
       "\n",
       "    .dataframe tbody tr th {\n",
       "        vertical-align: top;\n",
       "    }\n",
       "\n",
       "    .dataframe thead th {\n",
       "        text-align: right;\n",
       "    }\n",
       "</style>\n",
       "<table border=\"1\" class=\"dataframe\">\n",
       "  <thead>\n",
       "    <tr style=\"text-align: right;\">\n",
       "      <th></th>\n",
       "      <th>tweet_id</th>\n",
       "      <th>in_reply_to_status_id</th>\n",
       "      <th>in_reply_to_user_id</th>\n",
       "      <th>timestamp</th>\n",
       "      <th>source</th>\n",
       "      <th>text</th>\n",
       "      <th>retweeted_status_id</th>\n",
       "      <th>retweeted_status_user_id</th>\n",
       "      <th>retweeted_status_timestamp</th>\n",
       "      <th>expanded_urls</th>\n",
       "      <th>rating_numerator</th>\n",
       "      <th>rating_denominator</th>\n",
       "      <th>name</th>\n",
       "      <th>doggo</th>\n",
       "      <th>floofer</th>\n",
       "      <th>pupper</th>\n",
       "      <th>puppo</th>\n",
       "    </tr>\n",
       "  </thead>\n",
       "  <tbody>\n",
       "    <tr>\n",
       "      <th>1106</th>\n",
       "      <td>734787690684657664</td>\n",
       "      <td>NaN</td>\n",
       "      <td>NaN</td>\n",
       "      <td>2016-05-23 16:46:51 +0000</td>\n",
       "      <td>&lt;a href=\"http://twitter.com/download/iphone\" r...</td>\n",
       "      <td>This dog is more successful than I will ever b...</td>\n",
       "      <td>NaN</td>\n",
       "      <td>NaN</td>\n",
       "      <td>NaN</td>\n",
       "      <td>https://twitter.com/dog_rates/status/734787690...</td>\n",
       "      <td>13</td>\n",
       "      <td>10</td>\n",
       "      <td>None</td>\n",
       "      <td>None</td>\n",
       "      <td>None</td>\n",
       "      <td>None</td>\n",
       "      <td>None</td>\n",
       "    </tr>\n",
       "    <tr>\n",
       "      <th>508</th>\n",
       "      <td>812503143955202048</td>\n",
       "      <td>NaN</td>\n",
       "      <td>NaN</td>\n",
       "      <td>2016-12-24 03:40:19 +0000</td>\n",
       "      <td>&lt;a href=\"http://twitter.com/download/iphone\" r...</td>\n",
       "      <td>I'm happy to inform you all that Jake is in ex...</td>\n",
       "      <td>NaN</td>\n",
       "      <td>NaN</td>\n",
       "      <td>NaN</td>\n",
       "      <td>https://m.facebook.com/story.php?story_fbid=18...</td>\n",
       "      <td>13</td>\n",
       "      <td>10</td>\n",
       "      <td>None</td>\n",
       "      <td>None</td>\n",
       "      <td>None</td>\n",
       "      <td>None</td>\n",
       "      <td>None</td>\n",
       "    </tr>\n",
       "    <tr>\n",
       "      <th>2292</th>\n",
       "      <td>667160273090932737</td>\n",
       "      <td>NaN</td>\n",
       "      <td>NaN</td>\n",
       "      <td>2015-11-19 01:59:39 +0000</td>\n",
       "      <td>&lt;a href=\"http://twitter.com/download/iphone\" r...</td>\n",
       "      <td>This is Bradlay. He is a Ronaldinho Matsuyama ...</td>\n",
       "      <td>NaN</td>\n",
       "      <td>NaN</td>\n",
       "      <td>NaN</td>\n",
       "      <td>https://twitter.com/dog_rates/status/667160273...</td>\n",
       "      <td>11</td>\n",
       "      <td>10</td>\n",
       "      <td>Bradlay</td>\n",
       "      <td>None</td>\n",
       "      <td>None</td>\n",
       "      <td>None</td>\n",
       "      <td>None</td>\n",
       "    </tr>\n",
       "  </tbody>\n",
       "</table>\n",
       "</div>"
      ],
      "text/plain": [
       "                tweet_id  in_reply_to_status_id  in_reply_to_user_id  \\\n",
       "1106  734787690684657664                    NaN                  NaN   \n",
       "508   812503143955202048                    NaN                  NaN   \n",
       "2292  667160273090932737                    NaN                  NaN   \n",
       "\n",
       "                      timestamp  \\\n",
       "1106  2016-05-23 16:46:51 +0000   \n",
       "508   2016-12-24 03:40:19 +0000   \n",
       "2292  2015-11-19 01:59:39 +0000   \n",
       "\n",
       "                                                 source  \\\n",
       "1106  <a href=\"http://twitter.com/download/iphone\" r...   \n",
       "508   <a href=\"http://twitter.com/download/iphone\" r...   \n",
       "2292  <a href=\"http://twitter.com/download/iphone\" r...   \n",
       "\n",
       "                                                   text  retweeted_status_id  \\\n",
       "1106  This dog is more successful than I will ever b...                  NaN   \n",
       "508   I'm happy to inform you all that Jake is in ex...                  NaN   \n",
       "2292  This is Bradlay. He is a Ronaldinho Matsuyama ...                  NaN   \n",
       "\n",
       "      retweeted_status_user_id retweeted_status_timestamp  \\\n",
       "1106                       NaN                        NaN   \n",
       "508                        NaN                        NaN   \n",
       "2292                       NaN                        NaN   \n",
       "\n",
       "                                          expanded_urls  rating_numerator  \\\n",
       "1106  https://twitter.com/dog_rates/status/734787690...                13   \n",
       "508   https://m.facebook.com/story.php?story_fbid=18...                13   \n",
       "2292  https://twitter.com/dog_rates/status/667160273...                11   \n",
       "\n",
       "      rating_denominator     name doggo floofer pupper puppo  \n",
       "1106                  10     None  None    None   None  None  \n",
       "508                   10     None  None    None   None  None  \n",
       "2292                  10  Bradlay  None    None   None  None  "
      ]
     },
     "execution_count": 14,
     "metadata": {},
     "output_type": "execute_result"
    }
   ],
   "source": [
    "twitter_archive.sample(3)"
   ]
  },
  {
   "cell_type": "code",
   "execution_count": 15,
   "metadata": {
    "scrolled": true
   },
   "outputs": [
    {
     "name": "stdout",
     "output_type": "stream",
     "text": [
      "<class 'pandas.core.frame.DataFrame'>\n",
      "RangeIndex: 2356 entries, 0 to 2355\n",
      "Data columns (total 17 columns):\n",
      "tweet_id                      2356 non-null int64\n",
      "in_reply_to_status_id         78 non-null float64\n",
      "in_reply_to_user_id           78 non-null float64\n",
      "timestamp                     2356 non-null object\n",
      "source                        2356 non-null object\n",
      "text                          2356 non-null object\n",
      "retweeted_status_id           181 non-null float64\n",
      "retweeted_status_user_id      181 non-null float64\n",
      "retweeted_status_timestamp    181 non-null object\n",
      "expanded_urls                 2297 non-null object\n",
      "rating_numerator              2356 non-null int64\n",
      "rating_denominator            2356 non-null int64\n",
      "name                          2356 non-null object\n",
      "doggo                         2356 non-null object\n",
      "floofer                       2356 non-null object\n",
      "pupper                        2356 non-null object\n",
      "puppo                         2356 non-null object\n",
      "dtypes: float64(4), int64(3), object(10)\n",
      "memory usage: 313.0+ KB\n"
     ]
    }
   ],
   "source": [
    "twitter_archive.info()"
   ]
  },
  {
   "cell_type": "code",
   "execution_count": 16,
   "metadata": {},
   "outputs": [
    {
     "data": {
      "text/plain": [
       "0"
      ]
     },
     "execution_count": 16,
     "metadata": {},
     "output_type": "execute_result"
    }
   ],
   "source": [
    "sum(twitter_archive.name.isnull())"
   ]
  },
  {
   "cell_type": "code",
   "execution_count": 17,
   "metadata": {},
   "outputs": [
    {
     "data": {
      "text/plain": [
       "5          Here we have a majestic great white breaching off South Africa's coast. Absolutely h*ckin breathtaking. 13/10 (IG: tucker_marlo) #BarkWeek https://t.co/kQ04fDDRmh\n",
       "7                              When you watch your owner call another dog a good boy but then they turn back to you and say you're a great boy. 13/10 https://t.co/v0nONBcwxq\n",
       "12                                         Here's a puppo that seems to be on the fence about something haha no but seriously someone help her. 13/10 https://t.co/BxvuXk0UCm\n",
       "24                                                           You may not have known you needed to see this today. 13/10 please enjoy (IG: emmylouroo) https://t.co/WZqNqygEyV\n",
       "25                  This... is a Jubilant Antarctic House Bear. We only rate dogs. Please only send dogs. Thank you... 12/10 would suffocate in floof https://t.co/4Ad1jzJSdp\n",
       "30                                                                  @NonWhiteHat @MayhewMayhem omg hello tanner you are a scary good boy 12/10 would pet with extreme caution\n",
       "32                                                                                                                         RT @Athletics: 12/10 #BATP https://t.co/WxwJmvjfxo\n",
       "35                                                                                                    I have a new hero and his name is Howard. 14/10 https://t.co/gzLHboL7Sk\n",
       "37             Here we have a corgi undercover as a malamute. Pawbably doing important investigative work. Zero control over tongue happenings. 13/10 https://t.co/44ItaMubBf\n",
       "41           I present to you, Pup in Hat. Pup in Hat is great for all occasions. Extremely versatile. Compact as h*ck. 14/10 (IG: itselizabethgales) https://t.co/vvBOcC2VdC\n",
       "42                                           OMG HE DIDN'T MEAN TO HE WAS JUST TRYING A LITTLE BARKOUR HE'S SUPER SORRY 13/10 WOULD FORGIVE IMMEDIATE https://t.co/uF3pQ8Wubj\n",
       "47                                    Please only send dogs. We don't rate mechanics, no matter how h*ckin good. Thank you... 13/10 would sneak a pat https://t.co/Se5fZ9wp5E\n",
       "55                                                                                @roushfenway These are good dogs but 17/10 is an emotional impulse rating. More like 13/10s\n",
       "59          Ugh not again. We only rate dogs. Please don't send in well-dressed  floppy-tongued street penguins. Dogs only please. Thank you... 12/10 https://t.co/WiAMbTkDPf\n",
       "62                  Please don't send in photos without dogs in them. We're not @porch_rates. Insubordinate and churlish. Pretty good porch tho 11/10 https://t.co/HauE8M3Bu4\n",
       "64                                                                                                                                            @RealKentMurphy 14/10 confirmed\n",
       "72                                                                                                      Martha is stunning how h*ckin dare you. 13/10 https://t.co/9uABQXgjwa\n",
       "78                                                 RT @rachel2195: @dog_rates the boyfriend and his soaking wet pupper h*cking love his new hat 14/10 https://t.co/dJx4Gzc50G\n",
       "83                              I can say with the pupmost confidence that the doggos who assisted with this search are heroic as h*ck. 14/10 for all https://t.co/8yoc1CNTsu\n",
       "88                                                   You'll get your package when that precious man is done appreciating the pups. 13/10 for everyone https://t.co/PFp4MghzBW\n",
       "89                                Guys please stop sending pictures without any dogs in th- oh never mind hello excuse me sir. 12/10 stealthy as h*ck https://t.co/brCQoqc8AW\n",
       "93                  I can't believe this keeps happening. This, is a birb taking a bath. We only rate dogs. Please only send dogs. Thank you... 12/10 https://t.co/pwY9PQhtP2\n",
       "96            We usually don't rate Deck-bound Saskatoon Black Bears, but this one is h*ckin flawless. Sneaky tongue slip too. 13/10 would hug firmly https://t.co/mNuMH9400n\n",
       "99               Here's a very large dog. He has a date later. Politely asked this water person to check if his breath is bad. 12/10 good to go doggo https://t.co/EMYIdoblMR\n",
       "100     Here are my favorite #dogsatpollingstations \\nMost voted for a more consistent walking schedule and to increase daily pats tenfold. All 13/10 https://t.co/17FVMl4VZ5\n",
       "101                              RT @loganamnosis: Penelope here is doing me quite a divertir. Well done, @dog_rates! Loving the pupdate. 14/10, je jouerais de nouveau. htt…\n",
       "103             We. Only. Rate. Dogs. Do not send in other things like this fluffy floor shark clearly ready to attack. Get it together guys... 12/10 https://t.co/BZHiKx3FpQ\n",
       "110                                                                                                                         Never doubt a doggo 14/10 https://t.co/AbBLh2FZCH\n",
       "112          Real funny guys. Sending in a pic without a dog in it. Hilarious. We'll rate the rug tho because it's giving off a very good vibe. 11/10 https://t.co/GCD1JccCyi\n",
       "113                                                                                                              @ComplicitOwl @ShopWeRateDogs &gt;10/10 is reserved for dogs\n",
       "                                                                                        ...                                                                                  \n",
       "2294                                      Extremely intelligent dog here. Has learned to walk like human. Even has his own dog. Very impressive 10/10 https://t.co/0DvHAMdA4V\n",
       "2298                                                                                                    After much debate this dog is being upgraded to 10/10. I repeat 10/10\n",
       "2299                                  Here we have a Hufflepuff. Loves vest. Eyes wide af. Flaccid tail. Matches carpet. Always a little blurry. 8/10 https://t.co/7JdgVqDnvR\n",
       "2301                                                                                                                                  12/10 gimme now https://t.co/QZAnwgnOMB\n",
       "2305                               My goodness. Very rare dog here. Large. Tail dangerous. Kinda fat. Only eats leaves. Doesn't come when called 3/10 https://t.co/xYGdBrMS9h\n",
       "2306                         These are Peruvian Feldspars. Their names are Cupit and Prencer. Both resemble Rand Paul. Sick outfits 10/10 &amp; 10/10 https://t.co/ZnEMHBsAs1\n",
       "2307                                                                                                                       12/10 simply brilliant pup https://t.co/V6ZzG45zzG\n",
       "2310                              Unfamiliar with this breed. Ears pointy af. Won't let go of seashell. Won't eat kibble. Not very fast. Bad dog 2/10 https://t.co/EIn5kElY1S\n",
       "2316                               Cool dog. Enjoys couch. Low monotone bark. Very nice kicks. Pisses milk (must be rare). Can't go down stairs. 4/10 https://t.co/vXMKrJC81s\n",
       "2320                               Here we see a lone northeastern Cumberbatch. Half ladybug. Only builds with bricks. Very confident with body. 7/10 https://t.co/7LtjBS0GPK\n",
       "2321                                         \"Can you behave? You're ruining my wedding day\"\\nDOG: idgaf this flashlight tastes good as hell\\n\\n10/10 https://t.co/GlFZPzqcEU\n",
       "2322                                        Oh boy what a pup! Sunglasses take this one to the next level. Weirdly folds front legs. Pretty big. 6/10 https://t.co/yECbFrSArM\n",
       "2323                                                     Here we have an Austrian Pulitzer. Collectors edition. Levitates (?). 7/10 would garden with https://t.co/NMQq6HIglK\n",
       "2324                                                                                                                     *internally screaming* 12/10 https://t.co/YMcrXC2Y6R\n",
       "2328                                Oh goodness. A super rare northeast Qdoba kangaroo mix. Massive feet. No pouch (disappointing). Seems alert. 9/10 https://t.co/Dc7b0E8qFE\n",
       "2329                                                                                        Those are sunglasses and a jean jacket. 11/10 dog cool af https://t.co/uHXrPkUEyl\n",
       "2330                             Unique dog here. Very small. Lives in container of Frosted Flakes (?). Short legs. Must be rare 6/10 would still pet https://t.co/XMD9CwjEnM\n",
       "2331                                  Here we have a mixed Asiago from the Galápagos Islands. Only one ear working. Big fan of marijuana carpet. 8/10 https://t.co/tltQ5w9aUO\n",
       "2332                                                         Look at this jokester thinking seat belt laws don't apply to him. Great tongue tho 10/10 https://t.co/VFKG1vxGjB\n",
       "2336                                                                                                                           Can take selfies 11/10 https://t.co/ws2AMaNwPW\n",
       "2337                                                                                       Very concerned about fellow dog trapped in computer. 10/10 https://t.co/0yxApIikpk\n",
       "2338                                   Not familiar with this breed. No tail (weird). Only 2 legs. Doesn't bark. Surprisingly quick. Shits eggs. 1/10 https://t.co/Asgdc6kuLX\n",
       "2339                                         Oh my. Here you are seeing an Adobe Setter giving birth to twins!!! The world is an amazing place. 11/10 https://t.co/11LvqN4WLq\n",
       "2340                             Can stand on stump for what seems like a while. Built that birdhouse? Impressive. Made friends with a squirrel. 8/10 https://t.co/Ri4nMTLq5C\n",
       "2341                                     This appears to be a Mongolian Presbyterian mix. Very tired. Tongue slip confirmed. 9/10 would lie down with https://t.co/mnioXo3IfP\n",
       "2342                                            Here we have a well-established sunblockerspaniel. Lost his other flip-flop. 6/10 not very waterproof https://t.co/3RU6x0vHB7\n",
       "2343                                Let's hope this flight isn't Malaysian (lol). What a dog! Almost completely camouflaged. 10/10 I trust this pilot https://t.co/Yk6GHE9tOY\n",
       "2344                                Here we have a northern speckled Rhododendron. Much sass. Gives 0 fucks. Good tongue. 9/10 would caress sensually https://t.co/ZoL8kq2XFx\n",
       "2351                                                 Here we have a 1949 1st generation vulpix. Enjoys sweat tea and Fox News. Cannot be phased. 5/10 https://t.co/4B7cOc1EDq\n",
       "2355                                      Here we have a Japanese Irish Setter. Lost eye in Vietnam (?). Big fan of relaxing on stair. 8/10 would pet https://t.co/BLDqew2Ijj\n",
       "Name: text, Length: 745, dtype: object"
      ]
     },
     "execution_count": 17,
     "metadata": {},
     "output_type": "execute_result"
    }
   ],
   "source": [
    "pd.options.display.max_colwidth = 500\n",
    "twitter_archive[twitter_archive.name == \"None\"]['text']"
   ]
  },
  {
   "cell_type": "code",
   "execution_count": 18,
   "metadata": {
    "scrolled": true
   },
   "outputs": [
    {
     "data": {
      "text/plain": [
       "0       13\n",
       "1       13\n",
       "2       12\n",
       "3       13\n",
       "4       12\n",
       "5       13\n",
       "6       13\n",
       "7       13\n",
       "8       13\n",
       "9       14\n",
       "10      13\n",
       "11      13\n",
       "12      13\n",
       "13      12\n",
       "14      13\n",
       "15      13\n",
       "16      12\n",
       "17      13\n",
       "18      13\n",
       "19      13\n",
       "20      12\n",
       "21      13\n",
       "22      14\n",
       "23      13\n",
       "24      13\n",
       "25      12\n",
       "26      13\n",
       "27      13\n",
       "28      13\n",
       "29      12\n",
       "        ..\n",
       "2326     2\n",
       "2327     7\n",
       "2328     9\n",
       "2329    11\n",
       "2330     6\n",
       "2331     8\n",
       "2332    10\n",
       "2333     9\n",
       "2334     3\n",
       "2335     1\n",
       "2336    11\n",
       "2337    10\n",
       "2338     1\n",
       "2339    11\n",
       "2340     8\n",
       "2341     9\n",
       "2342     6\n",
       "2343    10\n",
       "2344     9\n",
       "2345    10\n",
       "2346     8\n",
       "2347     9\n",
       "2348    10\n",
       "2349     2\n",
       "2350    10\n",
       "2351     5\n",
       "2352     6\n",
       "2353     9\n",
       "2354     7\n",
       "2355     8\n",
       "Name: rating_numerator, Length: 2356, dtype: int64"
      ]
     },
     "execution_count": 18,
     "metadata": {},
     "output_type": "execute_result"
    }
   ],
   "source": [
    "twitter_archive.rating_numerator"
   ]
  },
  {
   "cell_type": "code",
   "execution_count": 19,
   "metadata": {},
   "outputs": [
    {
     "data": {
      "text/plain": [
       "10     2333\n",
       "11        3\n",
       "50        3\n",
       "80        2\n",
       "20        2\n",
       "2         1\n",
       "16        1\n",
       "40        1\n",
       "70        1\n",
       "15        1\n",
       "90        1\n",
       "110       1\n",
       "120       1\n",
       "130       1\n",
       "150       1\n",
       "170       1\n",
       "7         1\n",
       "0         1\n",
       "Name: rating_denominator, dtype: int64"
      ]
     },
     "execution_count": 19,
     "metadata": {},
     "output_type": "execute_result"
    }
   ],
   "source": [
    "twitter_archive.rating_denominator.value_counts()"
   ]
  },
  {
   "cell_type": "code",
   "execution_count": 20,
   "metadata": {},
   "outputs": [],
   "source": [
    "twitter_archive.iloc[:,np.r_[5,10]];"
   ]
  },
  {
   "cell_type": "code",
   "execution_count": 21,
   "metadata": {},
   "outputs": [
    {
     "data": {
      "text/html": [
       "<div>\n",
       "<style scoped>\n",
       "    .dataframe tbody tr th:only-of-type {\n",
       "        vertical-align: middle;\n",
       "    }\n",
       "\n",
       "    .dataframe tbody tr th {\n",
       "        vertical-align: top;\n",
       "    }\n",
       "\n",
       "    .dataframe thead th {\n",
       "        text-align: right;\n",
       "    }\n",
       "</style>\n",
       "<table border=\"1\" class=\"dataframe\">\n",
       "  <thead>\n",
       "    <tr style=\"text-align: right;\">\n",
       "      <th></th>\n",
       "      <th>tweet_id</th>\n",
       "      <th>in_reply_to_status_id</th>\n",
       "      <th>in_reply_to_user_id</th>\n",
       "      <th>timestamp</th>\n",
       "      <th>source</th>\n",
       "      <th>text</th>\n",
       "      <th>retweeted_status_id</th>\n",
       "      <th>retweeted_status_user_id</th>\n",
       "      <th>retweeted_status_timestamp</th>\n",
       "      <th>expanded_urls</th>\n",
       "      <th>rating_numerator</th>\n",
       "      <th>rating_denominator</th>\n",
       "      <th>name</th>\n",
       "      <th>doggo</th>\n",
       "      <th>floofer</th>\n",
       "      <th>pupper</th>\n",
       "      <th>puppo</th>\n",
       "    </tr>\n",
       "  </thead>\n",
       "  <tbody>\n",
       "  </tbody>\n",
       "</table>\n",
       "</div>"
      ],
      "text/plain": [
       "Empty DataFrame\n",
       "Columns: [tweet_id, in_reply_to_status_id, in_reply_to_user_id, timestamp, source, text, retweeted_status_id, retweeted_status_user_id, retweeted_status_timestamp, expanded_urls, rating_numerator, rating_denominator, name, doggo, floofer, pupper, puppo]\n",
       "Index: []"
      ]
     },
     "execution_count": 21,
     "metadata": {},
     "output_type": "execute_result"
    }
   ],
   "source": [
    "twitter_archive[twitter_archive.duplicated()]"
   ]
  },
  {
   "cell_type": "code",
   "execution_count": 22,
   "metadata": {},
   "outputs": [
    {
     "data": {
      "text/html": [
       "<div>\n",
       "<style scoped>\n",
       "    .dataframe tbody tr th:only-of-type {\n",
       "        vertical-align: middle;\n",
       "    }\n",
       "\n",
       "    .dataframe tbody tr th {\n",
       "        vertical-align: top;\n",
       "    }\n",
       "\n",
       "    .dataframe thead th {\n",
       "        text-align: right;\n",
       "    }\n",
       "</style>\n",
       "<table border=\"1\" class=\"dataframe\">\n",
       "  <thead>\n",
       "    <tr style=\"text-align: right;\">\n",
       "      <th></th>\n",
       "      <th>tweet_id</th>\n",
       "      <th>in_reply_to_status_id</th>\n",
       "      <th>in_reply_to_user_id</th>\n",
       "      <th>timestamp</th>\n",
       "      <th>source</th>\n",
       "      <th>text</th>\n",
       "      <th>retweeted_status_id</th>\n",
       "      <th>retweeted_status_user_id</th>\n",
       "      <th>retweeted_status_timestamp</th>\n",
       "      <th>expanded_urls</th>\n",
       "      <th>rating_numerator</th>\n",
       "      <th>rating_denominator</th>\n",
       "      <th>name</th>\n",
       "      <th>doggo</th>\n",
       "      <th>floofer</th>\n",
       "      <th>pupper</th>\n",
       "      <th>puppo</th>\n",
       "    </tr>\n",
       "  </thead>\n",
       "  <tbody>\n",
       "    <tr>\n",
       "      <th>200</th>\n",
       "      <td>854010172552949760</td>\n",
       "      <td>NaN</td>\n",
       "      <td>NaN</td>\n",
       "      <td>2017-04-17 16:34:26 +0000</td>\n",
       "      <td>&lt;a href=\"http://twitter.com/download/iphone\" rel=\"nofollow\"&gt;Twitter for iPhone&lt;/a&gt;</td>\n",
       "      <td>At first I thought this was a shy doggo, but it's actually a Rare Canadian Floofer Owl. Amateurs would confuse the two. 11/10 only send dogs https://t.co/TXdT3tmuYk</td>\n",
       "      <td>NaN</td>\n",
       "      <td>NaN</td>\n",
       "      <td>NaN</td>\n",
       "      <td>https://twitter.com/dog_rates/status/854010172552949760/photo/1,https://twitter.com/dog_rates/status/854010172552949760/photo/1</td>\n",
       "      <td>11</td>\n",
       "      <td>10</td>\n",
       "      <td>None</td>\n",
       "      <td>doggo</td>\n",
       "      <td>floofer</td>\n",
       "      <td>None</td>\n",
       "      <td>None</td>\n",
       "    </tr>\n",
       "  </tbody>\n",
       "</table>\n",
       "</div>"
      ],
      "text/plain": [
       "               tweet_id  in_reply_to_status_id  in_reply_to_user_id  \\\n",
       "200  854010172552949760                    NaN                  NaN   \n",
       "\n",
       "                     timestamp  \\\n",
       "200  2017-04-17 16:34:26 +0000   \n",
       "\n",
       "                                                                                 source  \\\n",
       "200  <a href=\"http://twitter.com/download/iphone\" rel=\"nofollow\">Twitter for iPhone</a>   \n",
       "\n",
       "                                                                                                                                                                     text  \\\n",
       "200  At first I thought this was a shy doggo, but it's actually a Rare Canadian Floofer Owl. Amateurs would confuse the two. 11/10 only send dogs https://t.co/TXdT3tmuYk   \n",
       "\n",
       "     retweeted_status_id  retweeted_status_user_id retweeted_status_timestamp  \\\n",
       "200                  NaN                       NaN                        NaN   \n",
       "\n",
       "                                                                                                                       expanded_urls  \\\n",
       "200  https://twitter.com/dog_rates/status/854010172552949760/photo/1,https://twitter.com/dog_rates/status/854010172552949760/photo/1   \n",
       "\n",
       "     rating_numerator  rating_denominator  name  doggo  floofer pupper puppo  \n",
       "200                11                  10  None  doggo  floofer   None  None  "
      ]
     },
     "execution_count": 22,
     "metadata": {},
     "output_type": "execute_result"
    }
   ],
   "source": [
    "twitter_archive[(twitter_archive['floofer'] != \"None\") & (twitter_archive['doggo'] != \"None\")]"
   ]
  },
  {
   "cell_type": "code",
   "execution_count": 23,
   "metadata": {
    "scrolled": true
   },
   "outputs": [
    {
     "data": {
      "text/plain": [
       "56      a\n",
       "649     a\n",
       "775     O\n",
       "801     a\n",
       "1002    a\n",
       "1004    a\n",
       "1017    a\n",
       "1049    a\n",
       "1193    a\n",
       "1207    a\n",
       "1340    a\n",
       "1351    a\n",
       "1361    a\n",
       "1368    a\n",
       "1382    a\n",
       "1499    a\n",
       "1737    a\n",
       "1785    a\n",
       "1853    a\n",
       "1854    a\n",
       "1877    a\n",
       "1878    a\n",
       "1923    a\n",
       "1941    a\n",
       "1955    a\n",
       "1994    a\n",
       "2034    a\n",
       "2066    a\n",
       "2116    a\n",
       "2125    a\n",
       "2128    a\n",
       "2146    a\n",
       "2153    a\n",
       "2161    a\n",
       "2191    a\n",
       "2198    a\n",
       "2211    a\n",
       "2218    a\n",
       "2222    a\n",
       "2235    a\n",
       "2249    a\n",
       "2255    a\n",
       "2264    a\n",
       "2273    a\n",
       "2287    a\n",
       "2304    a\n",
       "2311    a\n",
       "2314    a\n",
       "2327    a\n",
       "2334    a\n",
       "2347    a\n",
       "2348    a\n",
       "2350    a\n",
       "2352    a\n",
       "2353    a\n",
       "2354    a\n",
       "Name: name, dtype: object"
      ]
     },
     "execution_count": 23,
     "metadata": {},
     "output_type": "execute_result"
    }
   ],
   "source": [
    "twitter_archive['name'].str.extract(r'(^[aeiouAEIOU]$)',expand=False)[twitter_archive['name'].\n",
    "                                                                           str.extract(r'(^[aeiouAEIOU]$)',\n",
    "                                                                           expand=False).notnull()]"
   ]
  },
  {
   "cell_type": "code",
   "execution_count": 24,
   "metadata": {},
   "outputs": [
    {
     "data": {
      "text/plain": [
       "852    my\n",
       "Name: name, dtype: object"
      ]
     },
     "execution_count": 24,
     "metadata": {},
     "output_type": "execute_result"
    }
   ],
   "source": [
    "twitter_archive['name'].str.extract(r'(^my$)',expand=False)[twitter_archive['name'].\n",
    "                                                                           str.extract(r'(^my$)',\n",
    "                                                                           expand=False).notnull()]"
   ]
  },
  {
   "cell_type": "code",
   "execution_count": 25,
   "metadata": {},
   "outputs": [
    {
     "data": {
      "text/html": [
       "<div>\n",
       "<style scoped>\n",
       "    .dataframe tbody tr th:only-of-type {\n",
       "        vertical-align: middle;\n",
       "    }\n",
       "\n",
       "    .dataframe tbody tr th {\n",
       "        vertical-align: top;\n",
       "    }\n",
       "\n",
       "    .dataframe thead th {\n",
       "        text-align: right;\n",
       "    }\n",
       "</style>\n",
       "<table border=\"1\" class=\"dataframe\">\n",
       "  <thead>\n",
       "    <tr style=\"text-align: right;\">\n",
       "      <th></th>\n",
       "      <th>tweet_id</th>\n",
       "      <th>jpg_url</th>\n",
       "      <th>img_num</th>\n",
       "      <th>p1</th>\n",
       "      <th>p1_conf</th>\n",
       "      <th>p1_dog</th>\n",
       "      <th>p2</th>\n",
       "      <th>p2_conf</th>\n",
       "      <th>p2_dog</th>\n",
       "      <th>p3</th>\n",
       "      <th>p3_conf</th>\n",
       "      <th>p3_dog</th>\n",
       "    </tr>\n",
       "  </thead>\n",
       "  <tbody>\n",
       "    <tr>\n",
       "      <th>0</th>\n",
       "      <td>666020888022790149</td>\n",
       "      <td>https://pbs.twimg.com/media/CT4udn0WwAA0aMy.jpg</td>\n",
       "      <td>1</td>\n",
       "      <td>Welsh_springer_spaniel</td>\n",
       "      <td>0.465074</td>\n",
       "      <td>True</td>\n",
       "      <td>collie</td>\n",
       "      <td>0.156665</td>\n",
       "      <td>True</td>\n",
       "      <td>Shetland_sheepdog</td>\n",
       "      <td>0.061428</td>\n",
       "      <td>True</td>\n",
       "    </tr>\n",
       "    <tr>\n",
       "      <th>1</th>\n",
       "      <td>666029285002620928</td>\n",
       "      <td>https://pbs.twimg.com/media/CT42GRgUYAA5iDo.jpg</td>\n",
       "      <td>1</td>\n",
       "      <td>redbone</td>\n",
       "      <td>0.506826</td>\n",
       "      <td>True</td>\n",
       "      <td>miniature_pinscher</td>\n",
       "      <td>0.074192</td>\n",
       "      <td>True</td>\n",
       "      <td>Rhodesian_ridgeback</td>\n",
       "      <td>0.072010</td>\n",
       "      <td>True</td>\n",
       "    </tr>\n",
       "    <tr>\n",
       "      <th>2</th>\n",
       "      <td>666033412701032449</td>\n",
       "      <td>https://pbs.twimg.com/media/CT4521TWwAEvMyu.jpg</td>\n",
       "      <td>1</td>\n",
       "      <td>German_shepherd</td>\n",
       "      <td>0.596461</td>\n",
       "      <td>True</td>\n",
       "      <td>malinois</td>\n",
       "      <td>0.138584</td>\n",
       "      <td>True</td>\n",
       "      <td>bloodhound</td>\n",
       "      <td>0.116197</td>\n",
       "      <td>True</td>\n",
       "    </tr>\n",
       "  </tbody>\n",
       "</table>\n",
       "</div>"
      ],
      "text/plain": [
       "             tweet_id                                          jpg_url  \\\n",
       "0  666020888022790149  https://pbs.twimg.com/media/CT4udn0WwAA0aMy.jpg   \n",
       "1  666029285002620928  https://pbs.twimg.com/media/CT42GRgUYAA5iDo.jpg   \n",
       "2  666033412701032449  https://pbs.twimg.com/media/CT4521TWwAEvMyu.jpg   \n",
       "\n",
       "   img_num                      p1   p1_conf  p1_dog                  p2  \\\n",
       "0        1  Welsh_springer_spaniel  0.465074    True              collie   \n",
       "1        1                 redbone  0.506826    True  miniature_pinscher   \n",
       "2        1         German_shepherd  0.596461    True            malinois   \n",
       "\n",
       "    p2_conf  p2_dog                   p3   p3_conf  p3_dog  \n",
       "0  0.156665    True    Shetland_sheepdog  0.061428    True  \n",
       "1  0.074192    True  Rhodesian_ridgeback  0.072010    True  \n",
       "2  0.138584    True           bloodhound  0.116197    True  "
      ]
     },
     "execution_count": 25,
     "metadata": {},
     "output_type": "execute_result"
    }
   ],
   "source": [
    "image_predictions.head(3)"
   ]
  },
  {
   "cell_type": "code",
   "execution_count": 26,
   "metadata": {
    "scrolled": true
   },
   "outputs": [
    {
     "data": {
      "text/html": [
       "<div>\n",
       "<style scoped>\n",
       "    .dataframe tbody tr th:only-of-type {\n",
       "        vertical-align: middle;\n",
       "    }\n",
       "\n",
       "    .dataframe tbody tr th {\n",
       "        vertical-align: top;\n",
       "    }\n",
       "\n",
       "    .dataframe thead th {\n",
       "        text-align: right;\n",
       "    }\n",
       "</style>\n",
       "<table border=\"1\" class=\"dataframe\">\n",
       "  <thead>\n",
       "    <tr style=\"text-align: right;\">\n",
       "      <th></th>\n",
       "      <th>tweet_id</th>\n",
       "      <th>jpg_url</th>\n",
       "      <th>img_num</th>\n",
       "      <th>p1</th>\n",
       "      <th>p1_conf</th>\n",
       "      <th>p1_dog</th>\n",
       "      <th>p2</th>\n",
       "      <th>p2_conf</th>\n",
       "      <th>p2_dog</th>\n",
       "      <th>p3</th>\n",
       "      <th>p3_conf</th>\n",
       "      <th>p3_dog</th>\n",
       "    </tr>\n",
       "  </thead>\n",
       "  <tbody>\n",
       "    <tr>\n",
       "      <th>1300</th>\n",
       "      <td>752660715232722944</td>\n",
       "      <td>https://pbs.twimg.com/media/CnH87L6XYAAF7I_.jpg</td>\n",
       "      <td>2</td>\n",
       "      <td>goose</td>\n",
       "      <td>0.339324</td>\n",
       "      <td>False</td>\n",
       "      <td>English_setter</td>\n",
       "      <td>0.050512</td>\n",
       "      <td>True</td>\n",
       "      <td>basset</td>\n",
       "      <td>0.049093</td>\n",
       "      <td>True</td>\n",
       "    </tr>\n",
       "    <tr>\n",
       "      <th>444</th>\n",
       "      <td>674644256330530816</td>\n",
       "      <td>https://pbs.twimg.com/media/CVzRXmXWIAA0Fkr.jpg</td>\n",
       "      <td>1</td>\n",
       "      <td>soccer_ball</td>\n",
       "      <td>0.398102</td>\n",
       "      <td>False</td>\n",
       "      <td>basset</td>\n",
       "      <td>0.335692</td>\n",
       "      <td>True</td>\n",
       "      <td>cocker_spaniel</td>\n",
       "      <td>0.072941</td>\n",
       "      <td>True</td>\n",
       "    </tr>\n",
       "    <tr>\n",
       "      <th>273</th>\n",
       "      <td>670832455012716544</td>\n",
       "      <td>https://pbs.twimg.com/media/CU9GjzrUkAAWPh4.jpg</td>\n",
       "      <td>1</td>\n",
       "      <td>malinois</td>\n",
       "      <td>0.317607</td>\n",
       "      <td>True</td>\n",
       "      <td>Norwegian_elkhound</td>\n",
       "      <td>0.274901</td>\n",
       "      <td>True</td>\n",
       "      <td>bathing_cap</td>\n",
       "      <td>0.114643</td>\n",
       "      <td>False</td>\n",
       "    </tr>\n",
       "    <tr>\n",
       "      <th>1208</th>\n",
       "      <td>742385895052087300</td>\n",
       "      <td>https://pbs.twimg.com/media/Ck18CFcXIAAUWoy.jpg</td>\n",
       "      <td>1</td>\n",
       "      <td>Cardigan</td>\n",
       "      <td>0.566911</td>\n",
       "      <td>True</td>\n",
       "      <td>Border_collie</td>\n",
       "      <td>0.117566</td>\n",
       "      <td>True</td>\n",
       "      <td>Appenzeller</td>\n",
       "      <td>0.047664</td>\n",
       "      <td>True</td>\n",
       "    </tr>\n",
       "    <tr>\n",
       "      <th>1265</th>\n",
       "      <td>749317047558017024</td>\n",
       "      <td>https://pbs.twimg.com/ext_tw_video_thumb/749316899712950272/pu/img/nvZI9mkoAxt89sul.jpg</td>\n",
       "      <td>1</td>\n",
       "      <td>wire-haired_fox_terrier</td>\n",
       "      <td>0.155144</td>\n",
       "      <td>True</td>\n",
       "      <td>Lakeland_terrier</td>\n",
       "      <td>0.108382</td>\n",
       "      <td>True</td>\n",
       "      <td>buckeye</td>\n",
       "      <td>0.074617</td>\n",
       "      <td>False</td>\n",
       "    </tr>\n",
       "  </tbody>\n",
       "</table>\n",
       "</div>"
      ],
      "text/plain": [
       "                tweet_id  \\\n",
       "1300  752660715232722944   \n",
       "444   674644256330530816   \n",
       "273   670832455012716544   \n",
       "1208  742385895052087300   \n",
       "1265  749317047558017024   \n",
       "\n",
       "                                                                                      jpg_url  \\\n",
       "1300                                          https://pbs.twimg.com/media/CnH87L6XYAAF7I_.jpg   \n",
       "444                                           https://pbs.twimg.com/media/CVzRXmXWIAA0Fkr.jpg   \n",
       "273                                           https://pbs.twimg.com/media/CU9GjzrUkAAWPh4.jpg   \n",
       "1208                                          https://pbs.twimg.com/media/Ck18CFcXIAAUWoy.jpg   \n",
       "1265  https://pbs.twimg.com/ext_tw_video_thumb/749316899712950272/pu/img/nvZI9mkoAxt89sul.jpg   \n",
       "\n",
       "      img_num                       p1   p1_conf  p1_dog                  p2  \\\n",
       "1300        2                    goose  0.339324   False      English_setter   \n",
       "444         1              soccer_ball  0.398102   False              basset   \n",
       "273         1                 malinois  0.317607    True  Norwegian_elkhound   \n",
       "1208        1                 Cardigan  0.566911    True       Border_collie   \n",
       "1265        1  wire-haired_fox_terrier  0.155144    True    Lakeland_terrier   \n",
       "\n",
       "       p2_conf  p2_dog              p3   p3_conf  p3_dog  \n",
       "1300  0.050512    True          basset  0.049093    True  \n",
       "444   0.335692    True  cocker_spaniel  0.072941    True  \n",
       "273   0.274901    True     bathing_cap  0.114643   False  \n",
       "1208  0.117566    True     Appenzeller  0.047664    True  \n",
       "1265  0.108382    True         buckeye  0.074617   False  "
      ]
     },
     "execution_count": 26,
     "metadata": {},
     "output_type": "execute_result"
    }
   ],
   "source": [
    "image_predictions.sample(5)"
   ]
  },
  {
   "cell_type": "code",
   "execution_count": 27,
   "metadata": {},
   "outputs": [
    {
     "data": {
      "text/plain": [
       "0"
      ]
     },
     "execution_count": 27,
     "metadata": {},
     "output_type": "execute_result"
    }
   ],
   "source": [
    "sum(image_predictions.p1.isnull())"
   ]
  },
  {
   "cell_type": "code",
   "execution_count": 28,
   "metadata": {},
   "outputs": [
    {
     "name": "stdout",
     "output_type": "stream",
     "text": [
      "<class 'pandas.core.frame.DataFrame'>\n",
      "RangeIndex: 2075 entries, 0 to 2074\n",
      "Data columns (total 12 columns):\n",
      "tweet_id    2075 non-null int64\n",
      "jpg_url     2075 non-null object\n",
      "img_num     2075 non-null int64\n",
      "p1          2075 non-null object\n",
      "p1_conf     2075 non-null float64\n",
      "p1_dog      2075 non-null bool\n",
      "p2          2075 non-null object\n",
      "p2_conf     2075 non-null float64\n",
      "p2_dog      2075 non-null bool\n",
      "p3          2075 non-null object\n",
      "p3_conf     2075 non-null float64\n",
      "p3_dog      2075 non-null bool\n",
      "dtypes: bool(3), float64(3), int64(2), object(4)\n",
      "memory usage: 152.1+ KB\n"
     ]
    }
   ],
   "source": [
    "image_predictions.info()"
   ]
  },
  {
   "cell_type": "code",
   "execution_count": 29,
   "metadata": {},
   "outputs": [
    {
     "data": {
      "text/html": [
       "<div>\n",
       "<style scoped>\n",
       "    .dataframe tbody tr th:only-of-type {\n",
       "        vertical-align: middle;\n",
       "    }\n",
       "\n",
       "    .dataframe tbody tr th {\n",
       "        vertical-align: top;\n",
       "    }\n",
       "\n",
       "    .dataframe thead th {\n",
       "        text-align: right;\n",
       "    }\n",
       "</style>\n",
       "<table border=\"1\" class=\"dataframe\">\n",
       "  <thead>\n",
       "    <tr style=\"text-align: right;\">\n",
       "      <th></th>\n",
       "      <th>tweet_id</th>\n",
       "      <th>retweet_count</th>\n",
       "      <th>favorite_count</th>\n",
       "    </tr>\n",
       "  </thead>\n",
       "  <tbody>\n",
       "    <tr>\n",
       "      <th>0</th>\n",
       "      <td>892420643555336193</td>\n",
       "      <td>8344</td>\n",
       "      <td>38139</td>\n",
       "    </tr>\n",
       "    <tr>\n",
       "      <th>1</th>\n",
       "      <td>892177421306343426</td>\n",
       "      <td>6166</td>\n",
       "      <td>32712</td>\n",
       "    </tr>\n",
       "    <tr>\n",
       "      <th>2</th>\n",
       "      <td>891815181378084864</td>\n",
       "      <td>4079</td>\n",
       "      <td>24626</td>\n",
       "    </tr>\n",
       "    <tr>\n",
       "      <th>3</th>\n",
       "      <td>891689557279858688</td>\n",
       "      <td>8485</td>\n",
       "      <td>41485</td>\n",
       "    </tr>\n",
       "    <tr>\n",
       "      <th>4</th>\n",
       "      <td>891327558926688256</td>\n",
       "      <td>9177</td>\n",
       "      <td>39650</td>\n",
       "    </tr>\n",
       "  </tbody>\n",
       "</table>\n",
       "</div>"
      ],
      "text/plain": [
       "             tweet_id  retweet_count  favorite_count\n",
       "0  892420643555336193           8344           38139\n",
       "1  892177421306343426           6166           32712\n",
       "2  891815181378084864           4079           24626\n",
       "3  891689557279858688           8485           41485\n",
       "4  891327558926688256           9177           39650"
      ]
     },
     "execution_count": 29,
     "metadata": {},
     "output_type": "execute_result"
    }
   ],
   "source": [
    "tweet_json.head()"
   ]
  },
  {
   "cell_type": "code",
   "execution_count": 30,
   "metadata": {},
   "outputs": [
    {
     "name": "stdout",
     "output_type": "stream",
     "text": [
      "<class 'pandas.core.frame.DataFrame'>\n",
      "RangeIndex: 888 entries, 0 to 887\n",
      "Data columns (total 3 columns):\n",
      "tweet_id          888 non-null int64\n",
      "retweet_count     888 non-null int64\n",
      "favorite_count    888 non-null int64\n",
      "dtypes: int64(3)\n",
      "memory usage: 20.9 KB\n"
     ]
    }
   ],
   "source": [
    "tweet_json.info()"
   ]
  },
  {
   "cell_type": "code",
   "execution_count": 31,
   "metadata": {},
   "outputs": [
    {
     "data": {
      "text/plain": [
       "0"
      ]
     },
     "execution_count": 31,
     "metadata": {},
     "output_type": "execute_result"
    }
   ],
   "source": [
    "sum(tweet_json.retweet_count.isnull())"
   ]
  },
  {
   "cell_type": "code",
   "execution_count": 32,
   "metadata": {},
   "outputs": [
    {
     "data": {
      "text/plain": [
       "0"
      ]
     },
     "execution_count": 32,
     "metadata": {},
     "output_type": "execute_result"
    }
   ],
   "source": [
    "sum(tweet_json.favorite_count.isnull())"
   ]
  },
  {
   "cell_type": "markdown",
   "metadata": {},
   "source": [
    "During assessing, the following issues were chosen for cleaning in this project:\n",
    "\n",
    "#### Quality\n",
    "##### `twitter_archive` table:\n",
    "- Inaccurate attribute labels (Ex.: text, name, timestamp);\n",
    "- Words such as \"a\", \"o\", \"my\" being identified as a dog name;\n",
    "- Erroneous datatype for timestamp attribute;\n",
    "- Unknown values are represented by \"None\" in Name, doggo, floofer, pupper and puppo;\n",
    "- Wrong rating_numerators values (ex: index 2335 from `twitter_archive` table);\n",
    "- Rating denominators with values different than 10;\n",
    "- Some tweets are not original posts (they are retweets) and must be excluded;\n",
    "- Some columns are not necessary for analyses and visualization purposes. Ex.: in_reply_to_status_id, in_reply_to_user_id, source, retweeted_status_id, retweeted_status_user_id, retweeted_status_timestamp, expanded_urls;\n",
    "\n",
    "\n",
    "##### `image_predictions` table:\n",
    "- Some predictions didn't recognize a dog, but anything else;\n",
    "- Inappropriate attribute names (p1, p2, etc);\n",
    "- Lowercase and uppercase inconsistency in dog breeds names;\n",
    "- Dog breeds names with \"_\" separator;\n",
    "\n",
    "##### `tweet_json` table:\n",
    "- Erroneous datatype for retweet_count and favorite_count\n",
    "\n",
    "#### Tidiness\n",
    "- Doggo, floofer, pupper and puppo are values, not attributes. They should be in a single column;\n",
    "- Inconsistent dataframe sizes provided that some tweets were removed from twitter;\n",
    "- Attributes retweet_count and favorite_count from `tweet_json` table should be in `twitter_archive` table and then `tweet_json` could be deleted;\n",
    "- p1, p1_conf, p1_dog, p2, p2_conf, p2_dog, p3, p3_conf and p3_dog attributes from `image_predictions` should be reduce into two columns: dog breed (if exists) and its prediction confidence value (for the highest value). \n",
    "- Two different dataframes should exist: one relative to the twitter tweets (twitter_archive_clean) and another one with all the dogs informations. The `image_predictions` table can be used as the second dataframe changing its name to `dogs_data`. Moreover, attributes \"name\", \"dog_stage\", \"rating_numerator\" and \"rating_denominator\" from `twitter_archive` should be transfered to `dogs_data` since they are relative to the dogs.\n"
   ]
  },
  {
   "cell_type": "markdown",
   "metadata": {},
   "source": [
    "### Cleaning Data"
   ]
  },
  {
   "cell_type": "markdown",
   "metadata": {},
   "source": [
    "A copy of the dataframes is first created:"
   ]
  },
  {
   "cell_type": "code",
   "execution_count": 33,
   "metadata": {},
   "outputs": [],
   "source": [
    "twitter_archive_clean = twitter_archive.copy()\n",
    "image_predictions_clean = image_predictions.copy()\n",
    "tweet_json_clean = tweet_json.copy()"
   ]
  },
  {
   "cell_type": "markdown",
   "metadata": {},
   "source": [
    "Before cleaning the Tidness problems, a few quality issues will be addressed first to make the dataframe easear to manipulate"
   ]
  },
  {
   "cell_type": "markdown",
   "metadata": {},
   "source": [
    "#### `twitter_archive` : Some tweets are not original posts (they are retweets) and must be excluded"
   ]
  },
  {
   "cell_type": "markdown",
   "metadata": {},
   "source": [
    "##### Define"
   ]
  },
  {
   "cell_type": "markdown",
   "metadata": {},
   "source": [
    "Take only rows in wich the retweeted_status_id is null, meaning that the post is not a retweet."
   ]
  },
  {
   "cell_type": "markdown",
   "metadata": {},
   "source": [
    "##### Code"
   ]
  },
  {
   "cell_type": "code",
   "execution_count": 34,
   "metadata": {
    "scrolled": true
   },
   "outputs": [],
   "source": [
    "twitter_archive_clean = twitter_archive_clean[twitter_archive_clean.retweeted_status_id.isnull() == True]"
   ]
  },
  {
   "cell_type": "markdown",
   "metadata": {},
   "source": [
    "##### Test"
   ]
  },
  {
   "cell_type": "code",
   "execution_count": 35,
   "metadata": {},
   "outputs": [
    {
     "data": {
      "text/plain": [
       "(2175, 17)"
      ]
     },
     "execution_count": 35,
     "metadata": {},
     "output_type": "execute_result"
    }
   ],
   "source": [
    "twitter_archive_clean.shape"
   ]
  },
  {
   "cell_type": "markdown",
   "metadata": {},
   "source": [
    "#### `twitter_archive` : Some columns are not necessary for analyses and visualization purposes. Ex.: in_reply_to_status_id, in_reply_to_user_id, source, retweeted_status_id, retweeted_status_user_id, retweeted_status_timestamp, expanded_urls;"
   ]
  },
  {
   "cell_type": "markdown",
   "metadata": {},
   "source": [
    "##### Define"
   ]
  },
  {
   "cell_type": "markdown",
   "metadata": {},
   "source": [
    "Remove columns 'in_reply_to_status_id', 'in_reply_to_user_id','source', 'retweeted_status_id', 'retweeted_status_user_id', 'retweeted_status_timestamp' and 'expanded_urls' using the method **drop** from pandas."
   ]
  },
  {
   "cell_type": "markdown",
   "metadata": {},
   "source": [
    "#### Code"
   ]
  },
  {
   "cell_type": "code",
   "execution_count": 36,
   "metadata": {},
   "outputs": [],
   "source": [
    "twitter_archive_clean = twitter_archive_clean.drop(['in_reply_to_status_id','in_reply_to_user_id','source',\n",
    "                                                    'retweeted_status_id','retweeted_status_user_id',\n",
    "                                                    'retweeted_status_timestamp',\n",
    "                                                    'expanded_urls'],axis=1)"
   ]
  },
  {
   "cell_type": "markdown",
   "metadata": {},
   "source": [
    "##### Test"
   ]
  },
  {
   "cell_type": "code",
   "execution_count": 37,
   "metadata": {
    "scrolled": true
   },
   "outputs": [
    {
     "data": {
      "text/html": [
       "<div>\n",
       "<style scoped>\n",
       "    .dataframe tbody tr th:only-of-type {\n",
       "        vertical-align: middle;\n",
       "    }\n",
       "\n",
       "    .dataframe tbody tr th {\n",
       "        vertical-align: top;\n",
       "    }\n",
       "\n",
       "    .dataframe thead th {\n",
       "        text-align: right;\n",
       "    }\n",
       "</style>\n",
       "<table border=\"1\" class=\"dataframe\">\n",
       "  <thead>\n",
       "    <tr style=\"text-align: right;\">\n",
       "      <th></th>\n",
       "      <th>tweet_id</th>\n",
       "      <th>timestamp</th>\n",
       "      <th>text</th>\n",
       "      <th>rating_numerator</th>\n",
       "      <th>rating_denominator</th>\n",
       "      <th>name</th>\n",
       "      <th>doggo</th>\n",
       "      <th>floofer</th>\n",
       "      <th>pupper</th>\n",
       "      <th>puppo</th>\n",
       "    </tr>\n",
       "  </thead>\n",
       "  <tbody>\n",
       "    <tr>\n",
       "      <th>0</th>\n",
       "      <td>892420643555336193</td>\n",
       "      <td>2017-08-01 16:23:56 +0000</td>\n",
       "      <td>This is Phineas. He's a mystical boy. Only ever appears in the hole of a donut. 13/10 https://t.co/MgUWQ76dJU</td>\n",
       "      <td>13</td>\n",
       "      <td>10</td>\n",
       "      <td>Phineas</td>\n",
       "      <td>None</td>\n",
       "      <td>None</td>\n",
       "      <td>None</td>\n",
       "      <td>None</td>\n",
       "    </tr>\n",
       "    <tr>\n",
       "      <th>1</th>\n",
       "      <td>892177421306343426</td>\n",
       "      <td>2017-08-01 00:17:27 +0000</td>\n",
       "      <td>This is Tilly. She's just checking pup on you. Hopes you're doing ok. If not, she's available for pats, snugs, boops, the whole bit. 13/10 https://t.co/0Xxu71qeIV</td>\n",
       "      <td>13</td>\n",
       "      <td>10</td>\n",
       "      <td>Tilly</td>\n",
       "      <td>None</td>\n",
       "      <td>None</td>\n",
       "      <td>None</td>\n",
       "      <td>None</td>\n",
       "    </tr>\n",
       "    <tr>\n",
       "      <th>2</th>\n",
       "      <td>891815181378084864</td>\n",
       "      <td>2017-07-31 00:18:03 +0000</td>\n",
       "      <td>This is Archie. He is a rare Norwegian Pouncing Corgo. Lives in the tall grass. You never know when one may strike. 12/10 https://t.co/wUnZnhtVJB</td>\n",
       "      <td>12</td>\n",
       "      <td>10</td>\n",
       "      <td>Archie</td>\n",
       "      <td>None</td>\n",
       "      <td>None</td>\n",
       "      <td>None</td>\n",
       "      <td>None</td>\n",
       "    </tr>\n",
       "    <tr>\n",
       "      <th>3</th>\n",
       "      <td>891689557279858688</td>\n",
       "      <td>2017-07-30 15:58:51 +0000</td>\n",
       "      <td>This is Darla. She commenced a snooze mid meal. 13/10 happens to the best of us https://t.co/tD36da7qLQ</td>\n",
       "      <td>13</td>\n",
       "      <td>10</td>\n",
       "      <td>Darla</td>\n",
       "      <td>None</td>\n",
       "      <td>None</td>\n",
       "      <td>None</td>\n",
       "      <td>None</td>\n",
       "    </tr>\n",
       "    <tr>\n",
       "      <th>4</th>\n",
       "      <td>891327558926688256</td>\n",
       "      <td>2017-07-29 16:00:24 +0000</td>\n",
       "      <td>This is Franklin. He would like you to stop calling him \"cute.\" He is a very fierce shark and should be respected as such. 12/10 #BarkWeek https://t.co/AtUZn91f7f</td>\n",
       "      <td>12</td>\n",
       "      <td>10</td>\n",
       "      <td>Franklin</td>\n",
       "      <td>None</td>\n",
       "      <td>None</td>\n",
       "      <td>None</td>\n",
       "      <td>None</td>\n",
       "    </tr>\n",
       "  </tbody>\n",
       "</table>\n",
       "</div>"
      ],
      "text/plain": [
       "             tweet_id                  timestamp  \\\n",
       "0  892420643555336193  2017-08-01 16:23:56 +0000   \n",
       "1  892177421306343426  2017-08-01 00:17:27 +0000   \n",
       "2  891815181378084864  2017-07-31 00:18:03 +0000   \n",
       "3  891689557279858688  2017-07-30 15:58:51 +0000   \n",
       "4  891327558926688256  2017-07-29 16:00:24 +0000   \n",
       "\n",
       "                                                                                                                                                                 text  \\\n",
       "0                                                       This is Phineas. He's a mystical boy. Only ever appears in the hole of a donut. 13/10 https://t.co/MgUWQ76dJU   \n",
       "1  This is Tilly. She's just checking pup on you. Hopes you're doing ok. If not, she's available for pats, snugs, boops, the whole bit. 13/10 https://t.co/0Xxu71qeIV   \n",
       "2                   This is Archie. He is a rare Norwegian Pouncing Corgo. Lives in the tall grass. You never know when one may strike. 12/10 https://t.co/wUnZnhtVJB   \n",
       "3                                                             This is Darla. She commenced a snooze mid meal. 13/10 happens to the best of us https://t.co/tD36da7qLQ   \n",
       "4  This is Franklin. He would like you to stop calling him \"cute.\" He is a very fierce shark and should be respected as such. 12/10 #BarkWeek https://t.co/AtUZn91f7f   \n",
       "\n",
       "   rating_numerator  rating_denominator      name doggo floofer pupper puppo  \n",
       "0                13                  10   Phineas  None    None   None  None  \n",
       "1                13                  10     Tilly  None    None   None  None  \n",
       "2                12                  10    Archie  None    None   None  None  \n",
       "3                13                  10     Darla  None    None   None  None  \n",
       "4                12                  10  Franklin  None    None   None  None  "
      ]
     },
     "metadata": {},
     "output_type": "display_data"
    },
    {
     "data": {
      "text/plain": [
       "(2175, 10)"
      ]
     },
     "metadata": {},
     "output_type": "display_data"
    }
   ],
   "source": [
    "display(twitter_archive_clean.head())\n",
    "display(twitter_archive_clean.shape)"
   ]
  },
  {
   "cell_type": "markdown",
   "metadata": {},
   "source": [
    "### Tidness"
   ]
  },
  {
   "cell_type": "markdown",
   "metadata": {},
   "source": [
    "#### Doggo, floofer, pupper and puppo are values, not attributes. They should be in a single column"
   ]
  },
  {
   "cell_type": "markdown",
   "metadata": {},
   "source": [
    "##### Define"
   ]
  },
  {
   "cell_type": "markdown",
   "metadata": {},
   "source": [
    "Join attributes doggo, floofer, pupper and puppo into a single column using **melt** method from pandas. Remove the extra \"value\" column created by the function. Delete resulting duplicated ids."
   ]
  },
  {
   "cell_type": "markdown",
   "metadata": {},
   "source": [
    "##### Code"
   ]
  },
  {
   "cell_type": "code",
   "execution_count": 38,
   "metadata": {},
   "outputs": [],
   "source": [
    "twitter_archive_clean = pd.melt(twitter_archive_clean, id_vars=['tweet_id','timestamp',\n",
    "                                                                'text','rating_numerator',\n",
    "                                                                'rating_denominator','name'],\n",
    "                                var_name='dog_stage',value_name='stages_values')\n",
    "twitter_archive_clean = twitter_archive_clean.drop('stages_values', axis=1)\n",
    "twitter_archive_clean.drop_duplicates('tweet_id',inplace=True)"
   ]
  },
  {
   "cell_type": "markdown",
   "metadata": {},
   "source": [
    "##### Test"
   ]
  },
  {
   "cell_type": "code",
   "execution_count": 39,
   "metadata": {
    "scrolled": true
   },
   "outputs": [
    {
     "data": {
      "text/html": [
       "<div>\n",
       "<style scoped>\n",
       "    .dataframe tbody tr th:only-of-type {\n",
       "        vertical-align: middle;\n",
       "    }\n",
       "\n",
       "    .dataframe tbody tr th {\n",
       "        vertical-align: top;\n",
       "    }\n",
       "\n",
       "    .dataframe thead th {\n",
       "        text-align: right;\n",
       "    }\n",
       "</style>\n",
       "<table border=\"1\" class=\"dataframe\">\n",
       "  <thead>\n",
       "    <tr style=\"text-align: right;\">\n",
       "      <th></th>\n",
       "      <th>tweet_id</th>\n",
       "      <th>timestamp</th>\n",
       "      <th>text</th>\n",
       "      <th>rating_numerator</th>\n",
       "      <th>rating_denominator</th>\n",
       "      <th>name</th>\n",
       "      <th>dog_stage</th>\n",
       "    </tr>\n",
       "  </thead>\n",
       "  <tbody>\n",
       "    <tr>\n",
       "      <th>2112</th>\n",
       "      <td>667152164079423490</td>\n",
       "      <td>2015-11-19 01:27:25 +0000</td>\n",
       "      <td>This is Pipsy. He is a fluffball. Enjoys traveling the sea &amp;amp; getting tangled in leash. 12/10 I would kill for Pipsy https://t.co/h9R0EwKd9X</td>\n",
       "      <td>12</td>\n",
       "      <td>10</td>\n",
       "      <td>Pipsy</td>\n",
       "      <td>doggo</td>\n",
       "    </tr>\n",
       "    <tr>\n",
       "      <th>1092</th>\n",
       "      <td>709409458133323776</td>\n",
       "      <td>2016-03-14 16:02:49 +0000</td>\n",
       "      <td>This is Billy. He sensed a squirrel. 8/10 damn it Billy https://t.co/Yu0K98VZ9A</td>\n",
       "      <td>8</td>\n",
       "      <td>10</td>\n",
       "      <td>Billy</td>\n",
       "      <td>doggo</td>\n",
       "    </tr>\n",
       "    <tr>\n",
       "      <th>1763</th>\n",
       "      <td>673711475735838725</td>\n",
       "      <td>2015-12-07 03:51:47 +0000</td>\n",
       "      <td>🎶 HELLO FROM THE OTHER SIIIIIIIIDE 🎶 10/10 https://t.co/MTOOksRzvH</td>\n",
       "      <td>10</td>\n",
       "      <td>10</td>\n",
       "      <td>None</td>\n",
       "      <td>doggo</td>\n",
       "    </tr>\n",
       "    <tr>\n",
       "      <th>1061</th>\n",
       "      <td>712092745624633345</td>\n",
       "      <td>2016-03-22 01:45:15 +0000</td>\n",
       "      <td>This is Steven. He's inverted af. Also very helpful. Scans anything you want for free. Takes him a while tho. 7/10 https://t.co/tA0ZiQ7JcG</td>\n",
       "      <td>7</td>\n",
       "      <td>10</td>\n",
       "      <td>Steven</td>\n",
       "      <td>doggo</td>\n",
       "    </tr>\n",
       "    <tr>\n",
       "      <th>1062</th>\n",
       "      <td>712085617388212225</td>\n",
       "      <td>2016-03-22 01:16:55 +0000</td>\n",
       "      <td>Say hello to Olive and Ruby. They are best buddies. Both 11/10 \\n1 like = 1 buddy https://t.co/yagmFdKlyL</td>\n",
       "      <td>11</td>\n",
       "      <td>10</td>\n",
       "      <td>Olive</td>\n",
       "      <td>doggo</td>\n",
       "    </tr>\n",
       "    <tr>\n",
       "      <th>1261</th>\n",
       "      <td>696886256886657024</td>\n",
       "      <td>2016-02-09 02:40:05 +0000</td>\n",
       "      <td>Guys I found the dog from Up. 12/10 https://t.co/WqoZtX9jmJ</td>\n",
       "      <td>12</td>\n",
       "      <td>10</td>\n",
       "      <td>None</td>\n",
       "      <td>doggo</td>\n",
       "    </tr>\n",
       "    <tr>\n",
       "      <th>1301</th>\n",
       "      <td>693486665285931008</td>\n",
       "      <td>2016-01-30 17:31:20 +0000</td>\n",
       "      <td>This is Lincoln. He doesn't understand his new jacket. 11/10 please enjoy (vid by @GraceIsTheName8) https://t.co/S6cQsIoX27</td>\n",
       "      <td>11</td>\n",
       "      <td>10</td>\n",
       "      <td>Lincoln</td>\n",
       "      <td>doggo</td>\n",
       "    </tr>\n",
       "    <tr>\n",
       "      <th>2000</th>\n",
       "      <td>669006782128353280</td>\n",
       "      <td>2015-11-24 04:17:01 +0000</td>\n",
       "      <td>This is Tucker. He is 100% ready for the sports. 12/10 I would watch anything with him https://t.co/k0ddVUWTcu</td>\n",
       "      <td>12</td>\n",
       "      <td>10</td>\n",
       "      <td>Tucker</td>\n",
       "      <td>doggo</td>\n",
       "    </tr>\n",
       "    <tr>\n",
       "      <th>530</th>\n",
       "      <td>791672322847637504</td>\n",
       "      <td>2016-10-27 16:06:04 +0000</td>\n",
       "      <td>When she says you're a good boy and you know you're a good boy because you're a good boy. 13/10 https://t.co/O5IUmRHRIh</td>\n",
       "      <td>13</td>\n",
       "      <td>10</td>\n",
       "      <td>None</td>\n",
       "      <td>doggo</td>\n",
       "    </tr>\n",
       "    <tr>\n",
       "      <th>2168</th>\n",
       "      <td>666051853826850816</td>\n",
       "      <td>2015-11-16 00:35:11 +0000</td>\n",
       "      <td>This is an odd dog. Hard on the outside but loving on the inside. Petting still fun. Doesn't play catch well. 2/10 https://t.co/v5A4vzSDdc</td>\n",
       "      <td>2</td>\n",
       "      <td>10</td>\n",
       "      <td>an</td>\n",
       "      <td>doggo</td>\n",
       "    </tr>\n",
       "  </tbody>\n",
       "</table>\n",
       "</div>"
      ],
      "text/plain": [
       "                tweet_id                  timestamp  \\\n",
       "2112  667152164079423490  2015-11-19 01:27:25 +0000   \n",
       "1092  709409458133323776  2016-03-14 16:02:49 +0000   \n",
       "1763  673711475735838725  2015-12-07 03:51:47 +0000   \n",
       "1061  712092745624633345  2016-03-22 01:45:15 +0000   \n",
       "1062  712085617388212225  2016-03-22 01:16:55 +0000   \n",
       "1261  696886256886657024  2016-02-09 02:40:05 +0000   \n",
       "1301  693486665285931008  2016-01-30 17:31:20 +0000   \n",
       "2000  669006782128353280  2015-11-24 04:17:01 +0000   \n",
       "530   791672322847637504  2016-10-27 16:06:04 +0000   \n",
       "2168  666051853826850816  2015-11-16 00:35:11 +0000   \n",
       "\n",
       "                                                                                                                                                 text  \\\n",
       "2112  This is Pipsy. He is a fluffball. Enjoys traveling the sea &amp; getting tangled in leash. 12/10 I would kill for Pipsy https://t.co/h9R0EwKd9X   \n",
       "1092                                                                  This is Billy. He sensed a squirrel. 8/10 damn it Billy https://t.co/Yu0K98VZ9A   \n",
       "1763                                                                               🎶 HELLO FROM THE OTHER SIIIIIIIIDE 🎶 10/10 https://t.co/MTOOksRzvH   \n",
       "1061       This is Steven. He's inverted af. Also very helpful. Scans anything you want for free. Takes him a while tho. 7/10 https://t.co/tA0ZiQ7JcG   \n",
       "1062                                        Say hello to Olive and Ruby. They are best buddies. Both 11/10 \\n1 like = 1 buddy https://t.co/yagmFdKlyL   \n",
       "1261                                                                                      Guys I found the dog from Up. 12/10 https://t.co/WqoZtX9jmJ   \n",
       "1301                      This is Lincoln. He doesn't understand his new jacket. 11/10 please enjoy (vid by @GraceIsTheName8) https://t.co/S6cQsIoX27   \n",
       "2000                                   This is Tucker. He is 100% ready for the sports. 12/10 I would watch anything with him https://t.co/k0ddVUWTcu   \n",
       "530                           When she says you're a good boy and you know you're a good boy because you're a good boy. 13/10 https://t.co/O5IUmRHRIh   \n",
       "2168       This is an odd dog. Hard on the outside but loving on the inside. Petting still fun. Doesn't play catch well. 2/10 https://t.co/v5A4vzSDdc   \n",
       "\n",
       "      rating_numerator  rating_denominator     name dog_stage  \n",
       "2112                12                  10    Pipsy     doggo  \n",
       "1092                 8                  10    Billy     doggo  \n",
       "1763                10                  10     None     doggo  \n",
       "1061                 7                  10   Steven     doggo  \n",
       "1062                11                  10    Olive     doggo  \n",
       "1261                12                  10     None     doggo  \n",
       "1301                11                  10  Lincoln     doggo  \n",
       "2000                12                  10   Tucker     doggo  \n",
       "530                 13                  10     None     doggo  \n",
       "2168                 2                  10       an     doggo  "
      ]
     },
     "metadata": {},
     "output_type": "display_data"
    },
    {
     "data": {
      "text/plain": [
       "(2175, 7)"
      ]
     },
     "metadata": {},
     "output_type": "display_data"
    }
   ],
   "source": [
    "display(twitter_archive_clean.sample(10))\n",
    "display(twitter_archive_clean.shape)"
   ]
  },
  {
   "cell_type": "markdown",
   "metadata": {},
   "source": [
    "#### Attributes retweet_count and favorite_count from `tweet_json` table should be in `twitter_archive` table and then `tweet_json` could be deleted"
   ]
  },
  {
   "cell_type": "markdown",
   "metadata": {},
   "source": [
    "##### Define"
   ]
  },
  {
   "cell_type": "markdown",
   "metadata": {},
   "source": [
    "Merge twitter_archive_clean and tweet_json_clean tables keeping all the content of the twitter_archive_clean table (left merge)."
   ]
  },
  {
   "cell_type": "markdown",
   "metadata": {},
   "source": [
    "##### Code"
   ]
  },
  {
   "cell_type": "code",
   "execution_count": 40,
   "metadata": {},
   "outputs": [],
   "source": [
    "twitter_archive_clean = pd.merge(twitter_archive_clean, tweet_json_clean,\n",
    "                                 on=['tweet_id'], how='left')"
   ]
  },
  {
   "cell_type": "markdown",
   "metadata": {},
   "source": [
    "##### Test"
   ]
  },
  {
   "cell_type": "code",
   "execution_count": 41,
   "metadata": {},
   "outputs": [
    {
     "data": {
      "text/html": [
       "<div>\n",
       "<style scoped>\n",
       "    .dataframe tbody tr th:only-of-type {\n",
       "        vertical-align: middle;\n",
       "    }\n",
       "\n",
       "    .dataframe tbody tr th {\n",
       "        vertical-align: top;\n",
       "    }\n",
       "\n",
       "    .dataframe thead th {\n",
       "        text-align: right;\n",
       "    }\n",
       "</style>\n",
       "<table border=\"1\" class=\"dataframe\">\n",
       "  <thead>\n",
       "    <tr style=\"text-align: right;\">\n",
       "      <th></th>\n",
       "      <th>tweet_id</th>\n",
       "      <th>timestamp</th>\n",
       "      <th>text</th>\n",
       "      <th>rating_numerator</th>\n",
       "      <th>rating_denominator</th>\n",
       "      <th>name</th>\n",
       "      <th>dog_stage</th>\n",
       "      <th>retweet_count</th>\n",
       "      <th>favorite_count</th>\n",
       "    </tr>\n",
       "  </thead>\n",
       "  <tbody>\n",
       "    <tr>\n",
       "      <th>0</th>\n",
       "      <td>892420643555336193</td>\n",
       "      <td>2017-08-01 16:23:56 +0000</td>\n",
       "      <td>This is Phineas. He's a mystical boy. Only ever appears in the hole of a donut. 13/10 https://t.co/MgUWQ76dJU</td>\n",
       "      <td>13</td>\n",
       "      <td>10</td>\n",
       "      <td>Phineas</td>\n",
       "      <td>doggo</td>\n",
       "      <td>8344.0</td>\n",
       "      <td>38139.0</td>\n",
       "    </tr>\n",
       "    <tr>\n",
       "      <th>1</th>\n",
       "      <td>892177421306343426</td>\n",
       "      <td>2017-08-01 00:17:27 +0000</td>\n",
       "      <td>This is Tilly. She's just checking pup on you. Hopes you're doing ok. If not, she's available for pats, snugs, boops, the whole bit. 13/10 https://t.co/0Xxu71qeIV</td>\n",
       "      <td>13</td>\n",
       "      <td>10</td>\n",
       "      <td>Tilly</td>\n",
       "      <td>doggo</td>\n",
       "      <td>6166.0</td>\n",
       "      <td>32712.0</td>\n",
       "    </tr>\n",
       "  </tbody>\n",
       "</table>\n",
       "</div>"
      ],
      "text/plain": [
       "             tweet_id                  timestamp  \\\n",
       "0  892420643555336193  2017-08-01 16:23:56 +0000   \n",
       "1  892177421306343426  2017-08-01 00:17:27 +0000   \n",
       "\n",
       "                                                                                                                                                                 text  \\\n",
       "0                                                       This is Phineas. He's a mystical boy. Only ever appears in the hole of a donut. 13/10 https://t.co/MgUWQ76dJU   \n",
       "1  This is Tilly. She's just checking pup on you. Hopes you're doing ok. If not, she's available for pats, snugs, boops, the whole bit. 13/10 https://t.co/0Xxu71qeIV   \n",
       "\n",
       "   rating_numerator  rating_denominator     name dog_stage  retweet_count  \\\n",
       "0                13                  10  Phineas     doggo         8344.0   \n",
       "1                13                  10    Tilly     doggo         6166.0   \n",
       "\n",
       "   favorite_count  \n",
       "0         38139.0  \n",
       "1         32712.0  "
      ]
     },
     "execution_count": 41,
     "metadata": {},
     "output_type": "execute_result"
    }
   ],
   "source": [
    "twitter_archive_clean.head(2)"
   ]
  },
  {
   "cell_type": "markdown",
   "metadata": {},
   "source": [
    "#### p1, p1_conf, pi_dog, p2, p2_conf, p2_dog, p3, p3_conf and p3_dog should be reduce into two columns: dog breed (if exists) and its prediction confidence value (for the highest value).\n",
    "\n",
    "#### Two different dataframes should exist: one relative to the twitter tweets (twitter_archive_clean) and another one with all the dogs informations. The \"image_predictions\" table can be used as the second dataframe changing its name to \"dogs_data\". Moreover, attributes \"name\", \"dog_stage\", \"rating_numerator\" and \"rating_denominator\" from \"twitter_archive\" should be transfered to \"dogs_data\" since they are relative to the dogs.\n",
    "\n",
    "#### `image_predictions`: Some predictions didn't recognize a dog, but anything else\n",
    "#### `image_predictions`: Inappropriate attribute names (p1, p2, etc)"
   ]
  },
  {
   "cell_type": "markdown",
   "metadata": {},
   "source": [
    "##### Define"
   ]
  },
  {
   "cell_type": "markdown",
   "metadata": {},
   "source": [
    "Extract the highest prediction confidence value for each row and verify if its corresponding prediction is a dog breed. If it is not, take the second highest prediction confidence and do the same. If the second best prediction is not also a dog, test the third prediction. If all predictions failed to identify a dog, assign the value \"Unknown\" as the dog breed. \n",
    "\n",
    "Create two different lists: dog_breed_prediction, with the obtained dog breeds and dog_breed_confidence, with the corresponding prediction confidence value.\n",
    "\n",
    "Create dogs_data table from image_predictions containing the attributes tweet_id, dog_name, dog_picture_url, dog_breed_prediction, dog_breed_prediction_confidence and dog_stage"
   ]
  },
  {
   "cell_type": "markdown",
   "metadata": {},
   "source": [
    "##### Code"
   ]
  },
  {
   "cell_type": "code",
   "execution_count": 42,
   "metadata": {},
   "outputs": [],
   "source": [
    "#dog_breed and dog_breed_confidence will be new attributes in the image_predictions_clean dataframe\n",
    "dog_breed = []\n",
    "dog_breed_confidence = []\n",
    "\n",
    "#The following code iterate over the dataframe and take the dog breed (if it exists) with highest confidence value.\n",
    "#Results are inputed into the lists dog_breed and dog_breed_confidence\n",
    "\n",
    "for index, row in image_predictions_clean.iterrows():\n",
    "    \n",
    "    confidence_values = [] #ordered confidence values from in a row [p1_conf, p2_conf, p3_conf]\n",
    "    isdog = [] #ordered boolean values about the classification being or not a dog [p1_dog, p2_dog, p3_dog]\n",
    "    attributes = ['p1','p2','p3'] #ordered attribute labels [p1, p2, p3]\n",
    "    \n",
    "    #For each line of the datafram, update the lists confidence_values and isdog\n",
    "    confidence_values.append(row.p1_conf)\n",
    "    confidence_values.append(row.p2_conf)\n",
    "    confidence_values.append(row.p3_conf)\n",
    "    isdog.append(row.p1_dog)\n",
    "    isdog.append(row.p2_dog)\n",
    "    isdog.append(row.p3_dog)\n",
    "    \n",
    "    #If the classification with the highest score is about a dog, add it to the list dog_breed and its corresponding\n",
    "    #confidence value to the list dog_breed_confidence. If not, delete this element from the confidence_values,\n",
    "    #isdog and attribute lists and do the same procedure for the remaining two items. If the highest score between\n",
    "    #the remaining two items is about a dog, add it to the list dog_breed. If it is not a dog, delete it \n",
    "    #and verify the last element. If none of the three classifications are a dog, the name unknown is given to dog_breed\n",
    "    #and 0 is given to its confidence\n",
    "    \n",
    "    if isdog[confidence_values.index(max(confidence_values))]: #first maximum verification\n",
    "        dog_breed.append(row[attributes[confidence_values.index(max(confidence_values))]])\n",
    "        dog_breed_confidence.append(max(confidence_values))\n",
    "    else: #first classification with maximum confidence is not about a dog\n",
    "        del attributes[confidence_values.index(max(confidence_values))]\n",
    "        del confidence_values[confidence_values.index(max(confidence_values))]\n",
    "        del isdog[confidence_values.index(max(confidence_values))]\n",
    "        if isdog[confidence_values.index(max(confidence_values))]: #second maximum verification\n",
    "            dog_breed.append(row[attributes[confidence_values.index(max(confidence_values))]])\n",
    "            dog_breed_confidence.append(max(confidence_values))\n",
    "        else: #second classification with maximum confidence is not about a dog\n",
    "            del attributes[confidence_values.index(max(confidence_values))]\n",
    "            del confidence_values[confidence_values.index(max(confidence_values))]\n",
    "            del isdog[confidence_values.index(max(confidence_values))]\n",
    "            if isdog[confidence_values.index(max(confidence_values))]: #third maximum verification\n",
    "                dog_breed.append(row[attributes[confidence_values.index(max(confidence_values))]])\n",
    "                dog_breed_confidence.append(max(confidence_values))\n",
    "            else: #third (and none) classification with maximum confidence is not about a dog\n",
    "                dog_breed.append(\"Unknown\")\n",
    "                dog_breed_confidence.append(0)\n",
    "\n",
    "#Include dob_breed and dog_breed_confidence as attributes of image_predictions_clean\n",
    "image_predictions_clean['dog_breed_prediction'] = dog_breed\n",
    "image_predictions_clean['dog_breed_prediction_confidence'] = dog_breed_confidence\n",
    "\n",
    "\n",
    "#Remove undesired p1, p1_conf, ..., p3_dog columns from image_predictions_clean\n",
    "image_predictions_clean.drop(['img_num','p1','p1_conf','p1_dog',\n",
    "                              'p2','p2_conf','p2_dog',\n",
    "                              'p3','p3_conf','p3_dog'],axis=1,inplace=True)\n",
    "\n",
    "#Create datafrabe dogs_data\n",
    "dogs_data = image_predictions_clean.copy()\n",
    "new_dogs_data_labels = ['tweet_id','dog_picture_url','dog_breed_prediction','dog_breed_prediction_confidence']\n",
    "dogs_data.columns = new_dogs_data_labels\n",
    "\n",
    "#Transfer attributes \"name\", dog_stage\", \"rating_numerator\" and \"rating_denominator\" to dogs_data dataframe\n",
    "#NOTE: a right merge will be done to keep track of all the tweet ids that were obtained through the API\n",
    "dogs_data = pd.merge(dogs_data, twitter_archive_clean,\n",
    "                                 on=['tweet_id'], how='right')\n",
    "\n",
    "#Remove unecessary attributes from dogs_data that came in the merging process.\n",
    "#NOTE: retweet_count won't be removed yet to keep track of the IDs that came from the twitter API.\n",
    "#That will be usefull for later cleaning procedures\n",
    "dogs_data.drop(['timestamp','text',\n",
    "                'favorite_count'],axis=1,inplace = True)\n",
    "\n",
    "#Remove attributes \"name\", dog_stage\", \"rating_numerator\" and \"rating_denominator\"\n",
    "#from twitter_archive_clean dataframe\n",
    "twitter_archive_clean.drop(['name','dog_stage','rating_numerator','rating_denominator'],axis=1,inplace = True)"
   ]
  },
  {
   "cell_type": "markdown",
   "metadata": {},
   "source": [
    "##### Test"
   ]
  },
  {
   "cell_type": "code",
   "execution_count": 43,
   "metadata": {
    "scrolled": false
   },
   "outputs": [
    {
     "data": {
      "text/html": [
       "<div>\n",
       "<style scoped>\n",
       "    .dataframe tbody tr th:only-of-type {\n",
       "        vertical-align: middle;\n",
       "    }\n",
       "\n",
       "    .dataframe tbody tr th {\n",
       "        vertical-align: top;\n",
       "    }\n",
       "\n",
       "    .dataframe thead th {\n",
       "        text-align: right;\n",
       "    }\n",
       "</style>\n",
       "<table border=\"1\" class=\"dataframe\">\n",
       "  <thead>\n",
       "    <tr style=\"text-align: right;\">\n",
       "      <th></th>\n",
       "      <th>tweet_id</th>\n",
       "      <th>timestamp</th>\n",
       "      <th>text</th>\n",
       "      <th>retweet_count</th>\n",
       "      <th>favorite_count</th>\n",
       "    </tr>\n",
       "  </thead>\n",
       "  <tbody>\n",
       "    <tr>\n",
       "      <th>0</th>\n",
       "      <td>892420643555336193</td>\n",
       "      <td>2017-08-01 16:23:56 +0000</td>\n",
       "      <td>This is Phineas. He's a mystical boy. Only ever appears in the hole of a donut. 13/10 https://t.co/MgUWQ76dJU</td>\n",
       "      <td>8344.0</td>\n",
       "      <td>38139.0</td>\n",
       "    </tr>\n",
       "    <tr>\n",
       "      <th>1</th>\n",
       "      <td>892177421306343426</td>\n",
       "      <td>2017-08-01 00:17:27 +0000</td>\n",
       "      <td>This is Tilly. She's just checking pup on you. Hopes you're doing ok. If not, she's available for pats, snugs, boops, the whole bit. 13/10 https://t.co/0Xxu71qeIV</td>\n",
       "      <td>6166.0</td>\n",
       "      <td>32712.0</td>\n",
       "    </tr>\n",
       "  </tbody>\n",
       "</table>\n",
       "</div>"
      ],
      "text/plain": [
       "             tweet_id                  timestamp  \\\n",
       "0  892420643555336193  2017-08-01 16:23:56 +0000   \n",
       "1  892177421306343426  2017-08-01 00:17:27 +0000   \n",
       "\n",
       "                                                                                                                                                                 text  \\\n",
       "0                                                       This is Phineas. He's a mystical boy. Only ever appears in the hole of a donut. 13/10 https://t.co/MgUWQ76dJU   \n",
       "1  This is Tilly. She's just checking pup on you. Hopes you're doing ok. If not, she's available for pats, snugs, boops, the whole bit. 13/10 https://t.co/0Xxu71qeIV   \n",
       "\n",
       "   retweet_count  favorite_count  \n",
       "0         8344.0         38139.0  \n",
       "1         6166.0         32712.0  "
      ]
     },
     "metadata": {},
     "output_type": "display_data"
    },
    {
     "data": {
      "text/html": [
       "<div>\n",
       "<style scoped>\n",
       "    .dataframe tbody tr th:only-of-type {\n",
       "        vertical-align: middle;\n",
       "    }\n",
       "\n",
       "    .dataframe tbody tr th {\n",
       "        vertical-align: top;\n",
       "    }\n",
       "\n",
       "    .dataframe thead th {\n",
       "        text-align: right;\n",
       "    }\n",
       "</style>\n",
       "<table border=\"1\" class=\"dataframe\">\n",
       "  <thead>\n",
       "    <tr style=\"text-align: right;\">\n",
       "      <th></th>\n",
       "      <th>tweet_id</th>\n",
       "      <th>dog_picture_url</th>\n",
       "      <th>dog_breed_prediction</th>\n",
       "      <th>dog_breed_prediction_confidence</th>\n",
       "      <th>rating_numerator</th>\n",
       "      <th>rating_denominator</th>\n",
       "      <th>name</th>\n",
       "      <th>dog_stage</th>\n",
       "      <th>retweet_count</th>\n",
       "    </tr>\n",
       "  </thead>\n",
       "  <tbody>\n",
       "    <tr>\n",
       "      <th>0</th>\n",
       "      <td>666020888022790149</td>\n",
       "      <td>https://pbs.twimg.com/media/CT4udn0WwAA0aMy.jpg</td>\n",
       "      <td>Welsh_springer_spaniel</td>\n",
       "      <td>0.465074</td>\n",
       "      <td>8</td>\n",
       "      <td>10</td>\n",
       "      <td>None</td>\n",
       "      <td>doggo</td>\n",
       "      <td>NaN</td>\n",
       "    </tr>\n",
       "    <tr>\n",
       "      <th>1</th>\n",
       "      <td>666029285002620928</td>\n",
       "      <td>https://pbs.twimg.com/media/CT42GRgUYAA5iDo.jpg</td>\n",
       "      <td>redbone</td>\n",
       "      <td>0.506826</td>\n",
       "      <td>7</td>\n",
       "      <td>10</td>\n",
       "      <td>a</td>\n",
       "      <td>doggo</td>\n",
       "      <td>NaN</td>\n",
       "    </tr>\n",
       "  </tbody>\n",
       "</table>\n",
       "</div>"
      ],
      "text/plain": [
       "             tweet_id                                  dog_picture_url  \\\n",
       "0  666020888022790149  https://pbs.twimg.com/media/CT4udn0WwAA0aMy.jpg   \n",
       "1  666029285002620928  https://pbs.twimg.com/media/CT42GRgUYAA5iDo.jpg   \n",
       "\n",
       "     dog_breed_prediction  dog_breed_prediction_confidence  rating_numerator  \\\n",
       "0  Welsh_springer_spaniel                         0.465074                 8   \n",
       "1                 redbone                         0.506826                 7   \n",
       "\n",
       "   rating_denominator  name dog_stage  retweet_count  \n",
       "0                  10  None     doggo            NaN  \n",
       "1                  10     a     doggo            NaN  "
      ]
     },
     "metadata": {},
     "output_type": "display_data"
    }
   ],
   "source": [
    "display(twitter_archive_clean.head(2))\n",
    "display(dogs_data.head(2))"
   ]
  },
  {
   "cell_type": "markdown",
   "metadata": {},
   "source": [
    "#### Inconsistent dataframes sizes provided that some tweets were removed from twitter\n",
    "#### `twitter_archive` : Unknown values are represented by \"None\" in Name, doggo, floofer, pupper and puppo;\n",
    "**Note that Name, doggo, floofer, pupper and puppo are now in dogs_data table**"
   ]
  },
  {
   "cell_type": "markdown",
   "metadata": {},
   "source": [
    "##### Define"
   ]
  },
  {
   "cell_type": "markdown",
   "metadata": {},
   "source": [
    "Remove all posts that doesn't exist anymore on twitter. That can be done deleting rows in which retweet_count is null, because retweet_count is an attribute extracted from the tweepy API. \n",
    "\n",
    "Fill all NaN jpg_url with a null string \"\"\n",
    "\n",
    "Fill all the NaN dog breeds with the value \"Unknown\"\n",
    "\n",
    "Fill all the NaN dog breed confidence values with 0\n",
    "\n",
    "Replace None values by \"Uknown\""
   ]
  },
  {
   "cell_type": "markdown",
   "metadata": {},
   "source": [
    "##### Code"
   ]
  },
  {
   "cell_type": "code",
   "execution_count": 44,
   "metadata": {},
   "outputs": [],
   "source": [
    "twitter_archive_clean = twitter_archive_clean[~twitter_archive_clean.retweet_count.isnull()]\n",
    "dogs_data = dogs_data[~dogs_data.retweet_count.isnull()]\n",
    "\n",
    "#Removing retweet_count from dogs_data dataframe\n",
    "dogs_data.drop(['retweet_count'],axis=1,inplace = True)"
   ]
  },
  {
   "cell_type": "code",
   "execution_count": 45,
   "metadata": {
    "scrolled": true
   },
   "outputs": [],
   "source": [
    "dogs_data.dog_picture_url.fillna(\"\",inplace=True)\n",
    "dogs_data.dog_breed_prediction.fillna(\"Unknown\",inplace=True)\n",
    "dogs_data.dog_breed_prediction_confidence.fillna(0,inplace=True)\n",
    "dogs_data.dog_stage = dogs_data.dog_stage.str.replace(\"None\",\"Unknown\")\n",
    "dogs_data.name = dogs_data.name.str.replace(\"None\",\"Unknown\")\n",
    "dogs_data.reset_index(inplace=True,drop=True)"
   ]
  },
  {
   "cell_type": "markdown",
   "metadata": {},
   "source": [
    "##### Test"
   ]
  },
  {
   "cell_type": "code",
   "execution_count": 46,
   "metadata": {
    "scrolled": true
   },
   "outputs": [
    {
     "data": {
      "text/html": [
       "<div>\n",
       "<style scoped>\n",
       "    .dataframe tbody tr th:only-of-type {\n",
       "        vertical-align: middle;\n",
       "    }\n",
       "\n",
       "    .dataframe tbody tr th {\n",
       "        vertical-align: top;\n",
       "    }\n",
       "\n",
       "    .dataframe thead th {\n",
       "        text-align: right;\n",
       "    }\n",
       "</style>\n",
       "<table border=\"1\" class=\"dataframe\">\n",
       "  <thead>\n",
       "    <tr style=\"text-align: right;\">\n",
       "      <th></th>\n",
       "      <th>tweet_id</th>\n",
       "      <th>dog_picture_url</th>\n",
       "      <th>dog_breed_prediction</th>\n",
       "      <th>dog_breed_prediction_confidence</th>\n",
       "      <th>rating_numerator</th>\n",
       "      <th>rating_denominator</th>\n",
       "      <th>name</th>\n",
       "      <th>dog_stage</th>\n",
       "    </tr>\n",
       "  </thead>\n",
       "  <tbody>\n",
       "    <tr>\n",
       "      <th>0</th>\n",
       "      <td>746790600704425984</td>\n",
       "      <td>https://pbs.twimg.com/media/Cl0iFdeXEAQtPyT.jpg</td>\n",
       "      <td>Boston_bull</td>\n",
       "      <td>0.936183</td>\n",
       "      <td>10</td>\n",
       "      <td>10</td>\n",
       "      <td>Unknown</td>\n",
       "      <td>doggo</td>\n",
       "    </tr>\n",
       "    <tr>\n",
       "      <th>1</th>\n",
       "      <td>758828659922702336</td>\n",
       "      <td>https://pbs.twimg.com/media/Cofmom_VUAA4dRO.jpg</td>\n",
       "      <td>Chesapeake_Bay_retriever</td>\n",
       "      <td>0.480048</td>\n",
       "      <td>13</td>\n",
       "      <td>10</td>\n",
       "      <td>Unknown</td>\n",
       "      <td>doggo</td>\n",
       "    </tr>\n",
       "    <tr>\n",
       "      <th>2</th>\n",
       "      <td>758854675097526272</td>\n",
       "      <td>https://pbs.twimg.com/media/Cof-SuqVYAAs4kZ.jpg</td>\n",
       "      <td>Old_English_sheepdog</td>\n",
       "      <td>0.023791</td>\n",
       "      <td>11</td>\n",
       "      <td>10</td>\n",
       "      <td>Lilli</td>\n",
       "      <td>doggo</td>\n",
       "    </tr>\n",
       "    <tr>\n",
       "      <th>3</th>\n",
       "      <td>759047813560868866</td>\n",
       "      <td>https://pbs.twimg.com/media/Coit84_VYAEMtLi.jpg</td>\n",
       "      <td>Labrador_retriever</td>\n",
       "      <td>0.778546</td>\n",
       "      <td>11</td>\n",
       "      <td>10</td>\n",
       "      <td>Spencer</td>\n",
       "      <td>doggo</td>\n",
       "    </tr>\n",
       "    <tr>\n",
       "      <th>4</th>\n",
       "      <td>759099523532779520</td>\n",
       "      <td>https://pbs.twimg.com/media/Cojc_Q0WcAAqi_K.jpg</td>\n",
       "      <td>Shetland_sheepdog</td>\n",
       "      <td>0.129034</td>\n",
       "      <td>7</td>\n",
       "      <td>10</td>\n",
       "      <td>Toby</td>\n",
       "      <td>doggo</td>\n",
       "    </tr>\n",
       "  </tbody>\n",
       "</table>\n",
       "</div>"
      ],
      "text/plain": [
       "             tweet_id                                  dog_picture_url  \\\n",
       "0  746790600704425984  https://pbs.twimg.com/media/Cl0iFdeXEAQtPyT.jpg   \n",
       "1  758828659922702336  https://pbs.twimg.com/media/Cofmom_VUAA4dRO.jpg   \n",
       "2  758854675097526272  https://pbs.twimg.com/media/Cof-SuqVYAAs4kZ.jpg   \n",
       "3  759047813560868866  https://pbs.twimg.com/media/Coit84_VYAEMtLi.jpg   \n",
       "4  759099523532779520  https://pbs.twimg.com/media/Cojc_Q0WcAAqi_K.jpg   \n",
       "\n",
       "       dog_breed_prediction  dog_breed_prediction_confidence  \\\n",
       "0               Boston_bull                         0.936183   \n",
       "1  Chesapeake_Bay_retriever                         0.480048   \n",
       "2      Old_English_sheepdog                         0.023791   \n",
       "3        Labrador_retriever                         0.778546   \n",
       "4         Shetland_sheepdog                         0.129034   \n",
       "\n",
       "   rating_numerator  rating_denominator     name dog_stage  \n",
       "0                10                  10  Unknown     doggo  \n",
       "1                13                  10  Unknown     doggo  \n",
       "2                11                  10    Lilli     doggo  \n",
       "3                11                  10  Spencer     doggo  \n",
       "4                 7                  10     Toby     doggo  "
      ]
     },
     "execution_count": 46,
     "metadata": {},
     "output_type": "execute_result"
    }
   ],
   "source": [
    "dogs_data.head()"
   ]
  },
  {
   "cell_type": "markdown",
   "metadata": {},
   "source": [
    "### Quality"
   ]
  },
  {
   "cell_type": "markdown",
   "metadata": {},
   "source": [
    "#### `twitter_archive`: Erroneous datatype for timestamp\n",
    "#### `tweet_json`: Erroneous datatype for retweet_count and favorite_count\n",
    "**Note that retweet_count and favorite_count are now attributes from twitter_archive table**"
   ]
  },
  {
   "cell_type": "markdown",
   "metadata": {},
   "source": [
    "##### Define"
   ]
  },
  {
   "cell_type": "markdown",
   "metadata": {},
   "source": [
    "Change the datatype of the column timestamp of twitter_archive_clean table using pd.to_datetime method.\n",
    "\n",
    "Change the datatype of the columns retweet_count and favorite_count of twitter_archive_clean table using astype method."
   ]
  },
  {
   "cell_type": "markdown",
   "metadata": {},
   "source": [
    "##### Code"
   ]
  },
  {
   "cell_type": "code",
   "execution_count": 47,
   "metadata": {},
   "outputs": [],
   "source": [
    "twitter_archive_clean.timestamp = pd.to_datetime(twitter_archive_clean.timestamp)\n",
    "twitter_archive_clean.retweet_count = twitter_archive_clean.retweet_count.astype(int)\n",
    "twitter_archive_clean.favorite_count = twitter_archive_clean.favorite_count.astype(int)"
   ]
  },
  {
   "cell_type": "markdown",
   "metadata": {},
   "source": [
    "##### Test"
   ]
  },
  {
   "cell_type": "code",
   "execution_count": 48,
   "metadata": {
    "scrolled": false
   },
   "outputs": [
    {
     "name": "stdout",
     "output_type": "stream",
     "text": [
      "<class 'pandas.core.frame.DataFrame'>\n",
      "Int64Index: 732 entries, 0 to 843\n",
      "Data columns (total 5 columns):\n",
      "tweet_id          732 non-null int64\n",
      "timestamp         732 non-null datetime64[ns]\n",
      "text              732 non-null object\n",
      "retweet_count     732 non-null int64\n",
      "favorite_count    732 non-null int64\n",
      "dtypes: datetime64[ns](1), int64(3), object(1)\n",
      "memory usage: 34.3+ KB\n"
     ]
    }
   ],
   "source": [
    "twitter_archive_clean.info()"
   ]
  },
  {
   "cell_type": "markdown",
   "metadata": {},
   "source": [
    "#### `twitter_archive`: Inaccurate attribute labels (Ex.: text, name, timestamp)\n",
    "**Note that some columns are now in dogs_data table because of tidness cleaning**"
   ]
  },
  {
   "cell_type": "markdown",
   "metadata": {},
   "source": [
    "##### Define"
   ]
  },
  {
   "cell_type": "markdown",
   "metadata": {},
   "source": [
    "Create a string of labels and assigne it to twitter_archive_clean dataframe\n",
    "\n",
    "Repeat the procedure for the dogs_data table"
   ]
  },
  {
   "cell_type": "markdown",
   "metadata": {},
   "source": [
    "##### Code"
   ]
  },
  {
   "cell_type": "code",
   "execution_count": 49,
   "metadata": {},
   "outputs": [],
   "source": [
    "new_labels_twitter_archive = ['tweet_id','tweet_date','tweet_text','number_of_retweets','number_of_likes']\n",
    "twitter_archive_clean.columns = new_labels_twitter_archive\n",
    "\n",
    "new_labels_dogs_data = ['tweet_id','dog_picture_url','dog_breed_prediction','dog_breed_prediction_confidence',\n",
    "                        'dog_rating_numerator','dog_rating_denominator','dog_name','dog_stage']\n",
    "dogs_data.columns = new_labels_dogs_data"
   ]
  },
  {
   "cell_type": "markdown",
   "metadata": {},
   "source": [
    "##### Test"
   ]
  },
  {
   "cell_type": "code",
   "execution_count": 50,
   "metadata": {
    "scrolled": true
   },
   "outputs": [
    {
     "data": {
      "text/html": [
       "<div>\n",
       "<style scoped>\n",
       "    .dataframe tbody tr th:only-of-type {\n",
       "        vertical-align: middle;\n",
       "    }\n",
       "\n",
       "    .dataframe tbody tr th {\n",
       "        vertical-align: top;\n",
       "    }\n",
       "\n",
       "    .dataframe thead th {\n",
       "        text-align: right;\n",
       "    }\n",
       "</style>\n",
       "<table border=\"1\" class=\"dataframe\">\n",
       "  <thead>\n",
       "    <tr style=\"text-align: right;\">\n",
       "      <th></th>\n",
       "      <th>tweet_id</th>\n",
       "      <th>dog_picture_url</th>\n",
       "      <th>dog_breed_prediction</th>\n",
       "      <th>dog_breed_prediction_confidence</th>\n",
       "      <th>dog_rating_numerator</th>\n",
       "      <th>dog_rating_denominator</th>\n",
       "      <th>dog_name</th>\n",
       "      <th>dog_stage</th>\n",
       "    </tr>\n",
       "  </thead>\n",
       "  <tbody>\n",
       "    <tr>\n",
       "      <th>0</th>\n",
       "      <td>746790600704425984</td>\n",
       "      <td>https://pbs.twimg.com/media/Cl0iFdeXEAQtPyT.jpg</td>\n",
       "      <td>Boston_bull</td>\n",
       "      <td>0.936183</td>\n",
       "      <td>10</td>\n",
       "      <td>10</td>\n",
       "      <td>Unknown</td>\n",
       "      <td>doggo</td>\n",
       "    </tr>\n",
       "  </tbody>\n",
       "</table>\n",
       "</div>"
      ],
      "text/plain": [
       "             tweet_id                                  dog_picture_url  \\\n",
       "0  746790600704425984  https://pbs.twimg.com/media/Cl0iFdeXEAQtPyT.jpg   \n",
       "\n",
       "  dog_breed_prediction  dog_breed_prediction_confidence  dog_rating_numerator  \\\n",
       "0          Boston_bull                         0.936183                    10   \n",
       "\n",
       "   dog_rating_denominator dog_name dog_stage  \n",
       "0                      10  Unknown     doggo  "
      ]
     },
     "metadata": {},
     "output_type": "display_data"
    },
    {
     "data": {
      "text/html": [
       "<div>\n",
       "<style scoped>\n",
       "    .dataframe tbody tr th:only-of-type {\n",
       "        vertical-align: middle;\n",
       "    }\n",
       "\n",
       "    .dataframe tbody tr th {\n",
       "        vertical-align: top;\n",
       "    }\n",
       "\n",
       "    .dataframe thead th {\n",
       "        text-align: right;\n",
       "    }\n",
       "</style>\n",
       "<table border=\"1\" class=\"dataframe\">\n",
       "  <thead>\n",
       "    <tr style=\"text-align: right;\">\n",
       "      <th></th>\n",
       "      <th>tweet_id</th>\n",
       "      <th>tweet_date</th>\n",
       "      <th>tweet_text</th>\n",
       "      <th>number_of_retweets</th>\n",
       "      <th>number_of_likes</th>\n",
       "    </tr>\n",
       "  </thead>\n",
       "  <tbody>\n",
       "    <tr>\n",
       "      <th>0</th>\n",
       "      <td>892420643555336193</td>\n",
       "      <td>2017-08-01 16:23:56</td>\n",
       "      <td>This is Phineas. He's a mystical boy. Only ever appears in the hole of a donut. 13/10 https://t.co/MgUWQ76dJU</td>\n",
       "      <td>8344</td>\n",
       "      <td>38139</td>\n",
       "    </tr>\n",
       "  </tbody>\n",
       "</table>\n",
       "</div>"
      ],
      "text/plain": [
       "             tweet_id          tweet_date  \\\n",
       "0  892420643555336193 2017-08-01 16:23:56   \n",
       "\n",
       "                                                                                                      tweet_text  \\\n",
       "0  This is Phineas. He's a mystical boy. Only ever appears in the hole of a donut. 13/10 https://t.co/MgUWQ76dJU   \n",
       "\n",
       "   number_of_retweets  number_of_likes  \n",
       "0                8344            38139  "
      ]
     },
     "metadata": {},
     "output_type": "display_data"
    }
   ],
   "source": [
    "display(dogs_data.head(1))\n",
    "display(twitter_archive_clean.head(1))"
   ]
  },
  {
   "cell_type": "markdown",
   "metadata": {},
   "source": [
    "#### `twitter_archive`: Wrong rating_numerators (ex: index 2335 from `twitter_archive` table)\n",
    "**Note that rating_numerator attribute is now in dogs_data table **"
   ]
  },
  {
   "cell_type": "markdown",
   "metadata": {},
   "source": [
    "##### Define"
   ]
  },
  {
   "cell_type": "markdown",
   "metadata": {},
   "source": [
    "Extract the rating values using string extraction and Regular Expressions for the tweet texts in the twitter_archive_clean table.\n",
    "\n",
    "Split the rating values into its corresponding numerator and denominator. Update the corresponding attributes 'rating_numerator' and 'rating_denominator' with those values in the dogs_data table."
   ]
  },
  {
   "cell_type": "markdown",
   "metadata": {},
   "source": [
    "##### Code"
   ]
  },
  {
   "cell_type": "code",
   "execution_count": 51,
   "metadata": {},
   "outputs": [],
   "source": [
    "num = []\n",
    "den = []\n",
    "tweet_text = twitter_archive_clean.tweet_text\n",
    "rating = tweet_text.str.extract(r'(\\d+\\/\\d+)', expand=False)\n",
    "for element in rating:\n",
    "    numerator, denominator = element.split('/')\n",
    "    num.append(numerator)\n",
    "    den.append(denominator)\n",
    "\n",
    "dogs_data['dog_rating_numerator'] = num\n",
    "dogs_data['dog_rating_denominator'] = den"
   ]
  },
  {
   "cell_type": "markdown",
   "metadata": {},
   "source": [
    "##### Test"
   ]
  },
  {
   "cell_type": "code",
   "execution_count": 52,
   "metadata": {
    "scrolled": true
   },
   "outputs": [
    {
     "data": {
      "text/html": [
       "<div>\n",
       "<style scoped>\n",
       "    .dataframe tbody tr th:only-of-type {\n",
       "        vertical-align: middle;\n",
       "    }\n",
       "\n",
       "    .dataframe tbody tr th {\n",
       "        vertical-align: top;\n",
       "    }\n",
       "\n",
       "    .dataframe thead th {\n",
       "        text-align: right;\n",
       "    }\n",
       "</style>\n",
       "<table border=\"1\" class=\"dataframe\">\n",
       "  <thead>\n",
       "    <tr style=\"text-align: right;\">\n",
       "      <th></th>\n",
       "      <th>tweet_id</th>\n",
       "      <th>dog_picture_url</th>\n",
       "      <th>dog_breed_prediction</th>\n",
       "      <th>dog_breed_prediction_confidence</th>\n",
       "      <th>dog_rating_numerator</th>\n",
       "      <th>dog_rating_denominator</th>\n",
       "      <th>dog_name</th>\n",
       "      <th>dog_stage</th>\n",
       "    </tr>\n",
       "  </thead>\n",
       "  <tbody>\n",
       "    <tr>\n",
       "      <th>0</th>\n",
       "      <td>746790600704425984</td>\n",
       "      <td>https://pbs.twimg.com/media/Cl0iFdeXEAQtPyT.jpg</td>\n",
       "      <td>Boston_bull</td>\n",
       "      <td>0.936183</td>\n",
       "      <td>13</td>\n",
       "      <td>10</td>\n",
       "      <td>Unknown</td>\n",
       "      <td>doggo</td>\n",
       "    </tr>\n",
       "    <tr>\n",
       "      <th>1</th>\n",
       "      <td>758828659922702336</td>\n",
       "      <td>https://pbs.twimg.com/media/Cofmom_VUAA4dRO.jpg</td>\n",
       "      <td>Chesapeake_Bay_retriever</td>\n",
       "      <td>0.480048</td>\n",
       "      <td>13</td>\n",
       "      <td>10</td>\n",
       "      <td>Unknown</td>\n",
       "      <td>doggo</td>\n",
       "    </tr>\n",
       "    <tr>\n",
       "      <th>2</th>\n",
       "      <td>758854675097526272</td>\n",
       "      <td>https://pbs.twimg.com/media/Cof-SuqVYAAs4kZ.jpg</td>\n",
       "      <td>Old_English_sheepdog</td>\n",
       "      <td>0.023791</td>\n",
       "      <td>12</td>\n",
       "      <td>10</td>\n",
       "      <td>Lilli</td>\n",
       "      <td>doggo</td>\n",
       "    </tr>\n",
       "    <tr>\n",
       "      <th>3</th>\n",
       "      <td>759047813560868866</td>\n",
       "      <td>https://pbs.twimg.com/media/Coit84_VYAEMtLi.jpg</td>\n",
       "      <td>Labrador_retriever</td>\n",
       "      <td>0.778546</td>\n",
       "      <td>13</td>\n",
       "      <td>10</td>\n",
       "      <td>Spencer</td>\n",
       "      <td>doggo</td>\n",
       "    </tr>\n",
       "    <tr>\n",
       "      <th>4</th>\n",
       "      <td>759099523532779520</td>\n",
       "      <td>https://pbs.twimg.com/media/Cojc_Q0WcAAqi_K.jpg</td>\n",
       "      <td>Shetland_sheepdog</td>\n",
       "      <td>0.129034</td>\n",
       "      <td>12</td>\n",
       "      <td>10</td>\n",
       "      <td>Toby</td>\n",
       "      <td>doggo</td>\n",
       "    </tr>\n",
       "  </tbody>\n",
       "</table>\n",
       "</div>"
      ],
      "text/plain": [
       "             tweet_id                                  dog_picture_url  \\\n",
       "0  746790600704425984  https://pbs.twimg.com/media/Cl0iFdeXEAQtPyT.jpg   \n",
       "1  758828659922702336  https://pbs.twimg.com/media/Cofmom_VUAA4dRO.jpg   \n",
       "2  758854675097526272  https://pbs.twimg.com/media/Cof-SuqVYAAs4kZ.jpg   \n",
       "3  759047813560868866  https://pbs.twimg.com/media/Coit84_VYAEMtLi.jpg   \n",
       "4  759099523532779520  https://pbs.twimg.com/media/Cojc_Q0WcAAqi_K.jpg   \n",
       "\n",
       "       dog_breed_prediction  dog_breed_prediction_confidence  \\\n",
       "0               Boston_bull                         0.936183   \n",
       "1  Chesapeake_Bay_retriever                         0.480048   \n",
       "2      Old_English_sheepdog                         0.023791   \n",
       "3        Labrador_retriever                         0.778546   \n",
       "4         Shetland_sheepdog                         0.129034   \n",
       "\n",
       "  dog_rating_numerator dog_rating_denominator dog_name dog_stage  \n",
       "0                   13                     10  Unknown     doggo  \n",
       "1                   13                     10  Unknown     doggo  \n",
       "2                   12                     10    Lilli     doggo  \n",
       "3                   13                     10  Spencer     doggo  \n",
       "4                   12                     10     Toby     doggo  "
      ]
     },
     "execution_count": 52,
     "metadata": {},
     "output_type": "execute_result"
    }
   ],
   "source": [
    "dogs_data.head()"
   ]
  },
  {
   "cell_type": "markdown",
   "metadata": {},
   "source": [
    "#### `twitter_archive`: Rating Denominators different than 10\n",
    "**Note that rating_denominator attribute is now in dogs_data table **"
   ]
  },
  {
   "cell_type": "markdown",
   "metadata": {},
   "source": [
    "Substitute all \"rating_denominator\" values by 10."
   ]
  },
  {
   "cell_type": "markdown",
   "metadata": {},
   "source": [
    "##### Code"
   ]
  },
  {
   "cell_type": "code",
   "execution_count": 53,
   "metadata": {},
   "outputs": [],
   "source": [
    "den = [10]*len(dogs_data['dog_rating_numerator'])\n",
    "dogs_data['dog_rating_denominator'] = den"
   ]
  },
  {
   "cell_type": "markdown",
   "metadata": {},
   "source": [
    "##### Test"
   ]
  },
  {
   "cell_type": "code",
   "execution_count": 54,
   "metadata": {},
   "outputs": [
    {
     "data": {
      "text/plain": [
       "10    732\n",
       "Name: dog_rating_denominator, dtype: int64"
      ]
     },
     "execution_count": 54,
     "metadata": {},
     "output_type": "execute_result"
    }
   ],
   "source": [
    "dogs_data['dog_rating_denominator'].value_counts()"
   ]
  },
  {
   "cell_type": "markdown",
   "metadata": {},
   "source": [
    "#### `twitter_archive`: Words such as \"a\", \"o\" and \"my\" being identified as a dog name\n",
    "**Note that the dog name is now an attribute of dogs_data table **"
   ]
  },
  {
   "cell_type": "markdown",
   "metadata": {},
   "source": [
    "##### Define"
   ]
  },
  {
   "cell_type": "markdown",
   "metadata": {},
   "source": [
    "Extract the row index of the \"a\", \"o\" and \"my\" occurrences using Regular Expressions for the dogs name in dogs_data dataframe.\n",
    "\n",
    "Check the tweet text for each case and fix each of the names when possible."
   ]
  },
  {
   "cell_type": "markdown",
   "metadata": {},
   "source": [
    "##### Code"
   ]
  },
  {
   "cell_type": "code",
   "execution_count": 55,
   "metadata": {
    "scrolled": true
   },
   "outputs": [
    {
     "data": {
      "text/plain": [
       "78     a\n",
       "99     O\n",
       "188    a\n",
       "611    a\n",
       "Name: dog_name, dtype: object"
      ]
     },
     "execution_count": 55,
     "metadata": {},
     "output_type": "execute_result"
    }
   ],
   "source": [
    "dogs_data['dog_name'].str.extract(r'(^[aeiouAEIOU]$)',expand=False)[dogs_data['dog_name'].\n",
    "                                                                           str.extract(r'(^[aeiouAEIOU]$)',\n",
    "                                                                           expand=False).notnull()]"
   ]
  },
  {
   "cell_type": "code",
   "execution_count": 56,
   "metadata": {
    "scrolled": true
   },
   "outputs": [
    {
     "data": {
      "text/plain": [
       "38    my\n",
       "Name: dog_name, dtype: object"
      ]
     },
     "execution_count": 56,
     "metadata": {},
     "output_type": "execute_result"
    }
   ],
   "source": [
    "dogs_data['dog_name'].str.extract(r'(^my$)',expand=False)[dogs_data['dog_name'].str.extract(r'(^my$)',\n",
    "                                                                                expand=False).notnull()]"
   ]
  },
  {
   "cell_type": "code",
   "execution_count": 57,
   "metadata": {
    "scrolled": true
   },
   "outputs": [
    {
     "data": {
      "text/html": [
       "<div>\n",
       "<style scoped>\n",
       "    .dataframe tbody tr th:only-of-type {\n",
       "        vertical-align: middle;\n",
       "    }\n",
       "\n",
       "    .dataframe tbody tr th {\n",
       "        vertical-align: top;\n",
       "    }\n",
       "\n",
       "    .dataframe thead th {\n",
       "        text-align: right;\n",
       "    }\n",
       "</style>\n",
       "<table border=\"1\" class=\"dataframe\">\n",
       "  <thead>\n",
       "    <tr style=\"text-align: right;\">\n",
       "      <th></th>\n",
       "      <th>tweet_id</th>\n",
       "      <th>dog_picture_url</th>\n",
       "      <th>dog_breed_prediction</th>\n",
       "      <th>dog_breed_prediction_confidence</th>\n",
       "      <th>dog_rating_numerator</th>\n",
       "      <th>dog_rating_denominator</th>\n",
       "      <th>dog_name</th>\n",
       "      <th>dog_stage</th>\n",
       "    </tr>\n",
       "  </thead>\n",
       "  <tbody>\n",
       "    <tr>\n",
       "      <th>78</th>\n",
       "      <td>772581559778025472</td>\n",
       "      <td>https://pbs.twimg.com/media/CrjC0JAWAAAjz6n.jpg</td>\n",
       "      <td>Newfoundland</td>\n",
       "      <td>0.574345</td>\n",
       "      <td>13</td>\n",
       "      <td>10</td>\n",
       "      <td>a</td>\n",
       "      <td>doggo</td>\n",
       "    </tr>\n",
       "  </tbody>\n",
       "</table>\n",
       "</div>"
      ],
      "text/plain": [
       "              tweet_id                                  dog_picture_url  \\\n",
       "78  772581559778025472  https://pbs.twimg.com/media/CrjC0JAWAAAjz6n.jpg   \n",
       "\n",
       "   dog_breed_prediction  dog_breed_prediction_confidence dog_rating_numerator  \\\n",
       "78         Newfoundland                         0.574345                   13   \n",
       "\n",
       "    dog_rating_denominator dog_name dog_stage  \n",
       "78                      10        a     doggo  "
      ]
     },
     "metadata": {},
     "output_type": "display_data"
    },
    {
     "data": {
      "text/html": [
       "<div>\n",
       "<style scoped>\n",
       "    .dataframe tbody tr th:only-of-type {\n",
       "        vertical-align: middle;\n",
       "    }\n",
       "\n",
       "    .dataframe tbody tr th {\n",
       "        vertical-align: top;\n",
       "    }\n",
       "\n",
       "    .dataframe thead th {\n",
       "        text-align: right;\n",
       "    }\n",
       "</style>\n",
       "<table border=\"1\" class=\"dataframe\">\n",
       "  <thead>\n",
       "    <tr style=\"text-align: right;\">\n",
       "      <th></th>\n",
       "      <th>tweet_id</th>\n",
       "      <th>dog_picture_url</th>\n",
       "      <th>dog_breed_prediction</th>\n",
       "      <th>dog_breed_prediction_confidence</th>\n",
       "      <th>dog_rating_numerator</th>\n",
       "      <th>dog_rating_denominator</th>\n",
       "      <th>dog_name</th>\n",
       "      <th>dog_stage</th>\n",
       "    </tr>\n",
       "  </thead>\n",
       "  <tbody>\n",
       "    <tr>\n",
       "      <th>99</th>\n",
       "      <td>776201521193218049</td>\n",
       "      <td>https://pbs.twimg.com/media/CsWfKadWEAAtmlS.jpg</td>\n",
       "      <td>Rottweiler</td>\n",
       "      <td>0.502228</td>\n",
       "      <td>13</td>\n",
       "      <td>10</td>\n",
       "      <td>O</td>\n",
       "      <td>doggo</td>\n",
       "    </tr>\n",
       "  </tbody>\n",
       "</table>\n",
       "</div>"
      ],
      "text/plain": [
       "              tweet_id                                  dog_picture_url  \\\n",
       "99  776201521193218049  https://pbs.twimg.com/media/CsWfKadWEAAtmlS.jpg   \n",
       "\n",
       "   dog_breed_prediction  dog_breed_prediction_confidence dog_rating_numerator  \\\n",
       "99           Rottweiler                         0.502228                   13   \n",
       "\n",
       "    dog_rating_denominator dog_name dog_stage  \n",
       "99                      10        O     doggo  "
      ]
     },
     "metadata": {},
     "output_type": "display_data"
    },
    {
     "data": {
      "text/html": [
       "<div>\n",
       "<style scoped>\n",
       "    .dataframe tbody tr th:only-of-type {\n",
       "        vertical-align: middle;\n",
       "    }\n",
       "\n",
       "    .dataframe tbody tr th {\n",
       "        vertical-align: top;\n",
       "    }\n",
       "\n",
       "    .dataframe thead th {\n",
       "        text-align: right;\n",
       "    }\n",
       "</style>\n",
       "<table border=\"1\" class=\"dataframe\">\n",
       "  <thead>\n",
       "    <tr style=\"text-align: right;\">\n",
       "      <th></th>\n",
       "      <th>tweet_id</th>\n",
       "      <th>dog_picture_url</th>\n",
       "      <th>dog_breed_prediction</th>\n",
       "      <th>dog_breed_prediction_confidence</th>\n",
       "      <th>dog_rating_numerator</th>\n",
       "      <th>dog_rating_denominator</th>\n",
       "      <th>dog_name</th>\n",
       "      <th>dog_stage</th>\n",
       "    </tr>\n",
       "  </thead>\n",
       "  <tbody>\n",
       "    <tr>\n",
       "      <th>188</th>\n",
       "      <td>792913359805018113</td>\n",
       "      <td>https://pbs.twimg.com/media/CwD-eCLWIAA6v0B.jpg</td>\n",
       "      <td>Unknown</td>\n",
       "      <td>0.0</td>\n",
       "      <td>11</td>\n",
       "      <td>10</td>\n",
       "      <td>a</td>\n",
       "      <td>doggo</td>\n",
       "    </tr>\n",
       "  </tbody>\n",
       "</table>\n",
       "</div>"
      ],
      "text/plain": [
       "               tweet_id                                  dog_picture_url  \\\n",
       "188  792913359805018113  https://pbs.twimg.com/media/CwD-eCLWIAA6v0B.jpg   \n",
       "\n",
       "    dog_breed_prediction  dog_breed_prediction_confidence  \\\n",
       "188              Unknown                              0.0   \n",
       "\n",
       "    dog_rating_numerator  dog_rating_denominator dog_name dog_stage  \n",
       "188                   11                      10        a     doggo  "
      ]
     },
     "metadata": {},
     "output_type": "display_data"
    },
    {
     "data": {
      "text/html": [
       "<div>\n",
       "<style scoped>\n",
       "    .dataframe tbody tr th:only-of-type {\n",
       "        vertical-align: middle;\n",
       "    }\n",
       "\n",
       "    .dataframe tbody tr th {\n",
       "        vertical-align: top;\n",
       "    }\n",
       "\n",
       "    .dataframe thead th {\n",
       "        text-align: right;\n",
       "    }\n",
       "</style>\n",
       "<table border=\"1\" class=\"dataframe\">\n",
       "  <thead>\n",
       "    <tr style=\"text-align: right;\">\n",
       "      <th></th>\n",
       "      <th>tweet_id</th>\n",
       "      <th>dog_picture_url</th>\n",
       "      <th>dog_breed_prediction</th>\n",
       "      <th>dog_breed_prediction_confidence</th>\n",
       "      <th>dog_rating_numerator</th>\n",
       "      <th>dog_rating_denominator</th>\n",
       "      <th>dog_name</th>\n",
       "      <th>dog_stage</th>\n",
       "    </tr>\n",
       "  </thead>\n",
       "  <tbody>\n",
       "    <tr>\n",
       "      <th>611</th>\n",
       "      <td>881536004380872706</td>\n",
       "      <td>https://pbs.twimg.com/ext_tw_video_thumb/881535971568889856/pu/img/9bawiZ--8FKywTkz.jpg</td>\n",
       "      <td>Samoyed</td>\n",
       "      <td>0.281463</td>\n",
       "      <td>10</td>\n",
       "      <td>10</td>\n",
       "      <td>a</td>\n",
       "      <td>doggo</td>\n",
       "    </tr>\n",
       "  </tbody>\n",
       "</table>\n",
       "</div>"
      ],
      "text/plain": [
       "               tweet_id  \\\n",
       "611  881536004380872706   \n",
       "\n",
       "                                                                             dog_picture_url  \\\n",
       "611  https://pbs.twimg.com/ext_tw_video_thumb/881535971568889856/pu/img/9bawiZ--8FKywTkz.jpg   \n",
       "\n",
       "    dog_breed_prediction  dog_breed_prediction_confidence  \\\n",
       "611              Samoyed                         0.281463   \n",
       "\n",
       "    dog_rating_numerator  dog_rating_denominator dog_name dog_stage  \n",
       "611                   10                      10        a     doggo  "
      ]
     },
     "metadata": {},
     "output_type": "display_data"
    },
    {
     "data": {
      "text/html": [
       "<div>\n",
       "<style scoped>\n",
       "    .dataframe tbody tr th:only-of-type {\n",
       "        vertical-align: middle;\n",
       "    }\n",
       "\n",
       "    .dataframe tbody tr th {\n",
       "        vertical-align: top;\n",
       "    }\n",
       "\n",
       "    .dataframe thead th {\n",
       "        text-align: right;\n",
       "    }\n",
       "</style>\n",
       "<table border=\"1\" class=\"dataframe\">\n",
       "  <thead>\n",
       "    <tr style=\"text-align: right;\">\n",
       "      <th></th>\n",
       "      <th>tweet_id</th>\n",
       "      <th>dog_picture_url</th>\n",
       "      <th>dog_breed_prediction</th>\n",
       "      <th>dog_breed_prediction_confidence</th>\n",
       "      <th>dog_rating_numerator</th>\n",
       "      <th>dog_rating_denominator</th>\n",
       "      <th>dog_name</th>\n",
       "      <th>dog_stage</th>\n",
       "    </tr>\n",
       "  </thead>\n",
       "  <tbody>\n",
       "    <tr>\n",
       "      <th>38</th>\n",
       "      <td>765395769549590528</td>\n",
       "      <td>https://pbs.twimg.com/media/Cp87Y0jXYAQyjuV.jpg</td>\n",
       "      <td>Pembroke</td>\n",
       "      <td>0.509491</td>\n",
       "      <td>14</td>\n",
       "      <td>10</td>\n",
       "      <td>my</td>\n",
       "      <td>doggo</td>\n",
       "    </tr>\n",
       "  </tbody>\n",
       "</table>\n",
       "</div>"
      ],
      "text/plain": [
       "              tweet_id                                  dog_picture_url  \\\n",
       "38  765395769549590528  https://pbs.twimg.com/media/Cp87Y0jXYAQyjuV.jpg   \n",
       "\n",
       "   dog_breed_prediction  dog_breed_prediction_confidence dog_rating_numerator  \\\n",
       "38             Pembroke                         0.509491                   14   \n",
       "\n",
       "    dog_rating_denominator dog_name dog_stage  \n",
       "38                      10       my     doggo  "
      ]
     },
     "metadata": {},
     "output_type": "display_data"
    },
    {
     "data": {
      "text/html": [
       "<div>\n",
       "<style scoped>\n",
       "    .dataframe tbody tr th:only-of-type {\n",
       "        vertical-align: middle;\n",
       "    }\n",
       "\n",
       "    .dataframe tbody tr th {\n",
       "        vertical-align: top;\n",
       "    }\n",
       "\n",
       "    .dataframe thead th {\n",
       "        text-align: right;\n",
       "    }\n",
       "</style>\n",
       "<table border=\"1\" class=\"dataframe\">\n",
       "  <thead>\n",
       "    <tr style=\"text-align: right;\">\n",
       "      <th></th>\n",
       "      <th>tweet_id</th>\n",
       "      <th>tweet_date</th>\n",
       "      <th>tweet_text</th>\n",
       "      <th>number_of_retweets</th>\n",
       "      <th>number_of_likes</th>\n",
       "    </tr>\n",
       "  </thead>\n",
       "  <tbody>\n",
       "    <tr>\n",
       "      <th>647</th>\n",
       "      <td>772581559778025472</td>\n",
       "      <td>2016-09-04 23:46:12</td>\n",
       "      <td>Guys this is getting so out of hand. We only rate dogs. This is a Galapagos Speed Panda. Pls only send dogs... 10/10 https://t.co/8lpAGaZRFn</td>\n",
       "      <td>1842</td>\n",
       "      <td>6894</td>\n",
       "    </tr>\n",
       "  </tbody>\n",
       "</table>\n",
       "</div>"
      ],
      "text/plain": [
       "               tweet_id          tweet_date  \\\n",
       "647  772581559778025472 2016-09-04 23:46:12   \n",
       "\n",
       "                                                                                                                                       tweet_text  \\\n",
       "647  Guys this is getting so out of hand. We only rate dogs. This is a Galapagos Speed Panda. Pls only send dogs... 10/10 https://t.co/8lpAGaZRFn   \n",
       "\n",
       "     number_of_retweets  number_of_likes  \n",
       "647                1842             6894  "
      ]
     },
     "metadata": {},
     "output_type": "display_data"
    },
    {
     "data": {
      "text/html": [
       "<div>\n",
       "<style scoped>\n",
       "    .dataframe tbody tr th:only-of-type {\n",
       "        vertical-align: middle;\n",
       "    }\n",
       "\n",
       "    .dataframe tbody tr th {\n",
       "        vertical-align: top;\n",
       "    }\n",
       "\n",
       "    .dataframe thead th {\n",
       "        text-align: right;\n",
       "    }\n",
       "</style>\n",
       "<table border=\"1\" class=\"dataframe\">\n",
       "  <thead>\n",
       "    <tr style=\"text-align: right;\">\n",
       "      <th></th>\n",
       "      <th>tweet_id</th>\n",
       "      <th>tweet_date</th>\n",
       "      <th>tweet_text</th>\n",
       "      <th>number_of_retweets</th>\n",
       "      <th>number_of_likes</th>\n",
       "    </tr>\n",
       "  </thead>\n",
       "  <tbody>\n",
       "    <tr>\n",
       "      <th>625</th>\n",
       "      <td>776201521193218049</td>\n",
       "      <td>2016-09-14 23:30:38</td>\n",
       "      <td>This is O'Malley. That is how he sleeps. Doesn't care what you think about it. 10/10 comfy af https://t.co/Pq150LeRaC</td>\n",
       "      <td>2757</td>\n",
       "      <td>10242</td>\n",
       "    </tr>\n",
       "  </tbody>\n",
       "</table>\n",
       "</div>"
      ],
      "text/plain": [
       "               tweet_id          tweet_date  \\\n",
       "625  776201521193218049 2016-09-14 23:30:38   \n",
       "\n",
       "                                                                                                                tweet_text  \\\n",
       "625  This is O'Malley. That is how he sleeps. Doesn't care what you think about it. 10/10 comfy af https://t.co/Pq150LeRaC   \n",
       "\n",
       "     number_of_retweets  number_of_likes  \n",
       "625                2757            10242  "
      ]
     },
     "metadata": {},
     "output_type": "display_data"
    },
    {
     "data": {
      "text/html": [
       "<div>\n",
       "<style scoped>\n",
       "    .dataframe tbody tr th:only-of-type {\n",
       "        vertical-align: middle;\n",
       "    }\n",
       "\n",
       "    .dataframe tbody tr th {\n",
       "        vertical-align: top;\n",
       "    }\n",
       "\n",
       "    .dataframe thead th {\n",
       "        text-align: right;\n",
       "    }\n",
       "</style>\n",
       "<table border=\"1\" class=\"dataframe\">\n",
       "  <thead>\n",
       "    <tr style=\"text-align: right;\">\n",
       "      <th></th>\n",
       "      <th>tweet_id</th>\n",
       "      <th>tweet_date</th>\n",
       "      <th>tweet_text</th>\n",
       "      <th>number_of_retweets</th>\n",
       "      <th>number_of_likes</th>\n",
       "    </tr>\n",
       "  </thead>\n",
       "  <tbody>\n",
       "    <tr>\n",
       "      <th>524</th>\n",
       "      <td>792913359805018113</td>\n",
       "      <td>2016-10-31 02:17:31</td>\n",
       "      <td>Here is a perfect example of someone who has their priorities in order. 13/10 for both owner and Forrest https://t.co/LRyMrU7Wfq</td>\n",
       "      <td>4429</td>\n",
       "      <td>15401</td>\n",
       "    </tr>\n",
       "  </tbody>\n",
       "</table>\n",
       "</div>"
      ],
      "text/plain": [
       "               tweet_id          tweet_date  \\\n",
       "524  792913359805018113 2016-10-31 02:17:31   \n",
       "\n",
       "                                                                                                                           tweet_text  \\\n",
       "524  Here is a perfect example of someone who has their priorities in order. 13/10 for both owner and Forrest https://t.co/LRyMrU7Wfq   \n",
       "\n",
       "     number_of_retweets  number_of_likes  \n",
       "524                4429            15401  "
      ]
     },
     "metadata": {},
     "output_type": "display_data"
    },
    {
     "data": {
      "text/html": [
       "<div>\n",
       "<style scoped>\n",
       "    .dataframe tbody tr th:only-of-type {\n",
       "        vertical-align: middle;\n",
       "    }\n",
       "\n",
       "    .dataframe tbody tr th {\n",
       "        vertical-align: top;\n",
       "    }\n",
       "\n",
       "    .dataframe thead th {\n",
       "        text-align: right;\n",
       "    }\n",
       "</style>\n",
       "<table border=\"1\" class=\"dataframe\">\n",
       "  <thead>\n",
       "    <tr style=\"text-align: right;\">\n",
       "      <th></th>\n",
       "      <th>tweet_id</th>\n",
       "      <th>tweet_date</th>\n",
       "      <th>tweet_text</th>\n",
       "      <th>number_of_retweets</th>\n",
       "      <th>number_of_likes</th>\n",
       "    </tr>\n",
       "  </thead>\n",
       "  <tbody>\n",
       "    <tr>\n",
       "      <th>53</th>\n",
       "      <td>881536004380872706</td>\n",
       "      <td>2017-07-02 15:32:16</td>\n",
       "      <td>Here is a pupper approaching maximum borkdrive. Zooming at never before seen speeds. 14/10 paw-inspiring af \\n(IG: puffie_the_chow) https://t.co/ghXBIIeQZF</td>\n",
       "      <td>15684</td>\n",
       "      <td>48661</td>\n",
       "    </tr>\n",
       "  </tbody>\n",
       "</table>\n",
       "</div>"
      ],
      "text/plain": [
       "              tweet_id          tweet_date  \\\n",
       "53  881536004380872706 2017-07-02 15:32:16   \n",
       "\n",
       "                                                                                                                                                     tweet_text  \\\n",
       "53  Here is a pupper approaching maximum borkdrive. Zooming at never before seen speeds. 14/10 paw-inspiring af \\n(IG: puffie_the_chow) https://t.co/ghXBIIeQZF   \n",
       "\n",
       "    number_of_retweets  number_of_likes  \n",
       "53               15684            48661  "
      ]
     },
     "metadata": {},
     "output_type": "display_data"
    },
    {
     "data": {
      "text/html": [
       "<div>\n",
       "<style scoped>\n",
       "    .dataframe tbody tr th:only-of-type {\n",
       "        vertical-align: middle;\n",
       "    }\n",
       "\n",
       "    .dataframe tbody tr th {\n",
       "        vertical-align: top;\n",
       "    }\n",
       "\n",
       "    .dataframe thead th {\n",
       "        text-align: right;\n",
       "    }\n",
       "</style>\n",
       "<table border=\"1\" class=\"dataframe\">\n",
       "  <thead>\n",
       "    <tr style=\"text-align: right;\">\n",
       "      <th></th>\n",
       "      <th>tweet_id</th>\n",
       "      <th>tweet_date</th>\n",
       "      <th>tweet_text</th>\n",
       "      <th>number_of_retweets</th>\n",
       "      <th>number_of_likes</th>\n",
       "    </tr>\n",
       "  </thead>\n",
       "  <tbody>\n",
       "    <tr>\n",
       "      <th>689</th>\n",
       "      <td>765395769549590528</td>\n",
       "      <td>2016-08-16 03:52:26</td>\n",
       "      <td>This is my dog. Her name is Zoey. She knows I've been rating other dogs. She's not happy. 13/10 no bias at all https://t.co/ep1NkYoiwB</td>\n",
       "      <td>3684</td>\n",
       "      <td>28061</td>\n",
       "    </tr>\n",
       "  </tbody>\n",
       "</table>\n",
       "</div>"
      ],
      "text/plain": [
       "               tweet_id          tweet_date  \\\n",
       "689  765395769549590528 2016-08-16 03:52:26   \n",
       "\n",
       "                                                                                                                                 tweet_text  \\\n",
       "689  This is my dog. Her name is Zoey. She knows I've been rating other dogs. She's not happy. 13/10 no bias at all https://t.co/ep1NkYoiwB   \n",
       "\n",
       "     number_of_retweets  number_of_likes  \n",
       "689                3684            28061  "
      ]
     },
     "metadata": {},
     "output_type": "display_data"
    }
   ],
   "source": [
    "display(dogs_data.iloc[[78]])\n",
    "display(dogs_data.iloc[[99]])\n",
    "display(dogs_data.iloc[[188]])\n",
    "display(dogs_data.iloc[[611]])\n",
    "display(dogs_data.iloc[[38]])\n",
    "\n",
    "display(twitter_archive_clean[twitter_archive_clean.tweet_id == 772581559778025472])\n",
    "display(twitter_archive_clean[twitter_archive_clean.tweet_id == 776201521193218049])\n",
    "display(twitter_archive_clean[twitter_archive_clean.tweet_id == 792913359805018113])\n",
    "display(twitter_archive_clean[twitter_archive_clean.tweet_id == 881536004380872706])\n",
    "display(twitter_archive_clean[twitter_archive_clean.tweet_id == 765395769549590528])"
   ]
  },
  {
   "cell_type": "code",
   "execution_count": 58,
   "metadata": {},
   "outputs": [],
   "source": [
    "dogs_data.at[78, 'dog_name'] = 'Unknown'\n",
    "dogs_data.at[99, 'dog_name'] = 'Unknown'\n",
    "dogs_data.at[188, 'dog_name'] = \"O'Malley\"\n",
    "dogs_data.at[611, 'dog_name'] = \"Unknown\"\n",
    "dogs_data.at[38, 'dog_name'] = \"Zoey\"\n"
   ]
  },
  {
   "cell_type": "markdown",
   "metadata": {},
   "source": [
    "##### Test"
   ]
  },
  {
   "cell_type": "code",
   "execution_count": 59,
   "metadata": {
    "scrolled": true
   },
   "outputs": [
    {
     "data": {
      "text/html": [
       "<div>\n",
       "<style scoped>\n",
       "    .dataframe tbody tr th:only-of-type {\n",
       "        vertical-align: middle;\n",
       "    }\n",
       "\n",
       "    .dataframe tbody tr th {\n",
       "        vertical-align: top;\n",
       "    }\n",
       "\n",
       "    .dataframe thead th {\n",
       "        text-align: right;\n",
       "    }\n",
       "</style>\n",
       "<table border=\"1\" class=\"dataframe\">\n",
       "  <thead>\n",
       "    <tr style=\"text-align: right;\">\n",
       "      <th></th>\n",
       "      <th>tweet_id</th>\n",
       "      <th>dog_picture_url</th>\n",
       "      <th>dog_breed_prediction</th>\n",
       "      <th>dog_breed_prediction_confidence</th>\n",
       "      <th>dog_rating_numerator</th>\n",
       "      <th>dog_rating_denominator</th>\n",
       "      <th>dog_name</th>\n",
       "      <th>dog_stage</th>\n",
       "    </tr>\n",
       "  </thead>\n",
       "  <tbody>\n",
       "    <tr>\n",
       "      <th>78</th>\n",
       "      <td>772581559778025472</td>\n",
       "      <td>https://pbs.twimg.com/media/CrjC0JAWAAAjz6n.jpg</td>\n",
       "      <td>Newfoundland</td>\n",
       "      <td>0.574345</td>\n",
       "      <td>13</td>\n",
       "      <td>10</td>\n",
       "      <td>Unknown</td>\n",
       "      <td>doggo</td>\n",
       "    </tr>\n",
       "  </tbody>\n",
       "</table>\n",
       "</div>"
      ],
      "text/plain": [
       "              tweet_id                                  dog_picture_url  \\\n",
       "78  772581559778025472  https://pbs.twimg.com/media/CrjC0JAWAAAjz6n.jpg   \n",
       "\n",
       "   dog_breed_prediction  dog_breed_prediction_confidence dog_rating_numerator  \\\n",
       "78         Newfoundland                         0.574345                   13   \n",
       "\n",
       "    dog_rating_denominator dog_name dog_stage  \n",
       "78                      10  Unknown     doggo  "
      ]
     },
     "metadata": {},
     "output_type": "display_data"
    },
    {
     "data": {
      "text/html": [
       "<div>\n",
       "<style scoped>\n",
       "    .dataframe tbody tr th:only-of-type {\n",
       "        vertical-align: middle;\n",
       "    }\n",
       "\n",
       "    .dataframe tbody tr th {\n",
       "        vertical-align: top;\n",
       "    }\n",
       "\n",
       "    .dataframe thead th {\n",
       "        text-align: right;\n",
       "    }\n",
       "</style>\n",
       "<table border=\"1\" class=\"dataframe\">\n",
       "  <thead>\n",
       "    <tr style=\"text-align: right;\">\n",
       "      <th></th>\n",
       "      <th>tweet_id</th>\n",
       "      <th>dog_picture_url</th>\n",
       "      <th>dog_breed_prediction</th>\n",
       "      <th>dog_breed_prediction_confidence</th>\n",
       "      <th>dog_rating_numerator</th>\n",
       "      <th>dog_rating_denominator</th>\n",
       "      <th>dog_name</th>\n",
       "      <th>dog_stage</th>\n",
       "    </tr>\n",
       "  </thead>\n",
       "  <tbody>\n",
       "    <tr>\n",
       "      <th>99</th>\n",
       "      <td>776201521193218049</td>\n",
       "      <td>https://pbs.twimg.com/media/CsWfKadWEAAtmlS.jpg</td>\n",
       "      <td>Rottweiler</td>\n",
       "      <td>0.502228</td>\n",
       "      <td>13</td>\n",
       "      <td>10</td>\n",
       "      <td>Unknown</td>\n",
       "      <td>doggo</td>\n",
       "    </tr>\n",
       "  </tbody>\n",
       "</table>\n",
       "</div>"
      ],
      "text/plain": [
       "              tweet_id                                  dog_picture_url  \\\n",
       "99  776201521193218049  https://pbs.twimg.com/media/CsWfKadWEAAtmlS.jpg   \n",
       "\n",
       "   dog_breed_prediction  dog_breed_prediction_confidence dog_rating_numerator  \\\n",
       "99           Rottweiler                         0.502228                   13   \n",
       "\n",
       "    dog_rating_denominator dog_name dog_stage  \n",
       "99                      10  Unknown     doggo  "
      ]
     },
     "metadata": {},
     "output_type": "display_data"
    },
    {
     "data": {
      "text/html": [
       "<div>\n",
       "<style scoped>\n",
       "    .dataframe tbody tr th:only-of-type {\n",
       "        vertical-align: middle;\n",
       "    }\n",
       "\n",
       "    .dataframe tbody tr th {\n",
       "        vertical-align: top;\n",
       "    }\n",
       "\n",
       "    .dataframe thead th {\n",
       "        text-align: right;\n",
       "    }\n",
       "</style>\n",
       "<table border=\"1\" class=\"dataframe\">\n",
       "  <thead>\n",
       "    <tr style=\"text-align: right;\">\n",
       "      <th></th>\n",
       "      <th>tweet_id</th>\n",
       "      <th>dog_picture_url</th>\n",
       "      <th>dog_breed_prediction</th>\n",
       "      <th>dog_breed_prediction_confidence</th>\n",
       "      <th>dog_rating_numerator</th>\n",
       "      <th>dog_rating_denominator</th>\n",
       "      <th>dog_name</th>\n",
       "      <th>dog_stage</th>\n",
       "    </tr>\n",
       "  </thead>\n",
       "  <tbody>\n",
       "    <tr>\n",
       "      <th>188</th>\n",
       "      <td>792913359805018113</td>\n",
       "      <td>https://pbs.twimg.com/media/CwD-eCLWIAA6v0B.jpg</td>\n",
       "      <td>Unknown</td>\n",
       "      <td>0.0</td>\n",
       "      <td>11</td>\n",
       "      <td>10</td>\n",
       "      <td>O'Malley</td>\n",
       "      <td>doggo</td>\n",
       "    </tr>\n",
       "  </tbody>\n",
       "</table>\n",
       "</div>"
      ],
      "text/plain": [
       "               tweet_id                                  dog_picture_url  \\\n",
       "188  792913359805018113  https://pbs.twimg.com/media/CwD-eCLWIAA6v0B.jpg   \n",
       "\n",
       "    dog_breed_prediction  dog_breed_prediction_confidence  \\\n",
       "188              Unknown                              0.0   \n",
       "\n",
       "    dog_rating_numerator  dog_rating_denominator  dog_name dog_stage  \n",
       "188                   11                      10  O'Malley     doggo  "
      ]
     },
     "metadata": {},
     "output_type": "display_data"
    },
    {
     "data": {
      "text/html": [
       "<div>\n",
       "<style scoped>\n",
       "    .dataframe tbody tr th:only-of-type {\n",
       "        vertical-align: middle;\n",
       "    }\n",
       "\n",
       "    .dataframe tbody tr th {\n",
       "        vertical-align: top;\n",
       "    }\n",
       "\n",
       "    .dataframe thead th {\n",
       "        text-align: right;\n",
       "    }\n",
       "</style>\n",
       "<table border=\"1\" class=\"dataframe\">\n",
       "  <thead>\n",
       "    <tr style=\"text-align: right;\">\n",
       "      <th></th>\n",
       "      <th>tweet_id</th>\n",
       "      <th>dog_picture_url</th>\n",
       "      <th>dog_breed_prediction</th>\n",
       "      <th>dog_breed_prediction_confidence</th>\n",
       "      <th>dog_rating_numerator</th>\n",
       "      <th>dog_rating_denominator</th>\n",
       "      <th>dog_name</th>\n",
       "      <th>dog_stage</th>\n",
       "    </tr>\n",
       "  </thead>\n",
       "  <tbody>\n",
       "    <tr>\n",
       "      <th>611</th>\n",
       "      <td>881536004380872706</td>\n",
       "      <td>https://pbs.twimg.com/ext_tw_video_thumb/881535971568889856/pu/img/9bawiZ--8FKywTkz.jpg</td>\n",
       "      <td>Samoyed</td>\n",
       "      <td>0.281463</td>\n",
       "      <td>10</td>\n",
       "      <td>10</td>\n",
       "      <td>Unknown</td>\n",
       "      <td>doggo</td>\n",
       "    </tr>\n",
       "  </tbody>\n",
       "</table>\n",
       "</div>"
      ],
      "text/plain": [
       "               tweet_id  \\\n",
       "611  881536004380872706   \n",
       "\n",
       "                                                                             dog_picture_url  \\\n",
       "611  https://pbs.twimg.com/ext_tw_video_thumb/881535971568889856/pu/img/9bawiZ--8FKywTkz.jpg   \n",
       "\n",
       "    dog_breed_prediction  dog_breed_prediction_confidence  \\\n",
       "611              Samoyed                         0.281463   \n",
       "\n",
       "    dog_rating_numerator  dog_rating_denominator dog_name dog_stage  \n",
       "611                   10                      10  Unknown     doggo  "
      ]
     },
     "metadata": {},
     "output_type": "display_data"
    },
    {
     "data": {
      "text/html": [
       "<div>\n",
       "<style scoped>\n",
       "    .dataframe tbody tr th:only-of-type {\n",
       "        vertical-align: middle;\n",
       "    }\n",
       "\n",
       "    .dataframe tbody tr th {\n",
       "        vertical-align: top;\n",
       "    }\n",
       "\n",
       "    .dataframe thead th {\n",
       "        text-align: right;\n",
       "    }\n",
       "</style>\n",
       "<table border=\"1\" class=\"dataframe\">\n",
       "  <thead>\n",
       "    <tr style=\"text-align: right;\">\n",
       "      <th></th>\n",
       "      <th>tweet_id</th>\n",
       "      <th>dog_picture_url</th>\n",
       "      <th>dog_breed_prediction</th>\n",
       "      <th>dog_breed_prediction_confidence</th>\n",
       "      <th>dog_rating_numerator</th>\n",
       "      <th>dog_rating_denominator</th>\n",
       "      <th>dog_name</th>\n",
       "      <th>dog_stage</th>\n",
       "    </tr>\n",
       "  </thead>\n",
       "  <tbody>\n",
       "    <tr>\n",
       "      <th>38</th>\n",
       "      <td>765395769549590528</td>\n",
       "      <td>https://pbs.twimg.com/media/Cp87Y0jXYAQyjuV.jpg</td>\n",
       "      <td>Pembroke</td>\n",
       "      <td>0.509491</td>\n",
       "      <td>14</td>\n",
       "      <td>10</td>\n",
       "      <td>Zoey</td>\n",
       "      <td>doggo</td>\n",
       "    </tr>\n",
       "  </tbody>\n",
       "</table>\n",
       "</div>"
      ],
      "text/plain": [
       "              tweet_id                                  dog_picture_url  \\\n",
       "38  765395769549590528  https://pbs.twimg.com/media/Cp87Y0jXYAQyjuV.jpg   \n",
       "\n",
       "   dog_breed_prediction  dog_breed_prediction_confidence dog_rating_numerator  \\\n",
       "38             Pembroke                         0.509491                   14   \n",
       "\n",
       "    dog_rating_denominator dog_name dog_stage  \n",
       "38                      10     Zoey     doggo  "
      ]
     },
     "metadata": {},
     "output_type": "display_data"
    }
   ],
   "source": [
    "display(dogs_data.iloc[[78]])\n",
    "display(dogs_data.iloc[[99]])\n",
    "display(dogs_data.iloc[[188]])\n",
    "display(dogs_data.iloc[[611]])\n",
    "display(dogs_data.iloc[[38]])"
   ]
  },
  {
   "cell_type": "markdown",
   "metadata": {},
   "source": [
    "#### `image_predictions`: Lowercase and uppercase inconsistency in dog breeds names\n",
    "#### `image_predictions`: Dog breeds names with \"_\" separator\n",
    "**Note that those attributes are now in dogs_data table **"
   ]
  },
  {
   "cell_type": "markdown",
   "metadata": {},
   "source": [
    "Replace the underline symbol \"_\" by a white space \" \" using str.replace method.\n",
    "\n",
    "Assign capital letters for all begining words using str.title() method."
   ]
  },
  {
   "cell_type": "markdown",
   "metadata": {},
   "source": [
    "##### Code"
   ]
  },
  {
   "cell_type": "code",
   "execution_count": 60,
   "metadata": {},
   "outputs": [],
   "source": [
    "dogs_data['dog_breed_prediction'] = dogs_data['dog_breed_prediction'].str.replace(\"_\",\" \")\n",
    "dogs_data['dog_breed_prediction'] = dogs_data['dog_breed_prediction'].str.title()"
   ]
  },
  {
   "cell_type": "markdown",
   "metadata": {},
   "source": [
    "##### Test"
   ]
  },
  {
   "cell_type": "code",
   "execution_count": 61,
   "metadata": {
    "scrolled": true
   },
   "outputs": [
    {
     "data": {
      "text/plain": [
       "array(['Boston Bull', 'Chesapeake Bay Retriever', 'Old English Sheepdog',\n",
       "       'Labrador Retriever', 'Shetland Sheepdog', 'Kuvasz',\n",
       "       'Golden Retriever', 'Sussex Spaniel', 'Unknown', 'Samoyed',\n",
       "       'Blenheim Spaniel', 'French Bulldog', 'Standard Poodle',\n",
       "       'Norwegian Elkhound', 'Gordon Setter', 'Chow', 'Kelpie',\n",
       "       'Miniature Poodle', 'Malamute', 'German Shepherd',\n",
       "       'Bernese Mountain Dog', 'Dalmatian', 'Pembroke', 'Beagle',\n",
       "       'Welsh Springer Spaniel', 'Redbone', 'Toy Poodle', 'Keeshond',\n",
       "       'Doberman', 'Vizsla', 'Great Pyrenees', 'Basenji', 'Pomeranian',\n",
       "       'Pug', 'Miniature Pinscher', 'Italian Greyhound', 'Collie',\n",
       "       'Papillon', 'Chihuahua', 'Newfoundland', 'Basset', 'Silky Terrier',\n",
       "       'Eskimo Dog', 'Walker Hound', 'Rottweiler', 'Cocker Spaniel',\n",
       "       'Afghan Hound', 'Clumber', 'Airedale', 'Staffordshire Bullterrier',\n",
       "       'Great Dane', 'Saint Bernard', 'Siberian Husky',\n",
       "       'Mexican Hairless', 'Briard', 'Irish Setter', 'Cardigan',\n",
       "       'Lakeland Terrier', 'Leonberg', 'Schipperke', 'Malinois',\n",
       "       'Komondor', 'Yorkshire Terrier', 'Wire-Haired Fox Terrier',\n",
       "       'Pekinese', 'American Staffordshire Terrier',\n",
       "       'West Highland White Terrier', 'Norfolk Terrier', 'Border Collie',\n",
       "       'Tibetan Mastiff', 'Greater Swiss Mountain Dog', 'Norwich Terrier',\n",
       "       'Flat-Coated Retriever', 'Bull Mastiff', 'Toy Terrier', 'Saluki',\n",
       "       'Curly-Coated Retriever', 'Miniature Schnauzer', 'Border Terrier',\n",
       "       'Cairn', 'English Setter', 'Bedlington Terrier', 'Weimaraner',\n",
       "       'Boxer', 'Bloodhound', 'Whippet', 'Rhodesian Ridgeback',\n",
       "       'Soft-Coated Wheaten Terrier', 'Borzoi', 'Brittany Spaniel',\n",
       "       'Irish Water Spaniel', 'Dandie Dinmont', 'Giant Schnauzer',\n",
       "       'English Springer', 'Black-And-Tan Coonhound',\n",
       "       'Bouvier Des Flandres', 'Australian Terrier',\n",
       "       'German Short-Haired Pointer', 'Irish Terrier', 'Appenzeller'],\n",
       "      dtype=object)"
      ]
     },
     "execution_count": 61,
     "metadata": {},
     "output_type": "execute_result"
    }
   ],
   "source": [
    "dogs_data['dog_breed_prediction'].unique()"
   ]
  },
  {
   "cell_type": "markdown",
   "metadata": {},
   "source": [
    "# Storing Data"
   ]
  },
  {
   "cell_type": "markdown",
   "metadata": {},
   "source": [
    "In this project, two main datafram were created and cleaned for quality and tidness issues:\n",
    "- twitter_archive_clean\n",
    "- dogs_data\n",
    "\n",
    "Both dataframes will be stored in .csv files and in a SQLite database"
   ]
  },
  {
   "cell_type": "markdown",
   "metadata": {},
   "source": [
    "**Saving dataframes as .csv files**"
   ]
  },
  {
   "cell_type": "code",
   "execution_count": 62,
   "metadata": {},
   "outputs": [],
   "source": [
    "twitter_archive_clean.to_csv('twitter_archive_master.csv', index=False)\n",
    "dogs_data.to_csv('dogs_data_master.csv', index=False)"
   ]
  },
  {
   "cell_type": "markdown",
   "metadata": {},
   "source": [
    "Saving dataframes in SQLite database"
   ]
  },
  {
   "cell_type": "code",
   "execution_count": 63,
   "metadata": {},
   "outputs": [],
   "source": [
    "from sqlalchemy import create_engine"
   ]
  },
  {
   "cell_type": "code",
   "execution_count": 64,
   "metadata": {},
   "outputs": [],
   "source": [
    "# Create SQLAlchemy Engine and empty bestofrt database\n",
    "# bestofrt.db will not show up in the Jupyter Notebook dashboard yet\n",
    "engine = create_engine('sqlite:///weratedogs.db')"
   ]
  },
  {
   "cell_type": "code",
   "execution_count": 65,
   "metadata": {},
   "outputs": [],
   "source": [
    "twitter_archive_clean.to_sql('twitter_archive_master', engine, index=False, if_exists='replace')\n",
    "dogs_data.to_sql('dogs_data_master', engine, index=False, if_exists='replace')"
   ]
  },
  {
   "cell_type": "markdown",
   "metadata": {},
   "source": [
    "# Insights and Visualizations"
   ]
  },
  {
   "cell_type": "markdown",
   "metadata": {},
   "source": [
    "### Insight 1: Favorite tweet happened at Toronto's #WomensMarch"
   ]
  },
  {
   "cell_type": "code",
   "execution_count": 66,
   "metadata": {},
   "outputs": [],
   "source": [
    "#Reading data from both tables using SQL\n",
    "df = pd.read_sql('SELECT t.number_of_likes,'\n",
    "                        't.tweet_text,'\n",
    "                        'd.dog_breed_prediction,'\n",
    "                        'd.dog_breed_prediction_confidence,'  \n",
    "                        'd.dog_picture_url \\n'\n",
    "                 'FROM twitter_archive_master AS t \\n'\n",
    "                 'JOIN dogs_data_master AS d \\n'\n",
    "                 'ON t.tweet_id = d.tweet_id \\n'\n",
    "                 'ORDER BY 1 DESC \\n'\n",
    "                 'LIMIT 1', engine)"
   ]
  },
  {
   "cell_type": "code",
   "execution_count": 67,
   "metadata": {},
   "outputs": [
    {
     "data": {
      "text/html": [
       "<div>\n",
       "<style scoped>\n",
       "    .dataframe tbody tr th:only-of-type {\n",
       "        vertical-align: middle;\n",
       "    }\n",
       "\n",
       "    .dataframe tbody tr th {\n",
       "        vertical-align: top;\n",
       "    }\n",
       "\n",
       "    .dataframe thead th {\n",
       "        text-align: right;\n",
       "    }\n",
       "</style>\n",
       "<table border=\"1\" class=\"dataframe\">\n",
       "  <thead>\n",
       "    <tr style=\"text-align: right;\">\n",
       "      <th></th>\n",
       "      <th>number_of_likes</th>\n",
       "      <th>tweet_text</th>\n",
       "      <th>dog_breed_prediction</th>\n",
       "      <th>dog_breed_prediction_confidence</th>\n",
       "      <th>dog_picture_url</th>\n",
       "    </tr>\n",
       "  </thead>\n",
       "  <tbody>\n",
       "    <tr>\n",
       "      <th>0</th>\n",
       "      <td>140741</td>\n",
       "      <td>Here's a super supportive puppo participating in the Toronto  #WomensMarch today. 13/10 https://t.co/nTz3FtorBc</td>\n",
       "      <td>Lakeland Terrier</td>\n",
       "      <td>0.196015</td>\n",
       "      <td>https://pbs.twimg.com/media/C2tugXLXgAArJO4.jpg</td>\n",
       "    </tr>\n",
       "  </tbody>\n",
       "</table>\n",
       "</div>"
      ],
      "text/plain": [
       "   number_of_likes  \\\n",
       "0           140741   \n",
       "\n",
       "                                                                                                        tweet_text  \\\n",
       "0  Here's a super supportive puppo participating in the Toronto  #WomensMarch today. 13/10 https://t.co/nTz3FtorBc   \n",
       "\n",
       "  dog_breed_prediction  dog_breed_prediction_confidence  \\\n",
       "0     Lakeland Terrier                         0.196015   \n",
       "\n",
       "                                   dog_picture_url  \n",
       "0  https://pbs.twimg.com/media/C2tugXLXgAArJO4.jpg  "
      ]
     },
     "execution_count": 67,
     "metadata": {},
     "output_type": "execute_result"
    }
   ],
   "source": [
    "#Testing\n",
    "df.head()"
   ]
  },
  {
   "cell_type": "markdown",
   "metadata": {},
   "source": [
    "#### The favorite post of this database contains 140741 likes and was taken in Toronto's #WomensMarch that happened in 2017-01-21. The dog has a 19.6% chance of being a Lakeland Terrier."
   ]
  },
  {
   "cell_type": "code",
   "execution_count": 68,
   "metadata": {},
   "outputs": [
    {
     "data": {
      "image/png": "[encoded data removed]",
      "text/plain": [
       "<Figure size 432x288 with 1 Axes>"
      ]
     },
     "metadata": {},
     "output_type": "display_data"
    },
    {
     "data": {
      "image/png": "[encoded data removed]",
      "text/plain": [
       "<Figure size 432x288 with 1 Axes>"
      ]
     },
     "metadata": {},
     "output_type": "display_data"
    }
   ],
   "source": [
    "#Downloading Dog Image\n",
    "image_url = df.dog_picture_url[0]\n",
    "r = requests.get(image_url)\n",
    "i = Image.open(BytesIO(r.content))\n",
    "\n",
    "text = df.tweet_text[0][:74]\n",
    "cloud = wordcloud.WordCloud(background_color=\"white\").generate(text)\n",
    "plt.imshow(cloud)\n",
    "plt.axis(\"off\")\n",
    "plt.figure()\n",
    "plt.imshow(i)\n",
    "plt.axis(\"off\")\n",
    "plt.show()"
   ]
  },
  {
   "cell_type": "markdown",
   "metadata": {},
   "source": [
    "### Insight 2: The Retriever family is the one that appear most in tweets!"
   ]
  },
  {
   "cell_type": "code",
   "execution_count": 69,
   "metadata": {},
   "outputs": [],
   "source": [
    "#Reading data using SQL\n",
    "df = pd.read_sql('SELECT d.dog_breed_prediction,'\n",
    "                        'COUNT(d.dog_breed_prediction_confidence)'\n",
    "                        'FROM twitter_archive_master AS t \\n'\n",
    "                 'JOIN dogs_data_master AS d \\n'\n",
    "                 'ON t.tweet_id = d.tweet_id \\n'\n",
    "                 'GROUP BY 1 \\n'\n",
    "                 'HAVING d.dog_breed_prediction NOT LIKE \\'Unknown\\' \\n'\n",
    "                 'ORDER BY 2 DESC \\n'\n",
    "                 'LIMIT 10', engine)\n",
    "\n",
    "#Change dataframe columns names\n",
    "df.columns = ['dog_breed_prediction','number_of_occurrences']\n",
    "total_occurrence = sum(df.number_of_occurrences)"
   ]
  },
  {
   "cell_type": "code",
   "execution_count": 70,
   "metadata": {},
   "outputs": [
    {
     "data": {
      "text/html": [
       "<div>\n",
       "<style scoped>\n",
       "    .dataframe tbody tr th:only-of-type {\n",
       "        vertical-align: middle;\n",
       "    }\n",
       "\n",
       "    .dataframe tbody tr th {\n",
       "        vertical-align: top;\n",
       "    }\n",
       "\n",
       "    .dataframe thead th {\n",
       "        text-align: right;\n",
       "    }\n",
       "</style>\n",
       "<table border=\"1\" class=\"dataframe\">\n",
       "  <thead>\n",
       "    <tr style=\"text-align: right;\">\n",
       "      <th></th>\n",
       "      <th>dog_breed_prediction</th>\n",
       "      <th>number_of_occurrences</th>\n",
       "    </tr>\n",
       "  </thead>\n",
       "  <tbody>\n",
       "    <tr>\n",
       "      <th>0</th>\n",
       "      <td>Golden Retriever</td>\n",
       "      <td>76</td>\n",
       "    </tr>\n",
       "    <tr>\n",
       "      <th>1</th>\n",
       "      <td>Labrador Retriever</td>\n",
       "      <td>43</td>\n",
       "    </tr>\n",
       "    <tr>\n",
       "      <th>2</th>\n",
       "      <td>Pembroke</td>\n",
       "      <td>39</td>\n",
       "    </tr>\n",
       "    <tr>\n",
       "      <th>3</th>\n",
       "      <td>Chihuahua</td>\n",
       "      <td>22</td>\n",
       "    </tr>\n",
       "    <tr>\n",
       "      <th>4</th>\n",
       "      <td>Chow</td>\n",
       "      <td>22</td>\n",
       "    </tr>\n",
       "    <tr>\n",
       "      <th>5</th>\n",
       "      <td>French Bulldog</td>\n",
       "      <td>17</td>\n",
       "    </tr>\n",
       "    <tr>\n",
       "      <th>6</th>\n",
       "      <td>Samoyed</td>\n",
       "      <td>17</td>\n",
       "    </tr>\n",
       "    <tr>\n",
       "      <th>7</th>\n",
       "      <td>Cocker Spaniel</td>\n",
       "      <td>15</td>\n",
       "    </tr>\n",
       "    <tr>\n",
       "      <th>8</th>\n",
       "      <td>Malamute</td>\n",
       "      <td>14</td>\n",
       "    </tr>\n",
       "    <tr>\n",
       "      <th>9</th>\n",
       "      <td>German Shepherd</td>\n",
       "      <td>12</td>\n",
       "    </tr>\n",
       "  </tbody>\n",
       "</table>\n",
       "</div>"
      ],
      "text/plain": [
       "  dog_breed_prediction  number_of_occurrences\n",
       "0     Golden Retriever                     76\n",
       "1   Labrador Retriever                     43\n",
       "2             Pembroke                     39\n",
       "3            Chihuahua                     22\n",
       "4                 Chow                     22\n",
       "5       French Bulldog                     17\n",
       "6              Samoyed                     17\n",
       "7       Cocker Spaniel                     15\n",
       "8             Malamute                     14\n",
       "9      German Shepherd                     12"
      ]
     },
     "execution_count": 70,
     "metadata": {},
     "output_type": "execute_result"
    }
   ],
   "source": [
    "#Testing\n",
    "df.head(20)"
   ]
  },
  {
   "cell_type": "code",
   "execution_count": 71,
   "metadata": {},
   "outputs": [
    {
     "data": {
      "image/png": "[encoded data removed]",
      "text/plain": [
       "<Figure size 1296x432 with 1 Axes>"
      ]
     },
     "metadata": {},
     "output_type": "display_data"
    }
   ],
   "source": [
    "#Bar plot\n",
    "a4_dims = (18, 6);\n",
    "fig, ax = plt.subplots(figsize=a4_dims);\n",
    "ax = sns.barplot(x=\"dog_breed_prediction\", y=\"number_of_occurrences\",data=df);\n",
    "ax.set(xlabel='Dog Breed', ylabel='Number of Dogs');\n",
    "plt.title('Top 10 Recognized Breeds');"
   ]
  },
  {
   "cell_type": "markdown",
   "metadata": {},
   "source": [
    "### Insight 3: With the amount of data we have in hands, we can see that the highest amount of retweets occurred in january for 2017 and in october for 2016"
   ]
  },
  {
   "cell_type": "code",
   "execution_count": 72,
   "metadata": {},
   "outputs": [],
   "source": [
    "#Reading data using SQL to obtain tweet dates and total amount of retweets and likes\n",
    "df = pd.read_sql('SELECT STRFTIME(\\'%Y\\', t.tweet_date) as tweet_year,'\n",
    "                        'STRFTIME(\\'%m\\', t.tweet_date) as tweet_month,'\n",
    "                        'SUM(number_of_retweets) AS total_retweets,'\n",
    "                        'SUM(number_of_likes) AS total_likes \\n'\n",
    "                 'FROM twitter_archive_master AS t \\n'\n",
    "                 'GROUP BY 1,2', engine)\n",
    "\n",
    "#Correcting dataframe data types:\n",
    "df['tweet_year'] = df['tweet_year'].astype(int)\n",
    "df['tweet_month'] = df['tweet_month'].astype(int)"
   ]
  },
  {
   "cell_type": "code",
   "execution_count": 73,
   "metadata": {
    "scrolled": true
   },
   "outputs": [
    {
     "data": {
      "text/html": [
       "<div>\n",
       "<style scoped>\n",
       "    .dataframe tbody tr th:only-of-type {\n",
       "        vertical-align: middle;\n",
       "    }\n",
       "\n",
       "    .dataframe tbody tr th {\n",
       "        vertical-align: top;\n",
       "    }\n",
       "\n",
       "    .dataframe thead th {\n",
       "        text-align: right;\n",
       "    }\n",
       "</style>\n",
       "<table border=\"1\" class=\"dataframe\">\n",
       "  <thead>\n",
       "    <tr style=\"text-align: right;\">\n",
       "      <th></th>\n",
       "      <th>tweet_year</th>\n",
       "      <th>tweet_month</th>\n",
       "      <th>total_retweets</th>\n",
       "      <th>total_likes</th>\n",
       "    </tr>\n",
       "  </thead>\n",
       "  <tbody>\n",
       "    <tr>\n",
       "      <th>0</th>\n",
       "      <td>2016</td>\n",
       "      <td>6</td>\n",
       "      <td>1711</td>\n",
       "      <td>5142</td>\n",
       "    </tr>\n",
       "    <tr>\n",
       "      <th>1</th>\n",
       "      <td>2016</td>\n",
       "      <td>7</td>\n",
       "      <td>22604</td>\n",
       "      <td>73598</td>\n",
       "    </tr>\n",
       "    <tr>\n",
       "      <th>2</th>\n",
       "      <td>2016</td>\n",
       "      <td>8</td>\n",
       "      <td>209407</td>\n",
       "      <td>606122</td>\n",
       "    </tr>\n",
       "    <tr>\n",
       "      <th>3</th>\n",
       "      <td>2016</td>\n",
       "      <td>9</td>\n",
       "      <td>235332</td>\n",
       "      <td>734546</td>\n",
       "    </tr>\n",
       "    <tr>\n",
       "      <th>4</th>\n",
       "      <td>2016</td>\n",
       "      <td>10</td>\n",
       "      <td>320184</td>\n",
       "      <td>969853</td>\n",
       "    </tr>\n",
       "    <tr>\n",
       "      <th>5</th>\n",
       "      <td>2016</td>\n",
       "      <td>11</td>\n",
       "      <td>247874</td>\n",
       "      <td>767545</td>\n",
       "    </tr>\n",
       "    <tr>\n",
       "      <th>6</th>\n",
       "      <td>2016</td>\n",
       "      <td>12</td>\n",
       "      <td>314323</td>\n",
       "      <td>942284</td>\n",
       "    </tr>\n",
       "    <tr>\n",
       "      <th>7</th>\n",
       "      <td>2017</td>\n",
       "      <td>1</td>\n",
       "      <td>406773</td>\n",
       "      <td>1280248</td>\n",
       "    </tr>\n",
       "    <tr>\n",
       "      <th>8</th>\n",
       "      <td>2017</td>\n",
       "      <td>2</td>\n",
       "      <td>276185</td>\n",
       "      <td>1199227</td>\n",
       "    </tr>\n",
       "    <tr>\n",
       "      <th>9</th>\n",
       "      <td>2017</td>\n",
       "      <td>3</td>\n",
       "      <td>247653</td>\n",
       "      <td>1057727</td>\n",
       "    </tr>\n",
       "    <tr>\n",
       "      <th>10</th>\n",
       "      <td>2017</td>\n",
       "      <td>4</td>\n",
       "      <td>236190</td>\n",
       "      <td>978892</td>\n",
       "    </tr>\n",
       "    <tr>\n",
       "      <th>11</th>\n",
       "      <td>2017</td>\n",
       "      <td>5</td>\n",
       "      <td>322189</td>\n",
       "      <td>1266701</td>\n",
       "    </tr>\n",
       "    <tr>\n",
       "      <th>12</th>\n",
       "      <td>2017</td>\n",
       "      <td>6</td>\n",
       "      <td>299320</td>\n",
       "      <td>1348693</td>\n",
       "    </tr>\n",
       "    <tr>\n",
       "      <th>13</th>\n",
       "      <td>2017</td>\n",
       "      <td>7</td>\n",
       "      <td>348048</td>\n",
       "      <td>1628015</td>\n",
       "    </tr>\n",
       "    <tr>\n",
       "      <th>14</th>\n",
       "      <td>2017</td>\n",
       "      <td>8</td>\n",
       "      <td>14510</td>\n",
       "      <td>70851</td>\n",
       "    </tr>\n",
       "  </tbody>\n",
       "</table>\n",
       "</div>"
      ],
      "text/plain": [
       "    tweet_year  tweet_month  total_retweets  total_likes\n",
       "0         2016            6            1711         5142\n",
       "1         2016            7           22604        73598\n",
       "2         2016            8          209407       606122\n",
       "3         2016            9          235332       734546\n",
       "4         2016           10          320184       969853\n",
       "5         2016           11          247874       767545\n",
       "6         2016           12          314323       942284\n",
       "7         2017            1          406773      1280248\n",
       "8         2017            2          276185      1199227\n",
       "9         2017            3          247653      1057727\n",
       "10        2017            4          236190       978892\n",
       "11        2017            5          322189      1266701\n",
       "12        2017            6          299320      1348693\n",
       "13        2017            7          348048      1628015\n",
       "14        2017            8           14510        70851"
      ]
     },
     "execution_count": 73,
     "metadata": {},
     "output_type": "execute_result"
    }
   ],
   "source": [
    "df.head(20)"
   ]
  },
  {
   "cell_type": "code",
   "execution_count": 74,
   "metadata": {},
   "outputs": [],
   "source": [
    "#Fill missing months\n",
    "missing_values = {'tweet_year':[2016,2016,2016,2016,2016,2017,2017,2017,2017],\n",
    "                  'tweet_month': [1,2,3,4,5,9,10,11,12],\n",
    "                  'total_retweets': [0,0,0,0,0,0,0,0,0],\n",
    "                  'total_likes': [0,0,0,0,0,0,0,0,0]}\n",
    "#Creating a new dataframe with the missing values\n",
    "missing_values_df = pd.DataFrame.from_dict(missing_values)\n",
    "#Reordering the columns\n",
    "missing_values_df = missing_values_df[['tweet_year','tweet_month','total_retweets','total_likes']]"
   ]
  },
  {
   "cell_type": "code",
   "execution_count": 75,
   "metadata": {
    "scrolled": true
   },
   "outputs": [
    {
     "data": {
      "text/html": [
       "<div>\n",
       "<style scoped>\n",
       "    .dataframe tbody tr th:only-of-type {\n",
       "        vertical-align: middle;\n",
       "    }\n",
       "\n",
       "    .dataframe tbody tr th {\n",
       "        vertical-align: top;\n",
       "    }\n",
       "\n",
       "    .dataframe thead th {\n",
       "        text-align: right;\n",
       "    }\n",
       "</style>\n",
       "<table border=\"1\" class=\"dataframe\">\n",
       "  <thead>\n",
       "    <tr style=\"text-align: right;\">\n",
       "      <th></th>\n",
       "      <th>tweet_year</th>\n",
       "      <th>tweet_month</th>\n",
       "      <th>total_retweets</th>\n",
       "      <th>total_likes</th>\n",
       "    </tr>\n",
       "  </thead>\n",
       "  <tbody>\n",
       "    <tr>\n",
       "      <th>0</th>\n",
       "      <td>2016</td>\n",
       "      <td>1</td>\n",
       "      <td>0</td>\n",
       "      <td>0</td>\n",
       "    </tr>\n",
       "    <tr>\n",
       "      <th>1</th>\n",
       "      <td>2016</td>\n",
       "      <td>2</td>\n",
       "      <td>0</td>\n",
       "      <td>0</td>\n",
       "    </tr>\n",
       "    <tr>\n",
       "      <th>2</th>\n",
       "      <td>2016</td>\n",
       "      <td>3</td>\n",
       "      <td>0</td>\n",
       "      <td>0</td>\n",
       "    </tr>\n",
       "    <tr>\n",
       "      <th>3</th>\n",
       "      <td>2016</td>\n",
       "      <td>4</td>\n",
       "      <td>0</td>\n",
       "      <td>0</td>\n",
       "    </tr>\n",
       "    <tr>\n",
       "      <th>4</th>\n",
       "      <td>2016</td>\n",
       "      <td>5</td>\n",
       "      <td>0</td>\n",
       "      <td>0</td>\n",
       "    </tr>\n",
       "    <tr>\n",
       "      <th>5</th>\n",
       "      <td>2017</td>\n",
       "      <td>9</td>\n",
       "      <td>0</td>\n",
       "      <td>0</td>\n",
       "    </tr>\n",
       "    <tr>\n",
       "      <th>6</th>\n",
       "      <td>2017</td>\n",
       "      <td>10</td>\n",
       "      <td>0</td>\n",
       "      <td>0</td>\n",
       "    </tr>\n",
       "    <tr>\n",
       "      <th>7</th>\n",
       "      <td>2017</td>\n",
       "      <td>11</td>\n",
       "      <td>0</td>\n",
       "      <td>0</td>\n",
       "    </tr>\n",
       "    <tr>\n",
       "      <th>8</th>\n",
       "      <td>2017</td>\n",
       "      <td>12</td>\n",
       "      <td>0</td>\n",
       "      <td>0</td>\n",
       "    </tr>\n",
       "  </tbody>\n",
       "</table>\n",
       "</div>"
      ],
      "text/plain": [
       "   tweet_year  tweet_month  total_retweets  total_likes\n",
       "0        2016            1               0            0\n",
       "1        2016            2               0            0\n",
       "2        2016            3               0            0\n",
       "3        2016            4               0            0\n",
       "4        2016            5               0            0\n",
       "5        2017            9               0            0\n",
       "6        2017           10               0            0\n",
       "7        2017           11               0            0\n",
       "8        2017           12               0            0"
      ]
     },
     "execution_count": 75,
     "metadata": {},
     "output_type": "execute_result"
    }
   ],
   "source": [
    "missing_values_df.head(10)"
   ]
  },
  {
   "cell_type": "code",
   "execution_count": 76,
   "metadata": {
    "scrolled": true
   },
   "outputs": [
    {
     "data": {
      "text/html": [
       "<div>\n",
       "<style scoped>\n",
       "    .dataframe tbody tr th:only-of-type {\n",
       "        vertical-align: middle;\n",
       "    }\n",
       "\n",
       "    .dataframe tbody tr th {\n",
       "        vertical-align: top;\n",
       "    }\n",
       "\n",
       "    .dataframe thead th {\n",
       "        text-align: right;\n",
       "    }\n",
       "</style>\n",
       "<table border=\"1\" class=\"dataframe\">\n",
       "  <thead>\n",
       "    <tr style=\"text-align: right;\">\n",
       "      <th></th>\n",
       "      <th>tweet_year</th>\n",
       "      <th>tweet_month</th>\n",
       "      <th>total_retweets</th>\n",
       "      <th>total_likes</th>\n",
       "    </tr>\n",
       "  </thead>\n",
       "  <tbody>\n",
       "    <tr>\n",
       "      <th>0</th>\n",
       "      <td>2016</td>\n",
       "      <td>6</td>\n",
       "      <td>1711</td>\n",
       "      <td>5142</td>\n",
       "    </tr>\n",
       "    <tr>\n",
       "      <th>1</th>\n",
       "      <td>2016</td>\n",
       "      <td>7</td>\n",
       "      <td>22604</td>\n",
       "      <td>73598</td>\n",
       "    </tr>\n",
       "    <tr>\n",
       "      <th>2</th>\n",
       "      <td>2016</td>\n",
       "      <td>8</td>\n",
       "      <td>209407</td>\n",
       "      <td>606122</td>\n",
       "    </tr>\n",
       "    <tr>\n",
       "      <th>3</th>\n",
       "      <td>2016</td>\n",
       "      <td>9</td>\n",
       "      <td>235332</td>\n",
       "      <td>734546</td>\n",
       "    </tr>\n",
       "    <tr>\n",
       "      <th>4</th>\n",
       "      <td>2016</td>\n",
       "      <td>10</td>\n",
       "      <td>320184</td>\n",
       "      <td>969853</td>\n",
       "    </tr>\n",
       "    <tr>\n",
       "      <th>5</th>\n",
       "      <td>2016</td>\n",
       "      <td>11</td>\n",
       "      <td>247874</td>\n",
       "      <td>767545</td>\n",
       "    </tr>\n",
       "    <tr>\n",
       "      <th>6</th>\n",
       "      <td>2016</td>\n",
       "      <td>12</td>\n",
       "      <td>314323</td>\n",
       "      <td>942284</td>\n",
       "    </tr>\n",
       "    <tr>\n",
       "      <th>7</th>\n",
       "      <td>2017</td>\n",
       "      <td>1</td>\n",
       "      <td>406773</td>\n",
       "      <td>1280248</td>\n",
       "    </tr>\n",
       "    <tr>\n",
       "      <th>8</th>\n",
       "      <td>2017</td>\n",
       "      <td>2</td>\n",
       "      <td>276185</td>\n",
       "      <td>1199227</td>\n",
       "    </tr>\n",
       "    <tr>\n",
       "      <th>9</th>\n",
       "      <td>2017</td>\n",
       "      <td>3</td>\n",
       "      <td>247653</td>\n",
       "      <td>1057727</td>\n",
       "    </tr>\n",
       "    <tr>\n",
       "      <th>10</th>\n",
       "      <td>2017</td>\n",
       "      <td>4</td>\n",
       "      <td>236190</td>\n",
       "      <td>978892</td>\n",
       "    </tr>\n",
       "    <tr>\n",
       "      <th>11</th>\n",
       "      <td>2017</td>\n",
       "      <td>5</td>\n",
       "      <td>322189</td>\n",
       "      <td>1266701</td>\n",
       "    </tr>\n",
       "    <tr>\n",
       "      <th>12</th>\n",
       "      <td>2017</td>\n",
       "      <td>6</td>\n",
       "      <td>299320</td>\n",
       "      <td>1348693</td>\n",
       "    </tr>\n",
       "    <tr>\n",
       "      <th>13</th>\n",
       "      <td>2017</td>\n",
       "      <td>7</td>\n",
       "      <td>348048</td>\n",
       "      <td>1628015</td>\n",
       "    </tr>\n",
       "    <tr>\n",
       "      <th>14</th>\n",
       "      <td>2017</td>\n",
       "      <td>8</td>\n",
       "      <td>14510</td>\n",
       "      <td>70851</td>\n",
       "    </tr>\n",
       "    <tr>\n",
       "      <th>15</th>\n",
       "      <td>2016</td>\n",
       "      <td>1</td>\n",
       "      <td>0</td>\n",
       "      <td>0</td>\n",
       "    </tr>\n",
       "    <tr>\n",
       "      <th>16</th>\n",
       "      <td>2016</td>\n",
       "      <td>2</td>\n",
       "      <td>0</td>\n",
       "      <td>0</td>\n",
       "    </tr>\n",
       "    <tr>\n",
       "      <th>17</th>\n",
       "      <td>2016</td>\n",
       "      <td>3</td>\n",
       "      <td>0</td>\n",
       "      <td>0</td>\n",
       "    </tr>\n",
       "    <tr>\n",
       "      <th>18</th>\n",
       "      <td>2016</td>\n",
       "      <td>4</td>\n",
       "      <td>0</td>\n",
       "      <td>0</td>\n",
       "    </tr>\n",
       "    <tr>\n",
       "      <th>19</th>\n",
       "      <td>2016</td>\n",
       "      <td>5</td>\n",
       "      <td>0</td>\n",
       "      <td>0</td>\n",
       "    </tr>\n",
       "    <tr>\n",
       "      <th>20</th>\n",
       "      <td>2017</td>\n",
       "      <td>9</td>\n",
       "      <td>0</td>\n",
       "      <td>0</td>\n",
       "    </tr>\n",
       "    <tr>\n",
       "      <th>21</th>\n",
       "      <td>2017</td>\n",
       "      <td>10</td>\n",
       "      <td>0</td>\n",
       "      <td>0</td>\n",
       "    </tr>\n",
       "    <tr>\n",
       "      <th>22</th>\n",
       "      <td>2017</td>\n",
       "      <td>11</td>\n",
       "      <td>0</td>\n",
       "      <td>0</td>\n",
       "    </tr>\n",
       "    <tr>\n",
       "      <th>23</th>\n",
       "      <td>2017</td>\n",
       "      <td>12</td>\n",
       "      <td>0</td>\n",
       "      <td>0</td>\n",
       "    </tr>\n",
       "  </tbody>\n",
       "</table>\n",
       "</div>"
      ],
      "text/plain": [
       "    tweet_year  tweet_month  total_retweets  total_likes\n",
       "0         2016            6            1711         5142\n",
       "1         2016            7           22604        73598\n",
       "2         2016            8          209407       606122\n",
       "3         2016            9          235332       734546\n",
       "4         2016           10          320184       969853\n",
       "5         2016           11          247874       767545\n",
       "6         2016           12          314323       942284\n",
       "7         2017            1          406773      1280248\n",
       "8         2017            2          276185      1199227\n",
       "9         2017            3          247653      1057727\n",
       "10        2017            4          236190       978892\n",
       "11        2017            5          322189      1266701\n",
       "12        2017            6          299320      1348693\n",
       "13        2017            7          348048      1628015\n",
       "14        2017            8           14510        70851\n",
       "15        2016            1               0            0\n",
       "16        2016            2               0            0\n",
       "17        2016            3               0            0\n",
       "18        2016            4               0            0\n",
       "19        2016            5               0            0\n",
       "20        2017            9               0            0\n",
       "21        2017           10               0            0\n",
       "22        2017           11               0            0\n",
       "23        2017           12               0            0"
      ]
     },
     "execution_count": 76,
     "metadata": {},
     "output_type": "execute_result"
    }
   ],
   "source": [
    "#Append the new dataframe with the original one\n",
    "df.append(missing_values_df,ignore_index=True)"
   ]
  },
  {
   "cell_type": "code",
   "execution_count": 77,
   "metadata": {},
   "outputs": [
    {
     "data": {
      "image/png": "[encoded data removed]",
      "text/plain": [
       "<Figure size 1296x432 with 1 Axes>"
      ]
     },
     "metadata": {},
     "output_type": "display_data"
    }
   ],
   "source": [
    "#Bar plot\n",
    "a4_dims = (18, 6);\n",
    "fig, ax = plt.subplots(figsize=a4_dims);\n",
    "ax = sns.barplot(x=\"tweet_month\", y=\"total_retweets\", hue=\"tweet_year\", data=df)\n",
    "ax.set(xlabel='Months', ylabel='Total of Retweets');\n",
    "plt.title('Total of Retweets in 2016 and 2017');"
   ]
  },
  {
   "cell_type": "markdown",
   "metadata": {},
   "source": [
    "# Future Analyses\n",
    "\n",
    "More cleaning could be done in this data. Some aspects that could be analysed as listed bellow:\n",
    "\n",
    "- Multiple dog stage classification for the same dog (Ex.: doggo and puppo for the same dog)\n",
    "- Links and emoticons in the tweet texts\n",
    "- Outliers in the dog ranking numerator (probably due to typing error)\n",
    "- Null values for attributes such as dog_stage and dog_picture_url\n",
    "- Unknown values for dog_stage could be identified through Regular Expressions"
   ]
  },
  {
   "cell_type": "code",
   "execution_count": null,
   "metadata": {},
   "outputs": [],
   "source": []
  }
 ],
 "metadata": {
  "kernelspec": {
   "display_name": "Python [conda env:anaconda3]",
   "language": "python",
   "name": "conda-env-anaconda3-py"
  },
  "language_info": {
   "codemirror_mode": {
    "name": "ipython",
    "version": 3
   },
   "file_extension": ".py",
   "mimetype": "text/x-python",
   "name": "python",
   "nbconvert_exporter": "python",
   "pygments_lexer": "ipython3",
   "version": "3.6.5"
  }
 },
 "nbformat": 4,
 "nbformat_minor": 2
}
